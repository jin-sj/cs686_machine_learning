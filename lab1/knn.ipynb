{
 "cells": [
  {
   "cell_type": "code",
   "execution_count": 22,
   "metadata": {},
   "outputs": [],
   "source": [
    "from sklearn.neighbors import KNeighborsClassifier\n",
    "from sklearn.metrics import accuracy_score\n",
    "import pandas as pd\n",
    "import numpy as np"
   ]
  },
  {
   "cell_type": "code",
   "execution_count": 10,
   "metadata": {},
   "outputs": [],
   "source": [
    "train_df = pd.read_csv(\"/Users/sjjin/class/cs686/knn/iris-train.data\", header=None)\n",
    "test_df = pd.read_csv(\"/Users/sjjin/class/cs686/knn/iris-test.data\", header=None)"
   ]
  },
  {
   "cell_type": "code",
   "execution_count": 18,
   "metadata": {},
   "outputs": [],
   "source": [
    "train_x = train_df.iloc[:, 0:4]\n",
    "train_y = train_df.iloc[:, -1]\n",
    "test_x = test_df.iloc[:, 0:4]\n",
    "test_y = test_df.iloc[:, -1]"
   ]
  },
  {
   "cell_type": "code",
   "execution_count": 42,
   "metadata": {},
   "outputs": [],
   "source": [
    "knn = KNeighborsClassifier(n_neighbors=3)\n",
    "knn.fit(train_x, train_y)\n",
    "hyp = knn.predict(test_x)"
   ]
  },
  {
   "cell_type": "code",
   "execution_count": 43,
   "metadata": {},
   "outputs": [
    {
     "data": {
      "text/plain": [
       "1.0"
      ]
     },
     "execution_count": 43,
     "metadata": {},
     "output_type": "execute_result"
    }
   ],
   "source": [
    "knn.score(test_x, test_y)"
   ]
  },
  {
   "cell_type": "code",
   "execution_count": 31,
   "metadata": {},
   "outputs": [],
   "source": [
    "spiral_train_df = pd.read_csv(\"/Users/sjjin/class/cs686/knn/spiral-train1.txt\", header=None)\n",
    "spiral_test_df = pd.read_csv(\"/Users/sjjin/class/cs686/knn/spiral-test.txt\", header=None)\n",
    "spiral_dev_df = pd.read_csv(\"/Users/sjjin/class/cs686/knn/spiral-dev.txt\", header=None)"
   ]
  },
  {
   "cell_type": "code",
   "execution_count": 38,
   "metadata": {},
   "outputs": [],
   "source": [
    "spiral_train_x = spiral_train_df.iloc[:, 0:2]\n",
    "spiral_train_y = spiral_train_df.iloc[:, -1]\n",
    "spiral_dev_x = spiral_dev_df.iloc[:, 0:2]\n",
    "spiral_dev_y = spiral_dev_df.iloc[:, -1]\n",
    "spiral_test_x = spiral_test_df.iloc[:, 0:2]\n",
    "spiral_test_y = spiral_test_df.iloc[:, -1]"
   ]
  },
  {
   "cell_type": "code",
   "execution_count": 51,
   "metadata": {},
   "outputs": [],
   "source": [
    "results = []\n",
    "for k in range(1, 20):\n",
    "    knn = KNeighborsClassifier(n_neighbors=k)\n",
    "    knn.fit(spiral_train_x, spiral_train_y)\n",
    "    hyp = knn.predict(spiral_dev_x)\n",
    "    results.append((k, knn.score(spiral_dev_x, spiral_dev_y)))"
   ]
  },
  {
   "cell_type": "code",
   "execution_count": 54,
   "metadata": {},
   "outputs": [
    {
     "data": {
      "text/plain": [
       "1.0"
      ]
     },
     "execution_count": 54,
     "metadata": {},
     "output_type": "execute_result"
    }
   ],
   "source": [
    "knn = KNeighborsClassifier(n_neighbors=3)\n",
    "knn.fit(spiral_train_x, spiral_train_y)\n",
    "hyp = knn.predict(spiral_test_x)\n",
    "knn.score(spiral_test_x, spiral_test_y)"
   ]
  },
  {
   "cell_type": "code",
   "execution_count": null,
   "metadata": {},
   "outputs": [],
   "source": []
  }
 ],
 "metadata": {
  "kernelspec": {
   "display_name": "Python 3",
   "language": "python",
   "name": "python3"
  },
  "language_info": {
   "codemirror_mode": {
    "name": "ipython",
    "version": 3
   },
   "file_extension": ".py",
   "mimetype": "text/x-python",
   "name": "python",
   "nbconvert_exporter": "python",
   "pygments_lexer": "ipython3",
   "version": "3.7.1"
  }
 },
 "nbformat": 4,
 "nbformat_minor": 2
}
