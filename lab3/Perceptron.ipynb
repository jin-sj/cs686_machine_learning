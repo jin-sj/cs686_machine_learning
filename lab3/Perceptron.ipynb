{
 "cells": [
  {
   "cell_type": "code",
   "execution_count": 10,
   "metadata": {},
   "outputs": [],
   "source": [
    "import random\n",
    "import matplotlib.pyplot as plt\n",
    "import numpy as np\n",
    "\n",
    "from classifier import classifier\n",
    "from sklearn.datasets import make_classification\n",
    "%matplotlib inline"
   ]
  },
  {
   "cell_type": "code",
   "execution_count": 38,
   "metadata": {},
   "outputs": [],
   "source": [
    "class Perceptron(classifier):\n",
    "    \"\"\" Constructor for perceptron class\n",
    "    :param learning_rate: The learning rate used for SGD\n",
    "    :param epochs: Number of epochs to run\n",
    "    :param activation: Activation function to be used\n",
    "                    relu: Use ReLU\n",
    "                    sigmoid: Use sigmoid\n",
    "    :param threshold: Threshold used for step function\n",
    "    \"\"\"\n",
    "    def __init__(self, learning_rate=0.001, epochs=1000, activation=\"sigmoid\", threshold=0.5):\n",
    "        super().__init__()\n",
    "        self.learning_rate = learning_rate\n",
    "        self.epochs = epochs\n",
    "        self.weights = None\n",
    "        self.bias = None\n",
    "        self.threshold = threshold\n",
    "\n",
    "        if activation == \"relu\":\n",
    "            self.activation = self.relu\n",
    "        elif activation == \"leaky_relu\":\n",
    "            self.activation = self.leaky_relu\n",
    "        elif activation == \"sigmoid\":\n",
    "            self.activation = self.sigmoid\n",
    "        else:\n",
    "            self.activation = self.step\n",
    "        \n",
    "    \"\"\" Fits the data using SGD \n",
    "    :param X: Input dataset\n",
    "    :param Y: Input labels\n",
    "    \"\"\"\n",
    "    \n",
    "    def fit(self, X, Y):\n",
    "        super().fit(X, Y)\n",
    "\n",
    "        self.weights = np.zeros(X.shape[1])\n",
    "        self.bias = 1\n",
    "        for i in range(self.epochs):\n",
    "            if (i % (self.epochs // 5) == 0):\n",
    "                print(\"Epoch: %d, weights: %s, bias: %s\" % (i, self.weights, self.bias))\n",
    "            for j in range(X.shape[0]):\n",
    "                self.sgd(X[j], Y[j])\n",
    "\n",
    "    \"\"\"Makes a prediction on a single data point\n",
    "    :param x: Single data point to make prediction on\n",
    "    :return: prediction\n",
    "    \"\"\"\n",
    "    \n",
    "    def _predict(self, x):\n",
    "        y = np.sum(self.weights * x + self.bias)\n",
    "        return self.activation(y)\n",
    "\n",
    "    \"\"\" Make prediction over whole data\n",
    "    :param X: Dataset\n",
    "    \"\"\"\n",
    "    def predict(self, X):\n",
    "        super().predict(X)\n",
    "        predictions = np.zeros(X.shape[0])\n",
    "        for i in range(X.shape[0]):\n",
    "            predictions[i] = self._predict(X[i])\n",
    "        return predictions\n",
    "\n",
    "    \"\"\"Stochastic gradeient descent with batch size 1\n",
    "    :param x: single row input\n",
    "    :param y: Label, truth value\n",
    "    \"\"\"\n",
    "    def sgd(self, x, y):\n",
    "        prediction = self._predict(x)\n",
    "        self.bias = self.bias + self.learning_rate * (y - prediction) * self.bias\n",
    "        self.weights = self.weights + self.learning_rate * (y - prediction) * x\n",
    "\n",
    "    \"\"\"ReLU\n",
    "    :param x: input value\n",
    "    :return: Value after applying ReLU\n",
    "    \"\"\"\n",
    "    def relu(self, x):\n",
    "        if x < 0:\n",
    "            return 0\n",
    "        return x\n",
    "    \"\"\"Leaky ReLU\n",
    "    :param x: input value\n",
    "    :return: Value after applying leaky relu\n",
    "    \"\"\"\n",
    "    def leaky_relu(self, x):\n",
    "        if x < 0:\n",
    "            return x * 0.01\n",
    "        else:\n",
    "            return x\n",
    "\n",
    "    \"\"\"Sigmoid\n",
    "    :param x: input value\n",
    "    :return: Value after applying sigmoid\n",
    "    \"\"\"\n",
    "    def sigmoid(self, x):\n",
    "        try:\n",
    "            y = np.exp(x) / (np.exp(x) + 1)\n",
    "        except Exception:\n",
    "            print(\"Problem with x: %s\" % str(x))\n",
    "        return y\n",
    "    \n",
    "    \"\"\"Step function, 1 if greater than threshold, 0 if less than threshold\n",
    "    :param x: input value\n",
    "    :return: Value after applying activation\n",
    "    \"\"\"\n",
    "    def step(self, x):\n",
    "        if x < self.threshold:\n",
    "            return 0\n",
    "        return 1\n"
   ]
  },
  {
   "cell_type": "code",
   "execution_count": 39,
   "metadata": {},
   "outputs": [],
   "source": [
    "def main():\n",
    "    seed = 0\n",
    "    learning_rate = 0.001\n",
    "    epochs = 1000\n",
    "    X, Y = make_classification(200, 2, 2, 0, weights=[.5, .5], random_state=seed)\n",
    "    perceptron = Perceptron(learning_rate=learning_rate, epochs=epochs, activation=\"relu\")\n",
    "    print(type(X))\n",
    "    perceptron.fit(X, Y)\n",
    "    predictions = perceptron.predict(X)\n",
    "    plt.scatter(X[:,0], X[:,1], c=Y)\n",
    "    x = np.linspace(-3.0, 3.0, num=100)\n",
    "    y1 = perceptron.weights[0] * x + perceptron.bias\n",
    "    plt.xlim(-3, 3)\n",
    "    plt.ylim(-3, 3)\n",
    "    plt.plot(x, y1)\n",
    "    plt.show()"
   ]
  },
  {
   "cell_type": "code",
   "execution_count": 40,
   "metadata": {
    "scrolled": false
   },
   "outputs": [
    {
     "name": "stdout",
     "output_type": "stream",
     "text": [
      "<class 'numpy.ndarray'>\n",
      "Epoch: 0, weights: [0. 0.], bias: 1\n"
     ]
    },
    {
     "name": "stderr",
     "output_type": "stream",
     "text": [
      "/anaconda3/lib/python3.7/site-packages/ipykernel_launcher.py:68: RuntimeWarning: overflow encountered in double_scalars\n",
      "/anaconda3/lib/python3.7/site-packages/ipykernel_launcher.py:49: RuntimeWarning: invalid value encountered in add\n"
     ]
    },
    {
     "name": "stdout",
     "output_type": "stream",
     "text": [
      "Epoch: 200, weights: [nan nan], bias: nan\n",
      "Epoch: 400, weights: [nan nan], bias: nan\n",
      "Epoch: 600, weights: [nan nan], bias: nan\n",
      "Epoch: 800, weights: [nan nan], bias: nan\n"
     ]
    },
    {
     "data": {
      "image/png": "[encoded data removed]",
      "text/plain": [
       "<Figure size 432x288 with 1 Axes>"
      ]
     },
     "metadata": {
      "needs_background": "light"
     },
     "output_type": "display_data"
    }
   ],
   "source": [
    "main()"
   ]
  },
  {
   "cell_type": "code",
   "execution_count": null,
   "metadata": {},
   "outputs": [],
   "source": []
  }
 ],
 "metadata": {
  "kernelspec": {
   "display_name": "Python 3",
   "language": "python",
   "name": "python3"
  },
  "language_info": {
   "codemirror_mode": {
    "name": "ipython",
    "version": 3
   },
   "file_extension": ".py",
   "mimetype": "text/x-python",
   "name": "python",
   "nbconvert_exporter": "python",
   "pygments_lexer": "ipython3",
   "version": "3.7.3"
  }
 },
 "nbformat": 4,
 "nbformat_minor": 2
}
