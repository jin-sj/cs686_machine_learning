{
 "cells": [
  {
   "cell_type": "markdown",
   "metadata": {},
   "source": [
    "# Homework Assignment #1"
   ]
  },
  {
   "cell_type": "markdown",
   "metadata": {},
   "source": [
    "*due Tuesday, February 5, 2019 by 11:59pm*\n",
    "\n",
    "This homework is worth **10 points** [100%] with the option to score **extra 1.5 points [15%]** if you submit the additional questions."
   ]
  },
  {
   "cell_type": "markdown",
   "metadata": {},
   "source": [
    "### n.b.\n",
    "All deliverables are required to be typed and all graphs and statistical output generated in Jupyter Notebook using Python and associated packages. Deliverables with *any* handwritten elements will not be accepted and will receive a grade of zero. \n",
    "\n",
    "You are required to upload the ```ipynb``` file to **your private GitHub repository within the MSCS686 organization** as the deliverable. Use the ```homework_01.ipynb``` file as a template and write the answers in text and include relevant code below each question. "
   ]
  },
  {
   "cell_type": "code",
   "execution_count": 1,
   "metadata": {},
   "outputs": [],
   "source": [
    "import os\n",
    "import numpy as np\n",
    "import pandas as pd\n",
    "import matplotlib.pyplot as plt\n",
    "import seaborn as sns\n",
    "%matplotlib inline"
   ]
  },
  {
   "cell_type": "markdown",
   "metadata": {},
   "source": [
    "### Data\n",
    "Make sure you completed the following:\n",
    "* Created `data` directory in the `hw1` folder\n",
    "* Downloaded the [housing data](https://s3-us-west-1.amazonaws.com/usfca-cs686-ml/hw1/housing.csv) to the `data` directory"
   ]
  },
  {
   "cell_type": "code",
   "execution_count": 2,
   "metadata": {},
   "outputs": [],
   "source": [
    "# Path to housing.csv\n",
    "data_path = os.path.join(\"data\", \"housing.csv\")\n",
    "\n",
    "if not os.path.exists(data_path):\n",
    "    print(\"Download data first!\")"
   ]
  },
  {
   "cell_type": "markdown",
   "metadata": {},
   "source": [
    "## Part 1: Read & clean data [total of 50%]"
   ]
  },
  {
   "cell_type": "markdown",
   "metadata": {},
   "source": [
    "#### 1.1 Read the data to a pandas DataFrame, print the first 7 entries [10%]\n",
    "**IMPORTANT**: Read the data so that **`Id`** is set as the index column.<br/>\n",
    "HINT: Refer to the [docs](https://pandas.pydata.org/pandas-docs/stable/index.html)"
   ]
  },
  {
   "cell_type": "code",
   "execution_count": 3,
   "metadata": {},
   "outputs": [
    {
     "name": "stdout",
     "output_type": "stream",
     "text": [
      "   Id  MSSubClass MSZoning  LotFrontage  LotArea Street Alley LotShape  \\\n",
      "0   1          60       RL         65.0     8450   Pave   NaN      Reg   \n",
      "1   2          20       RL         80.0     9600   Pave   NaN      Reg   \n",
      "2   3          60       RL         68.0    11250   Pave   NaN      IR1   \n",
      "3   4          70       RL         60.0     9550   Pave   NaN      IR1   \n",
      "4   5          60       RL         84.0    14260   Pave   NaN      IR1   \n",
      "5   6          50       RL         85.0    14115   Pave   NaN      IR1   \n",
      "6   7          20       RL         75.0    10084   Pave   NaN      Reg   \n",
      "\n",
      "  LandContour Utilities    ...     PoolArea PoolQC  Fence MiscFeature MiscVal  \\\n",
      "0         Lvl    AllPub    ...            0    NaN    NaN         NaN       0   \n",
      "1         Lvl    AllPub    ...            0    NaN    NaN         NaN       0   \n",
      "2         Lvl    AllPub    ...            0    NaN    NaN         NaN       0   \n",
      "3         Lvl    AllPub    ...            0    NaN    NaN         NaN       0   \n",
      "4         Lvl    AllPub    ...            0    NaN    NaN         NaN       0   \n",
      "5         Lvl    AllPub    ...            0    NaN  MnPrv        Shed     700   \n",
      "6         Lvl    AllPub    ...            0    NaN    NaN         NaN       0   \n",
      "\n",
      "  MoSold YrSold  SaleType  SaleCondition  SalePrice  \n",
      "0      2   2008        WD         Normal     208500  \n",
      "1      5   2007        WD         Normal     181500  \n",
      "2      9   2008        WD         Normal     223500  \n",
      "3      2   2006        WD        Abnorml     140000  \n",
      "4     12   2008        WD         Normal     250000  \n",
      "5     10   2009        WD         Normal     143000  \n",
      "6      8   2007        WD         Normal     307000  \n",
      "\n",
      "[7 rows x 81 columns]\n"
     ]
    }
   ],
   "source": [
    "df = pd.read_csv(data_path)\n",
    "print(df[:7])"
   ]
  },
  {
   "cell_type": "markdown",
   "metadata": {},
   "source": [
    "#### 1.2 Print the names of columns, and number of rows and columns in the DataFrame [10%]"
   ]
  },
  {
   "cell_type": "code",
   "execution_count": 4,
   "metadata": {
    "scrolled": true
   },
   "outputs": [
    {
     "name": "stdout",
     "output_type": "stream",
     "text": [
      "Index(['columns: Id', 'columns: MSSubClass', 'columns: MSZoning',\n",
      "       'columns: LotFrontage', 'columns: LotArea', 'columns: Street',\n",
      "       'columns: Alley', 'columns: LotShape', 'columns: LandContour',\n",
      "       'columns: Utilities', 'columns: LotConfig', 'columns: LandSlope',\n",
      "       'columns: Neighborhood', 'columns: Condition1', 'columns: Condition2',\n",
      "       'columns: BldgType', 'columns: HouseStyle', 'columns: OverallQual',\n",
      "       'columns: OverallCond', 'columns: YearBuilt', 'columns: YearRemodAdd',\n",
      "       'columns: RoofStyle', 'columns: RoofMatl', 'columns: Exterior1st',\n",
      "       'columns: Exterior2nd', 'columns: MasVnrType', 'columns: MasVnrArea',\n",
      "       'columns: ExterQual', 'columns: ExterCond', 'columns: Foundation',\n",
      "       'columns: BsmtQual', 'columns: BsmtCond', 'columns: BsmtExposure',\n",
      "       'columns: BsmtFinType1', 'columns: BsmtFinSF1', 'columns: BsmtFinType2',\n",
      "       'columns: BsmtFinSF2', 'columns: BsmtUnfSF', 'columns: TotalBsmtSF',\n",
      "       'columns: Heating', 'columns: HeatingQC', 'columns: CentralAir',\n",
      "       'columns: Electrical', 'columns: 1stFlrSF', 'columns: 2ndFlrSF',\n",
      "       'columns: LowQualFinSF', 'columns: GrLivArea', 'columns: BsmtFullBath',\n",
      "       'columns: BsmtHalfBath', 'columns: FullBath', 'columns: HalfBath',\n",
      "       'columns: BedroomAbvGr', 'columns: KitchenAbvGr',\n",
      "       'columns: KitchenQual', 'columns: TotRmsAbvGrd', 'columns: Functional',\n",
      "       'columns: Fireplaces', 'columns: FireplaceQu', 'columns: GarageType',\n",
      "       'columns: GarageYrBlt', 'columns: GarageFinish', 'columns: GarageCars',\n",
      "       'columns: GarageArea', 'columns: GarageQual', 'columns: GarageCond',\n",
      "       'columns: PavedDrive', 'columns: WoodDeckSF', 'columns: OpenPorchSF',\n",
      "       'columns: EnclosedPorch', 'columns: 3SsnPorch', 'columns: ScreenPorch',\n",
      "       'columns: PoolArea', 'columns: PoolQC', 'columns: Fence',\n",
      "       'columns: MiscFeature', 'columns: MiscVal', 'columns: MoSold',\n",
      "       'columns: YrSold', 'columns: SaleType', 'columns: SaleCondition',\n",
      "       'columns: SalePrice'],\n",
      "      dtype='object')\n",
      "num rows: 1460\n",
      "num col: 81\n"
     ]
    }
   ],
   "source": [
    "print(\"columns: \" + df.columns)\n",
    "print(\"num rows: %d\" % df.shape[0])\n",
    "print(\"num col: %d\" % df.shape[1])"
   ]
  },
  {
   "cell_type": "markdown",
   "metadata": {},
   "source": [
    "#### 1.3"
   ]
  },
  {
   "cell_type": "markdown",
   "metadata": {},
   "source": [
    "#### (a) Create a subset of original dataset with the  rows 200 to 1400 and the columns according to the list below. [5%]"
   ]
  },
  {
   "cell_type": "code",
   "execution_count": 5,
   "metadata": {},
   "outputs": [],
   "source": [
    "# DO NOT CHANGE THIS CELL\n",
    "cols = ['LotFrontage', 'LotArea', 'Neighborhood', 'OverallCond', 'YearBuilt', 'YrSold', 'GrLivArea', '1stFlrSF', '2ndFlrSF',\n",
    "       'SaleCondition', 'SalePrice']"
   ]
  },
  {
   "cell_type": "code",
   "execution_count": 6,
   "metadata": {},
   "outputs": [],
   "source": [
    "subset = df.loc[200:1400, cols]"
   ]
  },
  {
   "cell_type": "code",
   "execution_count": 7,
   "metadata": {
    "scrolled": true
   },
   "outputs": [
    {
     "data": {
      "text/html": [
       "<div>\n",
       "<style scoped>\n",
       "    .dataframe tbody tr th:only-of-type {\n",
       "        vertical-align: middle;\n",
       "    }\n",
       "\n",
       "    .dataframe tbody tr th {\n",
       "        vertical-align: top;\n",
       "    }\n",
       "\n",
       "    .dataframe thead th {\n",
       "        text-align: right;\n",
       "    }\n",
       "</style>\n",
       "<table border=\"1\" class=\"dataframe\">\n",
       "  <thead>\n",
       "    <tr style=\"text-align: right;\">\n",
       "      <th></th>\n",
       "      <th>LotFrontage</th>\n",
       "      <th>LotArea</th>\n",
       "      <th>Neighborhood</th>\n",
       "      <th>OverallCond</th>\n",
       "      <th>YearBuilt</th>\n",
       "      <th>YrSold</th>\n",
       "      <th>GrLivArea</th>\n",
       "      <th>1stFlrSF</th>\n",
       "      <th>2ndFlrSF</th>\n",
       "      <th>SaleCondition</th>\n",
       "      <th>SalePrice</th>\n",
       "    </tr>\n",
       "  </thead>\n",
       "  <tbody>\n",
       "    <tr>\n",
       "      <th>200</th>\n",
       "      <td>80.0</td>\n",
       "      <td>8546</td>\n",
       "      <td>Edwards</td>\n",
       "      <td>5</td>\n",
       "      <td>2003</td>\n",
       "      <td>2010</td>\n",
       "      <td>1121</td>\n",
       "      <td>1121</td>\n",
       "      <td>0</td>\n",
       "      <td>Normal</td>\n",
       "      <td>140000</td>\n",
       "    </tr>\n",
       "    <tr>\n",
       "      <th>201</th>\n",
       "      <td>75.0</td>\n",
       "      <td>10125</td>\n",
       "      <td>Mitchel</td>\n",
       "      <td>6</td>\n",
       "      <td>1977</td>\n",
       "      <td>2008</td>\n",
       "      <td>1279</td>\n",
       "      <td>1279</td>\n",
       "      <td>0</td>\n",
       "      <td>Normal</td>\n",
       "      <td>171500</td>\n",
       "    </tr>\n",
       "    <tr>\n",
       "      <th>202</th>\n",
       "      <td>50.0</td>\n",
       "      <td>7000</td>\n",
       "      <td>OldTown</td>\n",
       "      <td>6</td>\n",
       "      <td>1924</td>\n",
       "      <td>2006</td>\n",
       "      <td>1310</td>\n",
       "      <td>865</td>\n",
       "      <td>445</td>\n",
       "      <td>Normal</td>\n",
       "      <td>112000</td>\n",
       "    </tr>\n",
       "    <tr>\n",
       "      <th>203</th>\n",
       "      <td>NaN</td>\n",
       "      <td>4438</td>\n",
       "      <td>CollgCr</td>\n",
       "      <td>5</td>\n",
       "      <td>2004</td>\n",
       "      <td>2008</td>\n",
       "      <td>848</td>\n",
       "      <td>848</td>\n",
       "      <td>0</td>\n",
       "      <td>Normal</td>\n",
       "      <td>149000</td>\n",
       "    </tr>\n",
       "    <tr>\n",
       "      <th>204</th>\n",
       "      <td>50.0</td>\n",
       "      <td>3500</td>\n",
       "      <td>OldTown</td>\n",
       "      <td>7</td>\n",
       "      <td>1947</td>\n",
       "      <td>2009</td>\n",
       "      <td>1284</td>\n",
       "      <td>720</td>\n",
       "      <td>564</td>\n",
       "      <td>Normal</td>\n",
       "      <td>110000</td>\n",
       "    </tr>\n",
       "  </tbody>\n",
       "</table>\n",
       "</div>"
      ],
      "text/plain": [
       "     LotFrontage  LotArea Neighborhood  OverallCond  YearBuilt  YrSold  \\\n",
       "200         80.0     8546      Edwards            5       2003    2010   \n",
       "201         75.0    10125      Mitchel            6       1977    2008   \n",
       "202         50.0     7000      OldTown            6       1924    2006   \n",
       "203          NaN     4438      CollgCr            5       2004    2008   \n",
       "204         50.0     3500      OldTown            7       1947    2009   \n",
       "\n",
       "     GrLivArea  1stFlrSF  2ndFlrSF SaleCondition  SalePrice  \n",
       "200       1121      1121         0        Normal     140000  \n",
       "201       1279      1279         0        Normal     171500  \n",
       "202       1310       865       445        Normal     112000  \n",
       "203        848       848         0        Normal     149000  \n",
       "204       1284       720       564        Normal     110000  "
      ]
     },
     "execution_count": 7,
     "metadata": {},
     "output_type": "execute_result"
    }
   ],
   "source": [
    "subset.head(5)"
   ]
  },
  {
   "cell_type": "markdown",
   "metadata": {},
   "source": [
    "#### (b) Rename column`YrSold` to `YearSold` [5%]"
   ]
  },
  {
   "cell_type": "code",
   "execution_count": 8,
   "metadata": {
    "scrolled": true
   },
   "outputs": [],
   "source": [
    "subset.rename(columns={\"YrSold\": \"YearSold\"}, inplace=True)"
   ]
  },
  {
   "cell_type": "code",
   "execution_count": 9,
   "metadata": {},
   "outputs": [
    {
     "data": {
      "text/html": [
       "<div>\n",
       "<style scoped>\n",
       "    .dataframe tbody tr th:only-of-type {\n",
       "        vertical-align: middle;\n",
       "    }\n",
       "\n",
       "    .dataframe tbody tr th {\n",
       "        vertical-align: top;\n",
       "    }\n",
       "\n",
       "    .dataframe thead th {\n",
       "        text-align: right;\n",
       "    }\n",
       "</style>\n",
       "<table border=\"1\" class=\"dataframe\">\n",
       "  <thead>\n",
       "    <tr style=\"text-align: right;\">\n",
       "      <th></th>\n",
       "      <th>LotFrontage</th>\n",
       "      <th>LotArea</th>\n",
       "      <th>Neighborhood</th>\n",
       "      <th>OverallCond</th>\n",
       "      <th>YearBuilt</th>\n",
       "      <th>YearSold</th>\n",
       "      <th>GrLivArea</th>\n",
       "      <th>1stFlrSF</th>\n",
       "      <th>2ndFlrSF</th>\n",
       "      <th>SaleCondition</th>\n",
       "      <th>SalePrice</th>\n",
       "    </tr>\n",
       "  </thead>\n",
       "  <tbody>\n",
       "    <tr>\n",
       "      <th>200</th>\n",
       "      <td>80.0</td>\n",
       "      <td>8546</td>\n",
       "      <td>Edwards</td>\n",
       "      <td>5</td>\n",
       "      <td>2003</td>\n",
       "      <td>2010</td>\n",
       "      <td>1121</td>\n",
       "      <td>1121</td>\n",
       "      <td>0</td>\n",
       "      <td>Normal</td>\n",
       "      <td>140000</td>\n",
       "    </tr>\n",
       "    <tr>\n",
       "      <th>201</th>\n",
       "      <td>75.0</td>\n",
       "      <td>10125</td>\n",
       "      <td>Mitchel</td>\n",
       "      <td>6</td>\n",
       "      <td>1977</td>\n",
       "      <td>2008</td>\n",
       "      <td>1279</td>\n",
       "      <td>1279</td>\n",
       "      <td>0</td>\n",
       "      <td>Normal</td>\n",
       "      <td>171500</td>\n",
       "    </tr>\n",
       "    <tr>\n",
       "      <th>202</th>\n",
       "      <td>50.0</td>\n",
       "      <td>7000</td>\n",
       "      <td>OldTown</td>\n",
       "      <td>6</td>\n",
       "      <td>1924</td>\n",
       "      <td>2006</td>\n",
       "      <td>1310</td>\n",
       "      <td>865</td>\n",
       "      <td>445</td>\n",
       "      <td>Normal</td>\n",
       "      <td>112000</td>\n",
       "    </tr>\n",
       "    <tr>\n",
       "      <th>203</th>\n",
       "      <td>NaN</td>\n",
       "      <td>4438</td>\n",
       "      <td>CollgCr</td>\n",
       "      <td>5</td>\n",
       "      <td>2004</td>\n",
       "      <td>2008</td>\n",
       "      <td>848</td>\n",
       "      <td>848</td>\n",
       "      <td>0</td>\n",
       "      <td>Normal</td>\n",
       "      <td>149000</td>\n",
       "    </tr>\n",
       "    <tr>\n",
       "      <th>204</th>\n",
       "      <td>50.0</td>\n",
       "      <td>3500</td>\n",
       "      <td>OldTown</td>\n",
       "      <td>7</td>\n",
       "      <td>1947</td>\n",
       "      <td>2009</td>\n",
       "      <td>1284</td>\n",
       "      <td>720</td>\n",
       "      <td>564</td>\n",
       "      <td>Normal</td>\n",
       "      <td>110000</td>\n",
       "    </tr>\n",
       "  </tbody>\n",
       "</table>\n",
       "</div>"
      ],
      "text/plain": [
       "     LotFrontage  LotArea Neighborhood  OverallCond  YearBuilt  YearSold  \\\n",
       "200         80.0     8546      Edwards            5       2003      2010   \n",
       "201         75.0    10125      Mitchel            6       1977      2008   \n",
       "202         50.0     7000      OldTown            6       1924      2006   \n",
       "203          NaN     4438      CollgCr            5       2004      2008   \n",
       "204         50.0     3500      OldTown            7       1947      2009   \n",
       "\n",
       "     GrLivArea  1stFlrSF  2ndFlrSF SaleCondition  SalePrice  \n",
       "200       1121      1121         0        Normal     140000  \n",
       "201       1279      1279         0        Normal     171500  \n",
       "202       1310       865       445        Normal     112000  \n",
       "203        848       848         0        Normal     149000  \n",
       "204       1284       720       564        Normal     110000  "
      ]
     },
     "execution_count": 9,
     "metadata": {},
     "output_type": "execute_result"
    }
   ],
   "source": [
    "subset.head(5)"
   ]
  },
  {
   "cell_type": "markdown",
   "metadata": {},
   "source": [
    "#### 1.4 Some values in the `LotFrontage` column are missing, fill them with *average* value [10%]"
   ]
  },
  {
   "cell_type": "code",
   "execution_count": 10,
   "metadata": {},
   "outputs": [
    {
     "data": {
      "text/plain": [
       "True"
      ]
     },
     "execution_count": 10,
     "metadata": {},
     "output_type": "execute_result"
    }
   ],
   "source": [
    "subset[\"LotFrontage\"].isnull().any()"
   ]
  },
  {
   "cell_type": "code",
   "execution_count": 11,
   "metadata": {},
   "outputs": [],
   "source": [
    "subset[\"LotFrontage\"] = subset[\"LotFrontage\"].fillna(value=subset[\"LotFrontage\"].mean())"
   ]
  },
  {
   "cell_type": "code",
   "execution_count": 12,
   "metadata": {},
   "outputs": [
    {
     "data": {
      "text/plain": [
       "False"
      ]
     },
     "execution_count": 12,
     "metadata": {},
     "output_type": "execute_result"
    }
   ],
   "source": [
    "subset[\"LotFrontage\"].isnull().any()"
   ]
  },
  {
   "cell_type": "code",
   "execution_count": 13,
   "metadata": {},
   "outputs": [
    {
     "data": {
      "text/html": [
       "<div>\n",
       "<style scoped>\n",
       "    .dataframe tbody tr th:only-of-type {\n",
       "        vertical-align: middle;\n",
       "    }\n",
       "\n",
       "    .dataframe tbody tr th {\n",
       "        vertical-align: top;\n",
       "    }\n",
       "\n",
       "    .dataframe thead th {\n",
       "        text-align: right;\n",
       "    }\n",
       "</style>\n",
       "<table border=\"1\" class=\"dataframe\">\n",
       "  <thead>\n",
       "    <tr style=\"text-align: right;\">\n",
       "      <th></th>\n",
       "      <th>LotFrontage</th>\n",
       "      <th>LotArea</th>\n",
       "      <th>Neighborhood</th>\n",
       "      <th>OverallCond</th>\n",
       "      <th>YearBuilt</th>\n",
       "      <th>YearSold</th>\n",
       "      <th>GrLivArea</th>\n",
       "      <th>1stFlrSF</th>\n",
       "      <th>2ndFlrSF</th>\n",
       "      <th>SaleCondition</th>\n",
       "      <th>SalePrice</th>\n",
       "    </tr>\n",
       "  </thead>\n",
       "  <tbody>\n",
       "    <tr>\n",
       "      <th>200</th>\n",
       "      <td>80.000000</td>\n",
       "      <td>8546</td>\n",
       "      <td>Edwards</td>\n",
       "      <td>5</td>\n",
       "      <td>2003</td>\n",
       "      <td>2010</td>\n",
       "      <td>1121</td>\n",
       "      <td>1121</td>\n",
       "      <td>0</td>\n",
       "      <td>Normal</td>\n",
       "      <td>140000</td>\n",
       "    </tr>\n",
       "    <tr>\n",
       "      <th>201</th>\n",
       "      <td>75.000000</td>\n",
       "      <td>10125</td>\n",
       "      <td>Mitchel</td>\n",
       "      <td>6</td>\n",
       "      <td>1977</td>\n",
       "      <td>2008</td>\n",
       "      <td>1279</td>\n",
       "      <td>1279</td>\n",
       "      <td>0</td>\n",
       "      <td>Normal</td>\n",
       "      <td>171500</td>\n",
       "    </tr>\n",
       "    <tr>\n",
       "      <th>202</th>\n",
       "      <td>50.000000</td>\n",
       "      <td>7000</td>\n",
       "      <td>OldTown</td>\n",
       "      <td>6</td>\n",
       "      <td>1924</td>\n",
       "      <td>2006</td>\n",
       "      <td>1310</td>\n",
       "      <td>865</td>\n",
       "      <td>445</td>\n",
       "      <td>Normal</td>\n",
       "      <td>112000</td>\n",
       "    </tr>\n",
       "    <tr>\n",
       "      <th>203</th>\n",
       "      <td>69.822874</td>\n",
       "      <td>4438</td>\n",
       "      <td>CollgCr</td>\n",
       "      <td>5</td>\n",
       "      <td>2004</td>\n",
       "      <td>2008</td>\n",
       "      <td>848</td>\n",
       "      <td>848</td>\n",
       "      <td>0</td>\n",
       "      <td>Normal</td>\n",
       "      <td>149000</td>\n",
       "    </tr>\n",
       "    <tr>\n",
       "      <th>204</th>\n",
       "      <td>50.000000</td>\n",
       "      <td>3500</td>\n",
       "      <td>OldTown</td>\n",
       "      <td>7</td>\n",
       "      <td>1947</td>\n",
       "      <td>2009</td>\n",
       "      <td>1284</td>\n",
       "      <td>720</td>\n",
       "      <td>564</td>\n",
       "      <td>Normal</td>\n",
       "      <td>110000</td>\n",
       "    </tr>\n",
       "    <tr>\n",
       "      <th>205</th>\n",
       "      <td>99.000000</td>\n",
       "      <td>11851</td>\n",
       "      <td>Gilbert</td>\n",
       "      <td>5</td>\n",
       "      <td>1990</td>\n",
       "      <td>2009</td>\n",
       "      <td>1442</td>\n",
       "      <td>1442</td>\n",
       "      <td>0</td>\n",
       "      <td>Normal</td>\n",
       "      <td>180500</td>\n",
       "    </tr>\n",
       "    <tr>\n",
       "      <th>206</th>\n",
       "      <td>40.000000</td>\n",
       "      <td>13673</td>\n",
       "      <td>Sawyer</td>\n",
       "      <td>5</td>\n",
       "      <td>1962</td>\n",
       "      <td>2007</td>\n",
       "      <td>1696</td>\n",
       "      <td>1696</td>\n",
       "      <td>0</td>\n",
       "      <td>Normal</td>\n",
       "      <td>143900</td>\n",
       "    </tr>\n",
       "    <tr>\n",
       "      <th>207</th>\n",
       "      <td>69.822874</td>\n",
       "      <td>12493</td>\n",
       "      <td>NAmes</td>\n",
       "      <td>5</td>\n",
       "      <td>1960</td>\n",
       "      <td>2008</td>\n",
       "      <td>1100</td>\n",
       "      <td>1100</td>\n",
       "      <td>0</td>\n",
       "      <td>Normal</td>\n",
       "      <td>141000</td>\n",
       "    </tr>\n",
       "    <tr>\n",
       "      <th>208</th>\n",
       "      <td>69.822874</td>\n",
       "      <td>14364</td>\n",
       "      <td>SawyerW</td>\n",
       "      <td>5</td>\n",
       "      <td>1988</td>\n",
       "      <td>2007</td>\n",
       "      <td>2062</td>\n",
       "      <td>1180</td>\n",
       "      <td>882</td>\n",
       "      <td>Normal</td>\n",
       "      <td>277000</td>\n",
       "    </tr>\n",
       "    <tr>\n",
       "      <th>209</th>\n",
       "      <td>75.000000</td>\n",
       "      <td>8250</td>\n",
       "      <td>NAmes</td>\n",
       "      <td>7</td>\n",
       "      <td>1964</td>\n",
       "      <td>2008</td>\n",
       "      <td>1092</td>\n",
       "      <td>1092</td>\n",
       "      <td>0</td>\n",
       "      <td>Normal</td>\n",
       "      <td>145000</td>\n",
       "    </tr>\n",
       "    <tr>\n",
       "      <th>210</th>\n",
       "      <td>67.000000</td>\n",
       "      <td>5604</td>\n",
       "      <td>Edwards</td>\n",
       "      <td>6</td>\n",
       "      <td>1925</td>\n",
       "      <td>2008</td>\n",
       "      <td>864</td>\n",
       "      <td>864</td>\n",
       "      <td>0</td>\n",
       "      <td>Normal</td>\n",
       "      <td>98000</td>\n",
       "    </tr>\n",
       "    <tr>\n",
       "      <th>211</th>\n",
       "      <td>83.000000</td>\n",
       "      <td>10420</td>\n",
       "      <td>Edwards</td>\n",
       "      <td>5</td>\n",
       "      <td>2009</td>\n",
       "      <td>2010</td>\n",
       "      <td>1212</td>\n",
       "      <td>1212</td>\n",
       "      <td>0</td>\n",
       "      <td>Normal</td>\n",
       "      <td>186000</td>\n",
       "    </tr>\n",
       "    <tr>\n",
       "      <th>212</th>\n",
       "      <td>72.000000</td>\n",
       "      <td>8640</td>\n",
       "      <td>Somerst</td>\n",
       "      <td>5</td>\n",
       "      <td>2009</td>\n",
       "      <td>2009</td>\n",
       "      <td>1852</td>\n",
       "      <td>932</td>\n",
       "      <td>920</td>\n",
       "      <td>Partial</td>\n",
       "      <td>252678</td>\n",
       "    </tr>\n",
       "    <tr>\n",
       "      <th>213</th>\n",
       "      <td>43.000000</td>\n",
       "      <td>13568</td>\n",
       "      <td>CollgCr</td>\n",
       "      <td>5</td>\n",
       "      <td>1995</td>\n",
       "      <td>2006</td>\n",
       "      <td>990</td>\n",
       "      <td>990</td>\n",
       "      <td>0</td>\n",
       "      <td>Normal</td>\n",
       "      <td>156000</td>\n",
       "    </tr>\n",
       "    <tr>\n",
       "      <th>214</th>\n",
       "      <td>69.822874</td>\n",
       "      <td>10900</td>\n",
       "      <td>CollgCr</td>\n",
       "      <td>7</td>\n",
       "      <td>1977</td>\n",
       "      <td>2010</td>\n",
       "      <td>1392</td>\n",
       "      <td>689</td>\n",
       "      <td>703</td>\n",
       "      <td>Normal</td>\n",
       "      <td>161750</td>\n",
       "    </tr>\n",
       "    <tr>\n",
       "      <th>215</th>\n",
       "      <td>72.000000</td>\n",
       "      <td>10011</td>\n",
       "      <td>NAmes</td>\n",
       "      <td>6</td>\n",
       "      <td>1957</td>\n",
       "      <td>2006</td>\n",
       "      <td>1236</td>\n",
       "      <td>1236</td>\n",
       "      <td>0</td>\n",
       "      <td>Normal</td>\n",
       "      <td>134450</td>\n",
       "    </tr>\n",
       "    <tr>\n",
       "      <th>216</th>\n",
       "      <td>65.000000</td>\n",
       "      <td>8450</td>\n",
       "      <td>CollgCr</td>\n",
       "      <td>5</td>\n",
       "      <td>2004</td>\n",
       "      <td>2008</td>\n",
       "      <td>1436</td>\n",
       "      <td>1436</td>\n",
       "      <td>0</td>\n",
       "      <td>Normal</td>\n",
       "      <td>210000</td>\n",
       "    </tr>\n",
       "    <tr>\n",
       "      <th>217</th>\n",
       "      <td>57.000000</td>\n",
       "      <td>9906</td>\n",
       "      <td>OldTown</td>\n",
       "      <td>4</td>\n",
       "      <td>1925</td>\n",
       "      <td>2006</td>\n",
       "      <td>1328</td>\n",
       "      <td>810</td>\n",
       "      <td>518</td>\n",
       "      <td>Family</td>\n",
       "      <td>107000</td>\n",
       "    </tr>\n",
       "    <tr>\n",
       "      <th>218</th>\n",
       "      <td>69.822874</td>\n",
       "      <td>15660</td>\n",
       "      <td>Crawfor</td>\n",
       "      <td>9</td>\n",
       "      <td>1939</td>\n",
       "      <td>2008</td>\n",
       "      <td>1954</td>\n",
       "      <td>1137</td>\n",
       "      <td>817</td>\n",
       "      <td>Normal</td>\n",
       "      <td>311500</td>\n",
       "    </tr>\n",
       "    <tr>\n",
       "      <th>219</th>\n",
       "      <td>43.000000</td>\n",
       "      <td>3010</td>\n",
       "      <td>Blmngtn</td>\n",
       "      <td>5</td>\n",
       "      <td>2005</td>\n",
       "      <td>2006</td>\n",
       "      <td>1248</td>\n",
       "      <td>1248</td>\n",
       "      <td>0</td>\n",
       "      <td>Partial</td>\n",
       "      <td>167240</td>\n",
       "    </tr>\n",
       "    <tr>\n",
       "      <th>220</th>\n",
       "      <td>73.000000</td>\n",
       "      <td>8990</td>\n",
       "      <td>CollgCr</td>\n",
       "      <td>5</td>\n",
       "      <td>2006</td>\n",
       "      <td>2006</td>\n",
       "      <td>1498</td>\n",
       "      <td>1498</td>\n",
       "      <td>0</td>\n",
       "      <td>Partial</td>\n",
       "      <td>204900</td>\n",
       "    </tr>\n",
       "    <tr>\n",
       "      <th>221</th>\n",
       "      <td>69.822874</td>\n",
       "      <td>8068</td>\n",
       "      <td>Gilbert</td>\n",
       "      <td>5</td>\n",
       "      <td>2002</td>\n",
       "      <td>2009</td>\n",
       "      <td>2267</td>\n",
       "      <td>1010</td>\n",
       "      <td>1257</td>\n",
       "      <td>Normal</td>\n",
       "      <td>200000</td>\n",
       "    </tr>\n",
       "    <tr>\n",
       "      <th>222</th>\n",
       "      <td>85.000000</td>\n",
       "      <td>11475</td>\n",
       "      <td>NWAmes</td>\n",
       "      <td>6</td>\n",
       "      <td>1975</td>\n",
       "      <td>2006</td>\n",
       "      <td>1552</td>\n",
       "      <td>811</td>\n",
       "      <td>741</td>\n",
       "      <td>Normal</td>\n",
       "      <td>179900</td>\n",
       "    </tr>\n",
       "    <tr>\n",
       "      <th>223</th>\n",
       "      <td>70.000000</td>\n",
       "      <td>10500</td>\n",
       "      <td>NAmes</td>\n",
       "      <td>6</td>\n",
       "      <td>1971</td>\n",
       "      <td>2009</td>\n",
       "      <td>864</td>\n",
       "      <td>864</td>\n",
       "      <td>0</td>\n",
       "      <td>Abnorml</td>\n",
       "      <td>97000</td>\n",
       "    </tr>\n",
       "    <tr>\n",
       "      <th>224</th>\n",
       "      <td>103.000000</td>\n",
       "      <td>13472</td>\n",
       "      <td>NridgHt</td>\n",
       "      <td>5</td>\n",
       "      <td>2003</td>\n",
       "      <td>2009</td>\n",
       "      <td>2392</td>\n",
       "      <td>2392</td>\n",
       "      <td>0</td>\n",
       "      <td>Normal</td>\n",
       "      <td>386250</td>\n",
       "    </tr>\n",
       "    <tr>\n",
       "      <th>225</th>\n",
       "      <td>21.000000</td>\n",
       "      <td>1680</td>\n",
       "      <td>BrDale</td>\n",
       "      <td>5</td>\n",
       "      <td>1971</td>\n",
       "      <td>2009</td>\n",
       "      <td>1302</td>\n",
       "      <td>630</td>\n",
       "      <td>672</td>\n",
       "      <td>Abnorml</td>\n",
       "      <td>112000</td>\n",
       "    </tr>\n",
       "    <tr>\n",
       "      <th>226</th>\n",
       "      <td>82.000000</td>\n",
       "      <td>9950</td>\n",
       "      <td>NoRidge</td>\n",
       "      <td>5</td>\n",
       "      <td>1995</td>\n",
       "      <td>2007</td>\n",
       "      <td>2520</td>\n",
       "      <td>1214</td>\n",
       "      <td>1306</td>\n",
       "      <td>Abnorml</td>\n",
       "      <td>290000</td>\n",
       "    </tr>\n",
       "    <tr>\n",
       "      <th>227</th>\n",
       "      <td>21.000000</td>\n",
       "      <td>1869</td>\n",
       "      <td>BrDale</td>\n",
       "      <td>6</td>\n",
       "      <td>1970</td>\n",
       "      <td>2008</td>\n",
       "      <td>987</td>\n",
       "      <td>483</td>\n",
       "      <td>504</td>\n",
       "      <td>Normal</td>\n",
       "      <td>106000</td>\n",
       "    </tr>\n",
       "    <tr>\n",
       "      <th>228</th>\n",
       "      <td>70.000000</td>\n",
       "      <td>8521</td>\n",
       "      <td>Sawyer</td>\n",
       "      <td>5</td>\n",
       "      <td>1967</td>\n",
       "      <td>2010</td>\n",
       "      <td>912</td>\n",
       "      <td>912</td>\n",
       "      <td>0</td>\n",
       "      <td>Normal</td>\n",
       "      <td>125000</td>\n",
       "    </tr>\n",
       "    <tr>\n",
       "      <th>229</th>\n",
       "      <td>43.000000</td>\n",
       "      <td>3182</td>\n",
       "      <td>Blmngtn</td>\n",
       "      <td>5</td>\n",
       "      <td>2005</td>\n",
       "      <td>2009</td>\n",
       "      <td>1555</td>\n",
       "      <td>1555</td>\n",
       "      <td>0</td>\n",
       "      <td>Normal</td>\n",
       "      <td>192500</td>\n",
       "    </tr>\n",
       "    <tr>\n",
       "      <th>...</th>\n",
       "      <td>...</td>\n",
       "      <td>...</td>\n",
       "      <td>...</td>\n",
       "      <td>...</td>\n",
       "      <td>...</td>\n",
       "      <td>...</td>\n",
       "      <td>...</td>\n",
       "      <td>...</td>\n",
       "      <td>...</td>\n",
       "      <td>...</td>\n",
       "      <td>...</td>\n",
       "    </tr>\n",
       "    <tr>\n",
       "      <th>1371</th>\n",
       "      <td>80.000000</td>\n",
       "      <td>9600</td>\n",
       "      <td>NAmes</td>\n",
       "      <td>6</td>\n",
       "      <td>1955</td>\n",
       "      <td>2008</td>\n",
       "      <td>1661</td>\n",
       "      <td>1661</td>\n",
       "      <td>0</td>\n",
       "      <td>Normal</td>\n",
       "      <td>165500</td>\n",
       "    </tr>\n",
       "    <tr>\n",
       "      <th>1372</th>\n",
       "      <td>75.000000</td>\n",
       "      <td>9750</td>\n",
       "      <td>CollgCr</td>\n",
       "      <td>6</td>\n",
       "      <td>1998</td>\n",
       "      <td>2006</td>\n",
       "      <td>2097</td>\n",
       "      <td>1108</td>\n",
       "      <td>989</td>\n",
       "      <td>Normal</td>\n",
       "      <td>274300</td>\n",
       "    </tr>\n",
       "    <tr>\n",
       "      <th>1373</th>\n",
       "      <td>69.822874</td>\n",
       "      <td>11400</td>\n",
       "      <td>NoRidge</td>\n",
       "      <td>5</td>\n",
       "      <td>2001</td>\n",
       "      <td>2007</td>\n",
       "      <td>2633</td>\n",
       "      <td>2633</td>\n",
       "      <td>0</td>\n",
       "      <td>Normal</td>\n",
       "      <td>466500</td>\n",
       "    </tr>\n",
       "    <tr>\n",
       "      <th>1374</th>\n",
       "      <td>85.000000</td>\n",
       "      <td>10625</td>\n",
       "      <td>Somerst</td>\n",
       "      <td>5</td>\n",
       "      <td>2005</td>\n",
       "      <td>2008</td>\n",
       "      <td>1958</td>\n",
       "      <td>1026</td>\n",
       "      <td>932</td>\n",
       "      <td>Normal</td>\n",
       "      <td>250000</td>\n",
       "    </tr>\n",
       "    <tr>\n",
       "      <th>1375</th>\n",
       "      <td>89.000000</td>\n",
       "      <td>10991</td>\n",
       "      <td>Timber</td>\n",
       "      <td>5</td>\n",
       "      <td>2007</td>\n",
       "      <td>2007</td>\n",
       "      <td>1571</td>\n",
       "      <td>1571</td>\n",
       "      <td>0</td>\n",
       "      <td>Partial</td>\n",
       "      <td>239000</td>\n",
       "    </tr>\n",
       "    <tr>\n",
       "      <th>1376</th>\n",
       "      <td>52.000000</td>\n",
       "      <td>6292</td>\n",
       "      <td>SWISU</td>\n",
       "      <td>5</td>\n",
       "      <td>1930</td>\n",
       "      <td>2008</td>\n",
       "      <td>790</td>\n",
       "      <td>790</td>\n",
       "      <td>0</td>\n",
       "      <td>Normal</td>\n",
       "      <td>91000</td>\n",
       "    </tr>\n",
       "    <tr>\n",
       "      <th>1377</th>\n",
       "      <td>60.000000</td>\n",
       "      <td>10998</td>\n",
       "      <td>Edwards</td>\n",
       "      <td>5</td>\n",
       "      <td>1941</td>\n",
       "      <td>2009</td>\n",
       "      <td>1604</td>\n",
       "      <td>984</td>\n",
       "      <td>620</td>\n",
       "      <td>Normal</td>\n",
       "      <td>117000</td>\n",
       "    </tr>\n",
       "    <tr>\n",
       "      <th>1378</th>\n",
       "      <td>21.000000</td>\n",
       "      <td>1953</td>\n",
       "      <td>BrDale</td>\n",
       "      <td>5</td>\n",
       "      <td>1973</td>\n",
       "      <td>2006</td>\n",
       "      <td>987</td>\n",
       "      <td>483</td>\n",
       "      <td>504</td>\n",
       "      <td>Normal</td>\n",
       "      <td>83000</td>\n",
       "    </tr>\n",
       "    <tr>\n",
       "      <th>1379</th>\n",
       "      <td>73.000000</td>\n",
       "      <td>9735</td>\n",
       "      <td>Timber</td>\n",
       "      <td>5</td>\n",
       "      <td>2006</td>\n",
       "      <td>2008</td>\n",
       "      <td>1394</td>\n",
       "      <td>754</td>\n",
       "      <td>640</td>\n",
       "      <td>Normal</td>\n",
       "      <td>167500</td>\n",
       "    </tr>\n",
       "    <tr>\n",
       "      <th>1380</th>\n",
       "      <td>45.000000</td>\n",
       "      <td>8212</td>\n",
       "      <td>Edwards</td>\n",
       "      <td>3</td>\n",
       "      <td>1914</td>\n",
       "      <td>2010</td>\n",
       "      <td>864</td>\n",
       "      <td>864</td>\n",
       "      <td>0</td>\n",
       "      <td>Normal</td>\n",
       "      <td>58500</td>\n",
       "    </tr>\n",
       "    <tr>\n",
       "      <th>1381</th>\n",
       "      <td>69.822874</td>\n",
       "      <td>12925</td>\n",
       "      <td>NAmes</td>\n",
       "      <td>7</td>\n",
       "      <td>1970</td>\n",
       "      <td>2008</td>\n",
       "      <td>2117</td>\n",
       "      <td>2117</td>\n",
       "      <td>0</td>\n",
       "      <td>Normal</td>\n",
       "      <td>237500</td>\n",
       "    </tr>\n",
       "    <tr>\n",
       "      <th>1382</th>\n",
       "      <td>60.000000</td>\n",
       "      <td>7200</td>\n",
       "      <td>OldTown</td>\n",
       "      <td>7</td>\n",
       "      <td>1920</td>\n",
       "      <td>2006</td>\n",
       "      <td>1762</td>\n",
       "      <td>998</td>\n",
       "      <td>764</td>\n",
       "      <td>Normal</td>\n",
       "      <td>157000</td>\n",
       "    </tr>\n",
       "    <tr>\n",
       "      <th>1383</th>\n",
       "      <td>69.822874</td>\n",
       "      <td>25339</td>\n",
       "      <td>Sawyer</td>\n",
       "      <td>7</td>\n",
       "      <td>1918</td>\n",
       "      <td>2007</td>\n",
       "      <td>1416</td>\n",
       "      <td>1416</td>\n",
       "      <td>0</td>\n",
       "      <td>Normal</td>\n",
       "      <td>112000</td>\n",
       "    </tr>\n",
       "    <tr>\n",
       "      <th>1384</th>\n",
       "      <td>60.000000</td>\n",
       "      <td>9060</td>\n",
       "      <td>Edwards</td>\n",
       "      <td>5</td>\n",
       "      <td>1939</td>\n",
       "      <td>2009</td>\n",
       "      <td>1258</td>\n",
       "      <td>698</td>\n",
       "      <td>560</td>\n",
       "      <td>Normal</td>\n",
       "      <td>105000</td>\n",
       "    </tr>\n",
       "    <tr>\n",
       "      <th>1385</th>\n",
       "      <td>40.000000</td>\n",
       "      <td>5436</td>\n",
       "      <td>IDOTRR</td>\n",
       "      <td>8</td>\n",
       "      <td>1922</td>\n",
       "      <td>2010</td>\n",
       "      <td>1154</td>\n",
       "      <td>796</td>\n",
       "      <td>358</td>\n",
       "      <td>Normal</td>\n",
       "      <td>125500</td>\n",
       "    </tr>\n",
       "    <tr>\n",
       "      <th>1386</th>\n",
       "      <td>80.000000</td>\n",
       "      <td>16692</td>\n",
       "      <td>NWAmes</td>\n",
       "      <td>5</td>\n",
       "      <td>1978</td>\n",
       "      <td>2006</td>\n",
       "      <td>2784</td>\n",
       "      <td>1392</td>\n",
       "      <td>1392</td>\n",
       "      <td>Normal</td>\n",
       "      <td>250000</td>\n",
       "    </tr>\n",
       "    <tr>\n",
       "      <th>1387</th>\n",
       "      <td>60.000000</td>\n",
       "      <td>8520</td>\n",
       "      <td>OldTown</td>\n",
       "      <td>7</td>\n",
       "      <td>1916</td>\n",
       "      <td>2007</td>\n",
       "      <td>2526</td>\n",
       "      <td>1664</td>\n",
       "      <td>862</td>\n",
       "      <td>Family</td>\n",
       "      <td>136000</td>\n",
       "    </tr>\n",
       "    <tr>\n",
       "      <th>1388</th>\n",
       "      <td>42.000000</td>\n",
       "      <td>14892</td>\n",
       "      <td>Gilbert</td>\n",
       "      <td>5</td>\n",
       "      <td>2006</td>\n",
       "      <td>2009</td>\n",
       "      <td>1746</td>\n",
       "      <td>1746</td>\n",
       "      <td>0</td>\n",
       "      <td>Normal</td>\n",
       "      <td>377500</td>\n",
       "    </tr>\n",
       "    <tr>\n",
       "      <th>1389</th>\n",
       "      <td>60.000000</td>\n",
       "      <td>6000</td>\n",
       "      <td>BrkSide</td>\n",
       "      <td>6</td>\n",
       "      <td>1941</td>\n",
       "      <td>2007</td>\n",
       "      <td>1218</td>\n",
       "      <td>869</td>\n",
       "      <td>349</td>\n",
       "      <td>Normal</td>\n",
       "      <td>131000</td>\n",
       "    </tr>\n",
       "    <tr>\n",
       "      <th>1390</th>\n",
       "      <td>70.000000</td>\n",
       "      <td>9100</td>\n",
       "      <td>CollgCr</td>\n",
       "      <td>5</td>\n",
       "      <td>2000</td>\n",
       "      <td>2006</td>\n",
       "      <td>1525</td>\n",
       "      <td>1525</td>\n",
       "      <td>0</td>\n",
       "      <td>Normal</td>\n",
       "      <td>235000</td>\n",
       "    </tr>\n",
       "    <tr>\n",
       "      <th>1391</th>\n",
       "      <td>65.000000</td>\n",
       "      <td>8944</td>\n",
       "      <td>NAmes</td>\n",
       "      <td>5</td>\n",
       "      <td>1967</td>\n",
       "      <td>2009</td>\n",
       "      <td>1584</td>\n",
       "      <td>1584</td>\n",
       "      <td>0</td>\n",
       "      <td>Normal</td>\n",
       "      <td>124000</td>\n",
       "    </tr>\n",
       "    <tr>\n",
       "      <th>1392</th>\n",
       "      <td>68.000000</td>\n",
       "      <td>7838</td>\n",
       "      <td>NAmes</td>\n",
       "      <td>5</td>\n",
       "      <td>1967</td>\n",
       "      <td>2006</td>\n",
       "      <td>900</td>\n",
       "      <td>900</td>\n",
       "      <td>0</td>\n",
       "      <td>Normal</td>\n",
       "      <td>123000</td>\n",
       "    </tr>\n",
       "    <tr>\n",
       "      <th>1393</th>\n",
       "      <td>60.000000</td>\n",
       "      <td>10800</td>\n",
       "      <td>OldTown</td>\n",
       "      <td>7</td>\n",
       "      <td>1905</td>\n",
       "      <td>2008</td>\n",
       "      <td>1912</td>\n",
       "      <td>1221</td>\n",
       "      <td>691</td>\n",
       "      <td>Normal</td>\n",
       "      <td>163000</td>\n",
       "    </tr>\n",
       "    <tr>\n",
       "      <th>1394</th>\n",
       "      <td>53.000000</td>\n",
       "      <td>4045</td>\n",
       "      <td>Blmngtn</td>\n",
       "      <td>5</td>\n",
       "      <td>2006</td>\n",
       "      <td>2006</td>\n",
       "      <td>1500</td>\n",
       "      <td>1500</td>\n",
       "      <td>0</td>\n",
       "      <td>Partial</td>\n",
       "      <td>246578</td>\n",
       "    </tr>\n",
       "    <tr>\n",
       "      <th>1395</th>\n",
       "      <td>88.000000</td>\n",
       "      <td>12665</td>\n",
       "      <td>Timber</td>\n",
       "      <td>5</td>\n",
       "      <td>2005</td>\n",
       "      <td>2007</td>\n",
       "      <td>2482</td>\n",
       "      <td>1133</td>\n",
       "      <td>1349</td>\n",
       "      <td>Normal</td>\n",
       "      <td>281213</td>\n",
       "    </tr>\n",
       "    <tr>\n",
       "      <th>1396</th>\n",
       "      <td>69.822874</td>\n",
       "      <td>57200</td>\n",
       "      <td>Timber</td>\n",
       "      <td>5</td>\n",
       "      <td>1948</td>\n",
       "      <td>2010</td>\n",
       "      <td>1687</td>\n",
       "      <td>1687</td>\n",
       "      <td>0</td>\n",
       "      <td>Normal</td>\n",
       "      <td>160000</td>\n",
       "    </tr>\n",
       "    <tr>\n",
       "      <th>1397</th>\n",
       "      <td>51.000000</td>\n",
       "      <td>6120</td>\n",
       "      <td>BrkSide</td>\n",
       "      <td>8</td>\n",
       "      <td>1920</td>\n",
       "      <td>2007</td>\n",
       "      <td>1513</td>\n",
       "      <td>939</td>\n",
       "      <td>574</td>\n",
       "      <td>Normal</td>\n",
       "      <td>137500</td>\n",
       "    </tr>\n",
       "    <tr>\n",
       "      <th>1398</th>\n",
       "      <td>60.000000</td>\n",
       "      <td>7200</td>\n",
       "      <td>NAmes</td>\n",
       "      <td>4</td>\n",
       "      <td>1950</td>\n",
       "      <td>2009</td>\n",
       "      <td>1904</td>\n",
       "      <td>1136</td>\n",
       "      <td>768</td>\n",
       "      <td>Normal</td>\n",
       "      <td>138000</td>\n",
       "    </tr>\n",
       "    <tr>\n",
       "      <th>1399</th>\n",
       "      <td>51.000000</td>\n",
       "      <td>6171</td>\n",
       "      <td>SWISU</td>\n",
       "      <td>6</td>\n",
       "      <td>1925</td>\n",
       "      <td>2009</td>\n",
       "      <td>1608</td>\n",
       "      <td>1160</td>\n",
       "      <td>448</td>\n",
       "      <td>Normal</td>\n",
       "      <td>137450</td>\n",
       "    </tr>\n",
       "    <tr>\n",
       "      <th>1400</th>\n",
       "      <td>50.000000</td>\n",
       "      <td>6000</td>\n",
       "      <td>BrkSide</td>\n",
       "      <td>7</td>\n",
       "      <td>1929</td>\n",
       "      <td>2008</td>\n",
       "      <td>1158</td>\n",
       "      <td>950</td>\n",
       "      <td>208</td>\n",
       "      <td>Normal</td>\n",
       "      <td>120000</td>\n",
       "    </tr>\n",
       "  </tbody>\n",
       "</table>\n",
       "<p>1201 rows × 11 columns</p>\n",
       "</div>"
      ],
      "text/plain": [
       "      LotFrontage  LotArea Neighborhood  OverallCond  YearBuilt  YearSold  \\\n",
       "200     80.000000     8546      Edwards            5       2003      2010   \n",
       "201     75.000000    10125      Mitchel            6       1977      2008   \n",
       "202     50.000000     7000      OldTown            6       1924      2006   \n",
       "203     69.822874     4438      CollgCr            5       2004      2008   \n",
       "204     50.000000     3500      OldTown            7       1947      2009   \n",
       "205     99.000000    11851      Gilbert            5       1990      2009   \n",
       "206     40.000000    13673       Sawyer            5       1962      2007   \n",
       "207     69.822874    12493        NAmes            5       1960      2008   \n",
       "208     69.822874    14364      SawyerW            5       1988      2007   \n",
       "209     75.000000     8250        NAmes            7       1964      2008   \n",
       "210     67.000000     5604      Edwards            6       1925      2008   \n",
       "211     83.000000    10420      Edwards            5       2009      2010   \n",
       "212     72.000000     8640      Somerst            5       2009      2009   \n",
       "213     43.000000    13568      CollgCr            5       1995      2006   \n",
       "214     69.822874    10900      CollgCr            7       1977      2010   \n",
       "215     72.000000    10011        NAmes            6       1957      2006   \n",
       "216     65.000000     8450      CollgCr            5       2004      2008   \n",
       "217     57.000000     9906      OldTown            4       1925      2006   \n",
       "218     69.822874    15660      Crawfor            9       1939      2008   \n",
       "219     43.000000     3010      Blmngtn            5       2005      2006   \n",
       "220     73.000000     8990      CollgCr            5       2006      2006   \n",
       "221     69.822874     8068      Gilbert            5       2002      2009   \n",
       "222     85.000000    11475       NWAmes            6       1975      2006   \n",
       "223     70.000000    10500        NAmes            6       1971      2009   \n",
       "224    103.000000    13472      NridgHt            5       2003      2009   \n",
       "225     21.000000     1680       BrDale            5       1971      2009   \n",
       "226     82.000000     9950      NoRidge            5       1995      2007   \n",
       "227     21.000000     1869       BrDale            6       1970      2008   \n",
       "228     70.000000     8521       Sawyer            5       1967      2010   \n",
       "229     43.000000     3182      Blmngtn            5       2005      2009   \n",
       "...           ...      ...          ...          ...        ...       ...   \n",
       "1371    80.000000     9600        NAmes            6       1955      2008   \n",
       "1372    75.000000     9750      CollgCr            6       1998      2006   \n",
       "1373    69.822874    11400      NoRidge            5       2001      2007   \n",
       "1374    85.000000    10625      Somerst            5       2005      2008   \n",
       "1375    89.000000    10991       Timber            5       2007      2007   \n",
       "1376    52.000000     6292        SWISU            5       1930      2008   \n",
       "1377    60.000000    10998      Edwards            5       1941      2009   \n",
       "1378    21.000000     1953       BrDale            5       1973      2006   \n",
       "1379    73.000000     9735       Timber            5       2006      2008   \n",
       "1380    45.000000     8212      Edwards            3       1914      2010   \n",
       "1381    69.822874    12925        NAmes            7       1970      2008   \n",
       "1382    60.000000     7200      OldTown            7       1920      2006   \n",
       "1383    69.822874    25339       Sawyer            7       1918      2007   \n",
       "1384    60.000000     9060      Edwards            5       1939      2009   \n",
       "1385    40.000000     5436       IDOTRR            8       1922      2010   \n",
       "1386    80.000000    16692       NWAmes            5       1978      2006   \n",
       "1387    60.000000     8520      OldTown            7       1916      2007   \n",
       "1388    42.000000    14892      Gilbert            5       2006      2009   \n",
       "1389    60.000000     6000      BrkSide            6       1941      2007   \n",
       "1390    70.000000     9100      CollgCr            5       2000      2006   \n",
       "1391    65.000000     8944        NAmes            5       1967      2009   \n",
       "1392    68.000000     7838        NAmes            5       1967      2006   \n",
       "1393    60.000000    10800      OldTown            7       1905      2008   \n",
       "1394    53.000000     4045      Blmngtn            5       2006      2006   \n",
       "1395    88.000000    12665       Timber            5       2005      2007   \n",
       "1396    69.822874    57200       Timber            5       1948      2010   \n",
       "1397    51.000000     6120      BrkSide            8       1920      2007   \n",
       "1398    60.000000     7200        NAmes            4       1950      2009   \n",
       "1399    51.000000     6171        SWISU            6       1925      2009   \n",
       "1400    50.000000     6000      BrkSide            7       1929      2008   \n",
       "\n",
       "      GrLivArea  1stFlrSF  2ndFlrSF SaleCondition  SalePrice  \n",
       "200        1121      1121         0        Normal     140000  \n",
       "201        1279      1279         0        Normal     171500  \n",
       "202        1310       865       445        Normal     112000  \n",
       "203         848       848         0        Normal     149000  \n",
       "204        1284       720       564        Normal     110000  \n",
       "205        1442      1442         0        Normal     180500  \n",
       "206        1696      1696         0        Normal     143900  \n",
       "207        1100      1100         0        Normal     141000  \n",
       "208        2062      1180       882        Normal     277000  \n",
       "209        1092      1092         0        Normal     145000  \n",
       "210         864       864         0        Normal      98000  \n",
       "211        1212      1212         0        Normal     186000  \n",
       "212        1852       932       920       Partial     252678  \n",
       "213         990       990         0        Normal     156000  \n",
       "214        1392       689       703        Normal     161750  \n",
       "215        1236      1236         0        Normal     134450  \n",
       "216        1436      1436         0        Normal     210000  \n",
       "217        1328       810       518        Family     107000  \n",
       "218        1954      1137       817        Normal     311500  \n",
       "219        1248      1248         0       Partial     167240  \n",
       "220        1498      1498         0       Partial     204900  \n",
       "221        2267      1010      1257        Normal     200000  \n",
       "222        1552       811       741        Normal     179900  \n",
       "223         864       864         0       Abnorml      97000  \n",
       "224        2392      2392         0        Normal     386250  \n",
       "225        1302       630       672       Abnorml     112000  \n",
       "226        2520      1214      1306       Abnorml     290000  \n",
       "227         987       483       504        Normal     106000  \n",
       "228         912       912         0        Normal     125000  \n",
       "229        1555      1555         0        Normal     192500  \n",
       "...         ...       ...       ...           ...        ...  \n",
       "1371       1661      1661         0        Normal     165500  \n",
       "1372       2097      1108       989        Normal     274300  \n",
       "1373       2633      2633         0        Normal     466500  \n",
       "1374       1958      1026       932        Normal     250000  \n",
       "1375       1571      1571         0       Partial     239000  \n",
       "1376        790       790         0        Normal      91000  \n",
       "1377       1604       984       620        Normal     117000  \n",
       "1378        987       483       504        Normal      83000  \n",
       "1379       1394       754       640        Normal     167500  \n",
       "1380        864       864         0        Normal      58500  \n",
       "1381       2117      2117         0        Normal     237500  \n",
       "1382       1762       998       764        Normal     157000  \n",
       "1383       1416      1416         0        Normal     112000  \n",
       "1384       1258       698       560        Normal     105000  \n",
       "1385       1154       796       358        Normal     125500  \n",
       "1386       2784      1392      1392        Normal     250000  \n",
       "1387       2526      1664       862        Family     136000  \n",
       "1388       1746      1746         0        Normal     377500  \n",
       "1389       1218       869       349        Normal     131000  \n",
       "1390       1525      1525         0        Normal     235000  \n",
       "1391       1584      1584         0        Normal     124000  \n",
       "1392        900       900         0        Normal     123000  \n",
       "1393       1912      1221       691        Normal     163000  \n",
       "1394       1500      1500         0       Partial     246578  \n",
       "1395       2482      1133      1349        Normal     281213  \n",
       "1396       1687      1687         0        Normal     160000  \n",
       "1397       1513       939       574        Normal     137500  \n",
       "1398       1904      1136       768        Normal     138000  \n",
       "1399       1608      1160       448        Normal     137450  \n",
       "1400       1158       950       208        Normal     120000  \n",
       "\n",
       "[1201 rows x 11 columns]"
      ]
     },
     "execution_count": 13,
     "metadata": {},
     "output_type": "execute_result"
    }
   ],
   "source": [
    "subset"
   ]
  },
  {
   "cell_type": "markdown",
   "metadata": {},
   "source": [
    "#### 1.5 Answer the following questions with the *subset* of the data:\n",
    "Each subquestion is worth **1%**"
   ]
  },
  {
   "cell_type": "markdown",
   "metadata": {},
   "source": [
    "#### 1.5.1 What were the basic statistics of house prices? (mean, std, min, 25%, 50%, 75%, max)"
   ]
  },
  {
   "cell_type": "code",
   "execution_count": 14,
   "metadata": {},
   "outputs": [
    {
     "name": "stdout",
     "output_type": "stream",
     "text": [
      "180822.34887593673\n",
      "80509.29815575566\n",
      "34900\n",
      "130000.0\n",
      "162900.0\n",
      "213490.0\n",
      "755000\n"
     ]
    }
   ],
   "source": [
    "print(subset[\"SalePrice\"].mean())\n",
    "print(subset[\"SalePrice\"].std())\n",
    "print(subset[\"SalePrice\"].min())\n",
    "print(subset[\"SalePrice\"].quantile(0.25))\n",
    "print(subset[\"SalePrice\"].quantile(0.50))\n",
    "print(subset[\"SalePrice\"].quantile(0.75))\n",
    "print(subset[\"SalePrice\"].max())"
   ]
  },
  {
   "cell_type": "markdown",
   "metadata": {},
   "source": [
    "#### 1.5.2 What's the average lot size in square feet? How about the standard deviation?\n",
    "HINT: Use the column `LotArea`"
   ]
  },
  {
   "cell_type": "code",
   "execution_count": 15,
   "metadata": {},
   "outputs": [
    {
     "name": "stdout",
     "output_type": "stream",
     "text": [
      "10582.015820149874\n",
      "10772.869559557923\n"
     ]
    }
   ],
   "source": [
    "print(subset[\"LotArea\"].mean())\n",
    "print(subset[\"LotArea\"].std())"
   ]
  },
  {
   "cell_type": "markdown",
   "metadata": {},
   "source": [
    "#### 1.5.3 What year was the oldest house build?"
   ]
  },
  {
   "cell_type": "code",
   "execution_count": 16,
   "metadata": {},
   "outputs": [
    {
     "name": "stdout",
     "output_type": "stream",
     "text": [
      "2010\n"
     ]
    }
   ],
   "source": [
    "print(subset[\"YearBuilt\"].max())"
   ]
  },
  {
   "cell_type": "markdown",
   "metadata": {},
   "source": [
    "#### 1.5.4 Follow-up question to the previous one: What was the sale condition of that house?"
   ]
  },
  {
   "cell_type": "code",
   "execution_count": 17,
   "metadata": {},
   "outputs": [
    {
     "data": {
      "text/plain": [
       "'Partial'"
      ]
     },
     "execution_count": 17,
     "metadata": {},
     "output_type": "execute_result"
    }
   ],
   "source": [
    "row = subset[\"YearBuilt\"].idxmax()\n",
    "subset[\"SaleCondition\"][row]"
   ]
  },
  {
   "cell_type": "markdown",
   "metadata": {},
   "source": [
    "#### 1.5.5 How many houses were built in 2008? How about 2009?"
   ]
  },
  {
   "cell_type": "code",
   "execution_count": 18,
   "metadata": {},
   "outputs": [
    {
     "name": "stdout",
     "output_type": "stream",
     "text": [
      "Built in 2008: 19\n",
      "Built in 2009: 15\n"
     ]
    }
   ],
   "source": [
    "print(\"Built in 2008: %d\" % subset[subset.YearBuilt == 2008].shape[0])\n",
    "print(\"Built in 2009: %d\" % subset[subset.YearBuilt == 2009].shape[0])"
   ]
  },
  {
   "cell_type": "markdown",
   "metadata": {},
   "source": [
    "#### 1.5.6 Break-down median prices of houses by year in sold they were sold"
   ]
  },
  {
   "cell_type": "code",
   "execution_count": 19,
   "metadata": {},
   "outputs": [
    {
     "data": {
      "text/plain": [
       "YearBuilt\n",
       "1872    122000.0\n",
       "1875     94000.0\n",
       "1880    194989.5\n",
       "1882    168000.0\n",
       "1890    142200.0\n",
       "1892    107500.0\n",
       "1893    325000.0\n",
       "1898    106000.0\n",
       "1900    104513.0\n",
       "1904    157500.0\n",
       "1905    163000.0\n",
       "1906    135000.0\n",
       "1908    240000.0\n",
       "1910    114504.0\n",
       "1911    130000.0\n",
       "1912    127200.0\n",
       "1913     90350.0\n",
       "1914    128000.0\n",
       "1915    153737.5\n",
       "1916    140000.0\n",
       "1917    129500.0\n",
       "1918    157500.0\n",
       "1919    174750.0\n",
       "1920    108500.0\n",
       "1921    131690.0\n",
       "1922     99900.0\n",
       "1923    187500.0\n",
       "1924    109500.0\n",
       "1925    121000.0\n",
       "1926    108500.0\n",
       "          ...   \n",
       "1981    226750.0\n",
       "1982    134900.0\n",
       "1983    134000.0\n",
       "1984    165000.0\n",
       "1985    212000.0\n",
       "1986    190000.0\n",
       "1987    177500.0\n",
       "1988    196500.0\n",
       "1989    275000.0\n",
       "1990    206250.0\n",
       "1991    169600.0\n",
       "1992    189000.0\n",
       "1993    214000.0\n",
       "1994    207500.0\n",
       "1995    238000.0\n",
       "1996    212000.0\n",
       "1997    207600.0\n",
       "1998    212125.0\n",
       "1999    190000.0\n",
       "2000    213000.0\n",
       "2001    227000.0\n",
       "2002    218750.0\n",
       "2003    200500.0\n",
       "2004    192000.0\n",
       "2005    195350.0\n",
       "2006    239899.5\n",
       "2007    230000.0\n",
       "2008    335000.0\n",
       "2009    229456.0\n",
       "2010    394432.0\n",
       "Name: SalePrice, Length: 111, dtype: float64"
      ]
     },
     "execution_count": 19,
     "metadata": {},
     "output_type": "execute_result"
    }
   ],
   "source": [
    "subset.groupby(by=\"YearBuilt\")[\"SalePrice\"].median()"
   ]
  },
  {
   "cell_type": "markdown",
   "metadata": {},
   "source": [
    "#### 1.5.7 What is the average difference between 1st Floor (`1stFlrSF`) and 2nd Floor (`2ndFlrSF`) square feet?"
   ]
  },
  {
   "cell_type": "code",
   "execution_count": 20,
   "metadata": {},
   "outputs": [
    {
     "data": {
      "text/plain": [
       "809.9641965029143"
      ]
     },
     "execution_count": 20,
     "metadata": {},
     "output_type": "execute_result"
    }
   ],
   "source": [
    "subset[\"1stFlrSF\"].mean() - subset[\"2ndFlrSF\"].mean()"
   ]
  },
  {
   "cell_type": "markdown",
   "metadata": {},
   "source": [
    "#### 1.5.8 In what neighborhood is the most expensive house situated?"
   ]
  },
  {
   "cell_type": "code",
   "execution_count": 21,
   "metadata": {},
   "outputs": [
    {
     "data": {
      "text/plain": [
       "'NoRidge'"
      ]
     },
     "execution_count": 21,
     "metadata": {},
     "output_type": "execute_result"
    }
   ],
   "source": [
    "subset[\"Neighborhood\"][subset[\"SalePrice\"].idxmax()]"
   ]
  },
  {
   "cell_type": "markdown",
   "metadata": {},
   "source": [
    "#### 1.5.9 What was the average price of houses with overall condition 8 or higher, built after 1960 (inclusive) and sold before 2009 (exclusive)?"
   ]
  },
  {
   "cell_type": "code",
   "execution_count": 22,
   "metadata": {},
   "outputs": [
    {
     "data": {
      "text/plain": [
       "163821.42857142858"
      ]
     },
     "execution_count": 22,
     "metadata": {},
     "output_type": "execute_result"
    }
   ],
   "source": [
    "subset.query(\"OverallCond >= 8 and YearBuilt >= 1960 and YearBuilt < 2009\")[\"SalePrice\"].mean()"
   ]
  },
  {
   "cell_type": "markdown",
   "metadata": {},
   "source": [
    "#### 1.5.10 Display the house with id 987? Display the 472nd house in the dataset?"
   ]
  },
  {
   "cell_type": "code",
   "execution_count": 25,
   "metadata": {},
   "outputs": [
    {
     "name": "stdout",
     "output_type": "stream",
     "text": [
      "Id                   987\n",
      "MSSubClass            50\n",
      "MSZoning              RM\n",
      "LotFrontage           59\n",
      "LotArea             5310\n",
      "Street              Pave\n",
      "Alley                NaN\n",
      "LotShape             Reg\n",
      "LandContour          Lvl\n",
      "Utilities         AllPub\n",
      "LotConfig         Corner\n",
      "LandSlope            Gtl\n",
      "Neighborhood     OldTown\n",
      "Condition1         Feedr\n",
      "Condition2          Norm\n",
      "BldgType            1Fam\n",
      "HouseStyle        1.5Fin\n",
      "OverallQual            6\n",
      "OverallCond            8\n",
      "YearBuilt           1910\n",
      "YearRemodAdd        2003\n",
      "RoofStyle            Hip\n",
      "RoofMatl         CompShg\n",
      "Exterior1st      VinylSd\n",
      "Exterior2nd      VinylSd\n",
      "MasVnrType          None\n",
      "MasVnrArea             0\n",
      "ExterQual             TA\n",
      "ExterCond             Gd\n",
      "Foundation        CBlock\n",
      "                  ...   \n",
      "BedroomAbvGr           2\n",
      "KitchenAbvGr           1\n",
      "KitchenQual           Gd\n",
      "TotRmsAbvGrd           5\n",
      "Functional           Typ\n",
      "Fireplaces             0\n",
      "FireplaceQu          NaN\n",
      "GarageType        Attchd\n",
      "GarageYrBlt         1950\n",
      "GarageFinish         Unf\n",
      "GarageCars             1\n",
      "GarageArea           255\n",
      "GarageQual            Fa\n",
      "GarageCond            TA\n",
      "PavedDrive             Y\n",
      "WoodDeckSF           394\n",
      "OpenPorchSF            0\n",
      "EnclosedPorch          0\n",
      "3SsnPorch              0\n",
      "ScreenPorch            0\n",
      "PoolArea               0\n",
      "PoolQC               NaN\n",
      "Fence                NaN\n",
      "MiscFeature          NaN\n",
      "MiscVal                0\n",
      "MoSold                 6\n",
      "YrSold              2006\n",
      "SaleType              WD\n",
      "SaleCondition     Normal\n",
      "SalePrice         117000\n",
      "Name: 986, Length: 81, dtype: object\n",
      "Id                   473\n",
      "MSSubClass           180\n",
      "MSZoning              RM\n",
      "LotFrontage           35\n",
      "LotArea             3675\n",
      "Street              Pave\n",
      "Alley                NaN\n",
      "LotShape             Reg\n",
      "LandContour          Lvl\n",
      "Utilities         AllPub\n",
      "LotConfig         Inside\n",
      "LandSlope            Gtl\n",
      "Neighborhood     Edwards\n",
      "Condition1          Norm\n",
      "Condition2          Norm\n",
      "BldgType          TwnhsE\n",
      "HouseStyle          SLvl\n",
      "OverallQual            6\n",
      "OverallCond            5\n",
      "YearBuilt           2005\n",
      "YearRemodAdd        2005\n",
      "RoofStyle          Gable\n",
      "RoofMatl         CompShg\n",
      "Exterior1st      VinylSd\n",
      "Exterior2nd      VinylSd\n",
      "MasVnrType       BrkFace\n",
      "MasVnrArea            80\n",
      "ExterQual             TA\n",
      "ExterCond             TA\n",
      "Foundation         PConc\n",
      "                  ...   \n",
      "BedroomAbvGr           2\n",
      "KitchenAbvGr           1\n",
      "KitchenQual           TA\n",
      "TotRmsAbvGrd           5\n",
      "Functional           Typ\n",
      "Fireplaces             0\n",
      "FireplaceQu          NaN\n",
      "GarageType       Basment\n",
      "GarageYrBlt         2005\n",
      "GarageFinish         RFn\n",
      "GarageCars             2\n",
      "GarageArea           525\n",
      "GarageQual            TA\n",
      "GarageCond            TA\n",
      "PavedDrive             Y\n",
      "WoodDeckSF             0\n",
      "OpenPorchSF           28\n",
      "EnclosedPorch          0\n",
      "3SsnPorch              0\n",
      "ScreenPorch            0\n",
      "PoolArea               0\n",
      "PoolQC               NaN\n",
      "Fence                NaN\n",
      "MiscFeature          NaN\n",
      "MiscVal                0\n",
      "MoSold                 6\n",
      "YrSold              2008\n",
      "SaleType              WD\n",
      "SaleCondition     Normal\n",
      "SalePrice         148000\n",
      "Name: 472, Length: 81, dtype: object\n"
     ]
    }
   ],
   "source": [
    "print(df[df[\"Id\"] == 987].T.squeeze()) # or df[df[\"Id\"] == 987]\n",
    "print(df.loc[472])"
   ]
  },
  {
   "cell_type": "markdown",
   "metadata": {},
   "source": [
    "## Part 2: Plotting [total of 30%]"
   ]
  },
  {
   "cell_type": "markdown",
   "metadata": {},
   "source": [
    "#### 2.1 Univariate (1 variable) [10%, 3.3% each]"
   ]
  },
  {
   "cell_type": "markdown",
   "metadata": {},
   "source": [
    "#### 2.1.1 Plot the distribution of sale price"
   ]
  },
  {
   "cell_type": "code",
   "execution_count": 36,
   "metadata": {},
   "outputs": [
    {
     "data": {
      "text/plain": [
       "<matplotlib.axes._subplots.AxesSubplot at 0x1a23d3ee80>"
      ]
     },
     "execution_count": 36,
     "metadata": {},
     "output_type": "execute_result"
    },
    {
     "data": {
      "image/png": "[encoded data removed]",
      "text/plain": [
       "<Figure size 432x288 with 1 Axes>"
      ]
     },
     "metadata": {
      "needs_background": "light"
     },
     "output_type": "display_data"
    }
   ],
   "source": [
    "df[\"SalePrice\"].plot.hist()"
   ]
  },
  {
   "cell_type": "markdown",
   "metadata": {},
   "source": [
    "#### 2.1.2 Plot the histogram of the overall condition"
   ]
  },
  {
   "cell_type": "code",
   "execution_count": 30,
   "metadata": {},
   "outputs": [
    {
     "data": {
      "text/plain": [
       "<matplotlib.axes._subplots.AxesSubplot at 0x1a23f56240>"
      ]
     },
     "execution_count": 30,
     "metadata": {},
     "output_type": "execute_result"
    },
    {
     "data": {
      "image/png": "[encoded data removed]",
      "text/plain": [
       "<Figure size 432x288 with 1 Axes>"
      ]
     },
     "metadata": {
      "needs_background": "light"
     },
     "output_type": "display_data"
    }
   ],
   "source": [
    "df[\"OverallCond\"].plot.hist()"
   ]
  },
  {
   "cell_type": "markdown",
   "metadata": {},
   "source": [
    "#### 2.1.3 Create one univariate plot of your own choice"
   ]
  },
  {
   "cell_type": "code",
   "execution_count": 35,
   "metadata": {},
   "outputs": [
    {
     "data": {
      "text/plain": [
       "<matplotlib.axes._subplots.AxesSubplot at 0x1a26ee1160>"
      ]
     },
     "execution_count": 35,
     "metadata": {},
     "output_type": "execute_result"
    },
    {
     "data": {
      "image/png": "[encoded data removed]",
      "text/plain": [
       "<Figure size 432x288 with 1 Axes>"
      ]
     },
     "metadata": {
      "needs_background": "light"
     },
     "output_type": "display_data"
    }
   ],
   "source": [
    "df[\"YearBuilt\"].plot.hist()"
   ]
  },
  {
   "cell_type": "markdown",
   "metadata": {},
   "source": [
    "#### 2.2 Bivariate (2 variables) [10%, 3.3% each]"
   ]
  },
  {
   "cell_type": "markdown",
   "metadata": {},
   "source": [
    "#### 2.2.1 Plot the scatter plot displaying the relationship between above ground living area (`GrLivArea`) and sale price"
   ]
  },
  {
   "cell_type": "code",
   "execution_count": null,
   "metadata": {},
   "outputs": [],
   "source": []
  },
  {
   "cell_type": "markdown",
   "metadata": {},
   "source": [
    "#### 2.2.2 Plot the boxplot of the relationship between the overall condition and the sale price\n",
    "HINT: The result should look something like [this](https://s3-us-west-1.amazonaws.com/usfca-cs686-ml/hw1/boxplot_result.png) (however, it's OK if yours looks different as long as you use the right type of plot, data and the right variables)"
   ]
  },
  {
   "cell_type": "code",
   "execution_count": null,
   "metadata": {},
   "outputs": [],
   "source": []
  },
  {
   "cell_type": "markdown",
   "metadata": {},
   "source": [
    "#### 2.2.3 Create one bivariate plot of your own choice"
   ]
  },
  {
   "cell_type": "code",
   "execution_count": null,
   "metadata": {},
   "outputs": [],
   "source": []
  },
  {
   "cell_type": "markdown",
   "metadata": {},
   "source": [
    "#### 2.3 Multivariate (2+ variables) [10%, 3.3% each]"
   ]
  },
  {
   "cell_type": "markdown",
   "metadata": {},
   "source": [
    "#### 2.3.1 Plot the scatter plot displaying the relationship between lot area and sale price, colored by the overall condition"
   ]
  },
  {
   "cell_type": "code",
   "execution_count": null,
   "metadata": {},
   "outputs": [],
   "source": []
  },
  {
   "cell_type": "markdown",
   "metadata": {},
   "source": [
    "#### 2.3.2 Create one multivariate plot of your own choice"
   ]
  },
  {
   "cell_type": "code",
   "execution_count": null,
   "metadata": {},
   "outputs": [],
   "source": []
  },
  {
   "cell_type": "markdown",
   "metadata": {},
   "source": [
    "## Part 3: Theory [total of 20%]"
   ]
  },
  {
   "cell_type": "markdown",
   "metadata": {},
   "source": [
    "### 3.1 Central Limit Theorem (CLT) [total of 10%]"
   ]
  },
  {
   "cell_type": "markdown",
   "metadata": {},
   "source": [
    "#### 3.1.1 Create an array on 100 000 samples, sampled from a uniform distribution [2%]\n",
    "HINT: check [this](https://docs.scipy.org/doc/numpy-1.14.5/reference/generated/numpy.random.uniform.html)"
   ]
  },
  {
   "cell_type": "code",
   "execution_count": null,
   "metadata": {},
   "outputs": [],
   "source": []
  },
  {
   "cell_type": "markdown",
   "metadata": {},
   "source": [
    "#### 3.1.2 Plot the distribution of the data. Does it look like a uniform distribution?  [2%]\n",
    "HINT: check [this](https://seaborn.pydata.org/tutorial/distributions.html)"
   ]
  },
  {
   "cell_type": "code",
   "execution_count": null,
   "metadata": {},
   "outputs": [],
   "source": []
  },
  {
   "cell_type": "markdown",
   "metadata": {},
   "source": [
    "#### 3.1.3 Randomly shuffle the data, create pairs ($n=2$) with the original and than average the value of the pair  [1.5%]\n",
    "In other words:\n",
    "\n",
    "1. Create new array by shuffling the data you sampled in `3.1.1` ([HINT](https://docs.scipy.org/doc/numpy-1.15.0/reference/generated/numpy.random.permutation.html))\n",
    "2. Stack the new array with the original data into a single 2-D array of shape (100000, 2) ([HINT](https://docs.scipy.org/doc/numpy/reference/generated/numpy.stack.html))\n",
    "3. Average the newly formed 2-D array by 2nd dimension (i.e. mean with `axis=1`)"
   ]
  },
  {
   "cell_type": "code",
   "execution_count": null,
   "metadata": {},
   "outputs": [],
   "source": []
  },
  {
   "cell_type": "markdown",
   "metadata": {},
   "source": [
    "#### 3.1.4 Similarly to `3.1.2`, plot the distribution of the pairs. What distribution does it look like? [1.5%]"
   ]
  },
  {
   "cell_type": "code",
   "execution_count": null,
   "metadata": {},
   "outputs": [],
   "source": []
  },
  {
   "cell_type": "markdown",
   "metadata": {},
   "source": [
    "#### 3.1.5 Compute the mean and standard deviation of the original data and the newly formed data. [1.5%]"
   ]
  },
  {
   "cell_type": "code",
   "execution_count": null,
   "metadata": {},
   "outputs": [],
   "source": []
  },
  {
   "cell_type": "markdown",
   "metadata": {},
   "source": [
    "#### 3.1.6 Repeat `3.1.3`, `3.1.4` and `3.1.5` for $n=5$. In one sentence, describe how the distribution have changed? Namely think about how the mean $\\mu$ and stardard deviation $\\sigma$ changed. [1%]\n",
    "HINT: Similarly to `3.1.3`, shuffle the original data 4 times and then stack into a 2-D array of shape (100000,5). The remaining steps will be the same"
   ]
  },
  {
   "cell_type": "code",
   "execution_count": null,
   "metadata": {},
   "outputs": [],
   "source": []
  },
  {
   "cell_type": "markdown",
   "metadata": {},
   "source": [
    "#### 3.1.7 Now, do the same for $n=10$. [0.5%]"
   ]
  },
  {
   "cell_type": "code",
   "execution_count": null,
   "metadata": {},
   "outputs": [],
   "source": []
  },
  {
   "cell_type": "markdown",
   "metadata": {},
   "source": [
    "### 3.2 Hypothesis Testing [total of 10%] "
   ]
  },
  {
   "cell_type": "markdown",
   "metadata": {},
   "source": [
    "In the following cell, there are data for a given experiment with 2 samples (Control group and Experimental group) with $n=30$ and $\\sigma=2.9$."
   ]
  },
  {
   "cell_type": "code",
   "execution_count": null,
   "metadata": {
    "scrolled": true
   },
   "outputs": [],
   "source": [
    "# DO NOT CHANGE ANYTHING IN THIS CELL\n",
    "data = np.array([[12.72,  8.83, 14.14, 14.49,  7.15,  8.53, 10.31, 10.59, 14.5 ,\n",
    "        15.57, 11.67, 11.46, 20.96, 11.2 ,  9.61, 15.69, 13.04, 12.79,\n",
    "         7.6 , 10.23,  5.63, 10.64, 10.5 ,  8.07, 13.01, 10.43, 11.47,\n",
    "        11.18, 10.41, 11.71],\n",
    "       [23.62, 15.67, 23.82, 15.43, 22.04, 23.02, 19.82, 17.13, 20.35,\n",
    "        28.82, 22.32, 20.53, 21.46, 16.86, 19.16, 15.53, 19.74, 15.92,\n",
    "        17.69, 20.68, 19.13, 20.51, 20.99, 15.15, 24.42, 22.73, 23.5 ,\n",
    "        18.18, 16.37, 18.89]]).transpose()\n",
    "\n",
    "df = pd.DataFrame(data, columns=[\"Control\", \"Experimental\"])\n",
    "df"
   ]
  },
  {
   "cell_type": "markdown",
   "metadata": {},
   "source": [
    "#### 3.2.1 Show whether there exists a statistically significnat difference between the \"Control\" group and the \"Experimentla group at the $\\alpha = 0.05$ level of significnace using Hypothesis testing (assume $\\sigma = 2.9$) [8%]"
   ]
  },
  {
   "cell_type": "markdown",
   "metadata": {},
   "source": [
    "#### 3.2.2 Now, confirm the above  the difference using Confidence intervals [total of 2%]"
   ]
  },
  {
   "cell_type": "markdown",
   "metadata": {},
   "source": [
    "## Additional Question [OPTIONAL]"
   ]
  },
  {
   "cell_type": "markdown",
   "metadata": {},
   "source": [
    "*All regular homework questions must be completed to receive any bonus points.*"
   ]
  },
  {
   "cell_type": "markdown",
   "metadata": {},
   "source": [
    "#### 4.1 Bayes theorem [total of 5% extra]\n",
    "Emma has lost her watch in either classroom $A$ (with a probability $0.4$) or in classroom $B$ (with a probability $0.6$). On any given break, if the watch is in $A$ and Emma spends the break searching for it in $A$, the conditional probability that she will find the watch during that break is $0.25$. Similarly, if the watch is in $B$ and Emma spends a break looking for it there, the conditional probability that she will find the watch during that break is $0.15$. The watch cannot be moved from one classroom to the other. Emma can search only during the break between classes, and she can move from one classroom to the other only during classes.\n",
    "\n",
    "1. In which classroom should Emma look to maximize the probability that she finds her watch on the first\n",
    "    break of the search?\n",
    "2. Given that Emma looked in $A$ during the first break but didn’t find her watch, what is the probability\n",
    "    that the watch is in $A$?\n",
    "3. If Emma flips a fair coin to determine where to look during the first break and finds the watch during\n",
    "    the first break, what is the probability that she looked in $A$?\n",
    "4. If the watch is not stolen and not found by the Nth break of the search, it will be stolen that break\n",
    "    with probability $\\frac{N}{N+2}$. Emma has decided to look in $A$ during the first two breaks. What is the\n",
    "    probability that she will find her watch for the first time during the second break?\n",
    "    \n",
    "##### Refresher:\n",
    "* **Law of total probability** $$P(A) = \\sum_{n}{P(A|B_{n}) P(B_{n})}$$\n",
    "* **Bayes theorem** - $$P(B|A) = \\frac{P(A|B) P(B)}{P(A)}$$"
   ]
  },
  {
   "cell_type": "markdown",
   "metadata": {},
   "source": [
    "**Type your answer in this cell**\n",
    "\n",
    "Use $\\LaTeX$ where appropriate"
   ]
  },
  {
   "cell_type": "markdown",
   "metadata": {},
   "source": [
    "#### 4.2 Kaggle exploratory data analysis [total of 10% extra]"
   ]
  },
  {
   "cell_type": "markdown",
   "metadata": {},
   "source": [
    "This is more of an open-ended question related to the on-going [Kaggle](https://www.kaggle.com/) competition: [Elo Merchant Category Recommendation](https://www.kaggle.com/c/elo-merchant-category-recommendation). In order to get the extra credit you need to **either**:\n",
    "\n",
    "* Download the [data](https://www.kaggle.com/c/elo-merchant-category-recommendation/data), create a new Jupyter Notebook (outside of this one) and perform an exploratory data analysis of your own. Your submission will then be the **.ipynb file** with EDA of the competition data.\n",
    "* Create a [Kaggle kernel](https://www.kaggle.com/c/elo-merchant-category-recommendation/kernels) (i.e. a Jupyter notebook that runs on Kaggle's infrastructure). Your submission will then be the **URL** to the Kaggle kernel.\n",
    "\n",
    "Feel free look for inspiration in other Kaggle kernels, **however do not copy/paste any code without citing the source.** If you do copy a piece of code without the appropriate resource citing, you will be deducted 1 point. In order to receive the extra credit, at least 50% of the notebook should be your own work. This question will be graded on a continuous scale, the more extensive your analysis, the more points will be attributed."
   ]
  }
 ],
 "metadata": {
  "kernelspec": {
   "display_name": "Python 3",
   "language": "python",
   "name": "python3"
  },
  "language_info": {
   "codemirror_mode": {
    "name": "ipython",
    "version": 3
   },
   "file_extension": ".py",
   "mimetype": "text/x-python",
   "name": "python",
   "nbconvert_exporter": "python",
   "pygments_lexer": "ipython3",
   "version": "3.6.7"
  }
 },
 "nbformat": 4,
 "nbformat_minor": 2
}
