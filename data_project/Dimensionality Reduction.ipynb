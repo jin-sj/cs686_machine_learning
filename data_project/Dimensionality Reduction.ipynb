{
 "cells": [
  {
   "cell_type": "code",
   "execution_count": 3,
   "metadata": {},
   "outputs": [],
   "source": [
    "import pandas as pd"
   ]
  },
  {
   "cell_type": "code",
   "execution_count": 4,
   "metadata": {},
   "outputs": [],
   "source": [
    "pd.options.display.max_rows = 4000"
   ]
  },
  {
   "cell_type": "code",
   "execution_count": 5,
   "metadata": {},
   "outputs": [],
   "source": [
    "from IPython.core.interactiveshell import InteractiveShell\n",
    "InteractiveShell.ast_node_interactivity = \"all\""
   ]
  },
  {
   "cell_type": "code",
   "execution_count": 6,
   "metadata": {},
   "outputs": [],
   "source": [
    "train = pd.read_csv(\"data/feature_selection.csv\")"
   ]
  },
  {
   "cell_type": "code",
   "execution_count": 7,
   "metadata": {},
   "outputs": [
    {
     "data": {
      "text/html": [
       "<div>\n",
       "<style scoped>\n",
       "    .dataframe tbody tr th:only-of-type {\n",
       "        vertical-align: middle;\n",
       "    }\n",
       "\n",
       "    .dataframe tbody tr th {\n",
       "        vertical-align: top;\n",
       "    }\n",
       "\n",
       "    .dataframe thead th {\n",
       "        text-align: right;\n",
       "    }\n",
       "</style>\n",
       "<table border=\"1\" class=\"dataframe\">\n",
       "  <thead>\n",
       "    <tr style=\"text-align: right;\">\n",
       "      <th></th>\n",
       "      <th>ID</th>\n",
       "      <th>age</th>\n",
       "      <th>class</th>\n",
       "      <th>A.c1.1</th>\n",
       "      <th>A.c1.2</th>\n",
       "      <th>A.c1.3</th>\n",
       "      <th>A.c1.4</th>\n",
       "      <th>A.c1.5</th>\n",
       "      <th>A.c2.1</th>\n",
       "      <th>A.c2.2</th>\n",
       "      <th>...</th>\n",
       "      <th>J.c8.1</th>\n",
       "      <th>J.c8.2</th>\n",
       "      <th>J.c8.3</th>\n",
       "      <th>J.c8.4</th>\n",
       "      <th>J.c8.5</th>\n",
       "      <th>J.c9.1</th>\n",
       "      <th>J.c9.2</th>\n",
       "      <th>J.c9.3</th>\n",
       "      <th>J.c9.4</th>\n",
       "      <th>J.c9.5</th>\n",
       "    </tr>\n",
       "  </thead>\n",
       "  <tbody>\n",
       "    <tr>\n",
       "      <th>0</th>\n",
       "      <td>5560</td>\n",
       "      <td>3</td>\n",
       "      <td>typ</td>\n",
       "      <td>2.238984</td>\n",
       "      <td>3.238984</td>\n",
       "      <td>4.238984</td>\n",
       "      <td>5.238984</td>\n",
       "      <td>6.238984</td>\n",
       "      <td>2.539386</td>\n",
       "      <td>3.539386</td>\n",
       "      <td>...</td>\n",
       "      <td>2.330630</td>\n",
       "      <td>3.330630</td>\n",
       "      <td>4.330630</td>\n",
       "      <td>5.330630</td>\n",
       "      <td>6.330630</td>\n",
       "      <td>0.105146</td>\n",
       "      <td>1.105146</td>\n",
       "      <td>2.105146</td>\n",
       "      <td>3.105146</td>\n",
       "      <td>4.105146</td>\n",
       "    </tr>\n",
       "    <tr>\n",
       "      <th>1</th>\n",
       "      <td>4694</td>\n",
       "      <td>3</td>\n",
       "      <td>typ</td>\n",
       "      <td>1.490947</td>\n",
       "      <td>2.490947</td>\n",
       "      <td>3.490947</td>\n",
       "      <td>4.490947</td>\n",
       "      <td>5.490947</td>\n",
       "      <td>0.692924</td>\n",
       "      <td>1.692924</td>\n",
       "      <td>...</td>\n",
       "      <td>0.033946</td>\n",
       "      <td>1.033946</td>\n",
       "      <td>2.033946</td>\n",
       "      <td>3.033946</td>\n",
       "      <td>4.033946</td>\n",
       "      <td>-0.921489</td>\n",
       "      <td>0.078511</td>\n",
       "      <td>1.078511</td>\n",
       "      <td>2.078511</td>\n",
       "      <td>3.078511</td>\n",
       "    </tr>\n",
       "    <tr>\n",
       "      <th>2</th>\n",
       "      <td>6449</td>\n",
       "      <td>3</td>\n",
       "      <td>typ</td>\n",
       "      <td>1.828413</td>\n",
       "      <td>2.828413</td>\n",
       "      <td>3.828413</td>\n",
       "      <td>4.828413</td>\n",
       "      <td>5.828413</td>\n",
       "      <td>2.995978</td>\n",
       "      <td>3.995978</td>\n",
       "      <td>...</td>\n",
       "      <td>-0.309544</td>\n",
       "      <td>0.690456</td>\n",
       "      <td>1.690456</td>\n",
       "      <td>2.690456</td>\n",
       "      <td>3.690456</td>\n",
       "      <td>1.838188</td>\n",
       "      <td>2.838188</td>\n",
       "      <td>3.838188</td>\n",
       "      <td>4.838188</td>\n",
       "      <td>5.838188</td>\n",
       "    </tr>\n",
       "    <tr>\n",
       "      <th>3</th>\n",
       "      <td>3008</td>\n",
       "      <td>3</td>\n",
       "      <td>asd</td>\n",
       "      <td>1.930039</td>\n",
       "      <td>2.930039</td>\n",
       "      <td>3.930039</td>\n",
       "      <td>4.930039</td>\n",
       "      <td>5.930039</td>\n",
       "      <td>2.698195</td>\n",
       "      <td>3.698195</td>\n",
       "      <td>...</td>\n",
       "      <td>0.727438</td>\n",
       "      <td>1.727438</td>\n",
       "      <td>2.727438</td>\n",
       "      <td>3.727438</td>\n",
       "      <td>4.727438</td>\n",
       "      <td>2.793029</td>\n",
       "      <td>5.793029</td>\n",
       "      <td>10.793029</td>\n",
       "      <td>17.793029</td>\n",
       "      <td>26.793029</td>\n",
       "    </tr>\n",
       "    <tr>\n",
       "      <th>4</th>\n",
       "      <td>3863</td>\n",
       "      <td>3</td>\n",
       "      <td>typ</td>\n",
       "      <td>2.272464</td>\n",
       "      <td>3.272464</td>\n",
       "      <td>4.272464</td>\n",
       "      <td>5.272464</td>\n",
       "      <td>6.272464</td>\n",
       "      <td>1.539144</td>\n",
       "      <td>2.539144</td>\n",
       "      <td>...</td>\n",
       "      <td>2.168858</td>\n",
       "      <td>3.168858</td>\n",
       "      <td>4.168858</td>\n",
       "      <td>5.168858</td>\n",
       "      <td>6.168858</td>\n",
       "      <td>-0.938000</td>\n",
       "      <td>0.062000</td>\n",
       "      <td>1.062000</td>\n",
       "      <td>2.062000</td>\n",
       "      <td>3.062000</td>\n",
       "    </tr>\n",
       "  </tbody>\n",
       "</table>\n",
       "<p>5 rows × 453 columns</p>\n",
       "</div>"
      ],
      "text/plain": [
       "     ID  age class    A.c1.1    A.c1.2    A.c1.3    A.c1.4    A.c1.5  \\\n",
       "0  5560    3   typ  2.238984  3.238984  4.238984  5.238984  6.238984   \n",
       "1  4694    3   typ  1.490947  2.490947  3.490947  4.490947  5.490947   \n",
       "2  6449    3   typ  1.828413  2.828413  3.828413  4.828413  5.828413   \n",
       "3  3008    3   asd  1.930039  2.930039  3.930039  4.930039  5.930039   \n",
       "4  3863    3   typ  2.272464  3.272464  4.272464  5.272464  6.272464   \n",
       "\n",
       "     A.c2.1    A.c2.2    ...        J.c8.1    J.c8.2    J.c8.3    J.c8.4  \\\n",
       "0  2.539386  3.539386    ...      2.330630  3.330630  4.330630  5.330630   \n",
       "1  0.692924  1.692924    ...      0.033946  1.033946  2.033946  3.033946   \n",
       "2  2.995978  3.995978    ...     -0.309544  0.690456  1.690456  2.690456   \n",
       "3  2.698195  3.698195    ...      0.727438  1.727438  2.727438  3.727438   \n",
       "4  1.539144  2.539144    ...      2.168858  3.168858  4.168858  5.168858   \n",
       "\n",
       "     J.c8.5    J.c9.1    J.c9.2     J.c9.3     J.c9.4     J.c9.5  \n",
       "0  6.330630  0.105146  1.105146   2.105146   3.105146   4.105146  \n",
       "1  4.033946 -0.921489  0.078511   1.078511   2.078511   3.078511  \n",
       "2  3.690456  1.838188  2.838188   3.838188   4.838188   5.838188  \n",
       "3  4.727438  2.793029  5.793029  10.793029  17.793029  26.793029  \n",
       "4  6.168858 -0.938000  0.062000   1.062000   2.062000   3.062000  \n",
       "\n",
       "[5 rows x 453 columns]"
      ]
     },
     "execution_count": 7,
     "metadata": {},
     "output_type": "execute_result"
    }
   ],
   "source": [
    "train.head()"
   ]
  },
  {
   "cell_type": "code",
   "execution_count": 8,
   "metadata": {},
   "outputs": [
    {
     "data": {
      "text/plain": [
       "Index(['ID', 'age', 'class', 'A.c1.1', 'A.c1.2', 'A.c1.3', 'A.c1.4', 'A.c1.5',\n",
       "       'A.c2.1', 'A.c2.2',\n",
       "       ...\n",
       "       'J.c8.1', 'J.c8.2', 'J.c8.3', 'J.c8.4', 'J.c8.5', 'J.c9.1', 'J.c9.2',\n",
       "       'J.c9.3', 'J.c9.4', 'J.c9.5'],\n",
       "      dtype='object', length=453)"
      ]
     },
     "execution_count": 8,
     "metadata": {},
     "output_type": "execute_result"
    }
   ],
   "source": [
    "train.columns"
   ]
  },
  {
   "cell_type": "code",
   "execution_count": 12,
   "metadata": {},
   "outputs": [
    {
     "data": {
      "text/plain": [
       "2"
      ]
     },
     "execution_count": 12,
     "metadata": {},
     "output_type": "execute_result"
    }
   ],
   "source": [
    "train[\"class\"].nunique()"
   ]
  },
  {
   "cell_type": "code",
   "execution_count": 9,
   "metadata": {},
   "outputs": [],
   "source": [
    "import pandas as pd\n",
    "import numpy as np\n",
    "import random\n",
    "from itertools import combinations\n",
    "\n",
    "import matplotlib.pyplot as plt\n",
    "import seaborn as sns\n",
    "\n",
    "from sklearn.random_projection import GaussianRandomProjection\n",
    "from sklearn.random_projection import SparseRandomProjection\n",
    "from sklearn.decomposition import PCA, FastICA\n",
    "from sklearn.decomposition import TruncatedSVD\n",
    "from sklearn.cluster import FeatureAgglomeration\n",
    "\n",
    "from sklearn.ensemble import RandomForestRegressor\n",
    "from sklearn.linear_model import ElasticNet\n",
    "from sklearn.linear_model import Ridge\n",
    "\n",
    "from sklearn.metrics import r2_score\n",
    "from sklearn.preprocessing import LabelEncoder\n",
    "import pickle\n",
    "\n",
    "import warnings\n",
    "warnings.filterwarnings('ignore')\n",
    "\n",
    "random.seed(1729)"
   ]
  },
  {
   "cell_type": "code",
   "execution_count": 14,
   "metadata": {},
   "outputs": [
    {
     "data": {
      "text/plain": [
       "LabelEncoder()"
      ]
     },
     "execution_count": 14,
     "metadata": {},
     "output_type": "execute_result"
    }
   ],
   "source": [
    "y_train = train['y']\n",
    "train = train.drop('y', axis=1)\n",
    "\n",
    "for c in train.columns:\n",
    "    if train[c].dtype == 'object':\n",
    "        lbl = LabelEncoder()\n",
    "        lbl.fit(list(train[c].values))\n",
    "        train[c] = lbl.transform(list(train[c].values))"
   ]
  },
  {
   "cell_type": "code",
   "execution_count": 16,
   "metadata": {},
   "outputs": [],
   "source": [
    "n_comp = 12\n",
    "\n",
    "# tSVD\n",
    "tsvd = TruncatedSVD(n_components=n_comp, random_state=420)\n",
    "tsvd_results_train = tsvd.fit_transform(train)\n",
    "\n",
    "# PCA\n",
    "pca = PCA(n_components=n_comp, random_state=420)\n",
    "pca2_results_train = pca.fit_transform(train)\n",
    "\n",
    "# ICA\n",
    "ica = FastICA(n_components=n_comp, random_state=420)\n",
    "ica2_results_train = ica.fit_transform(train)\n",
    "\n",
    "# GRP\n",
    "grp = GaussianRandomProjection(n_components=n_comp, eps=0.1, random_state=420)\n",
    "grp_results_train = grp.fit_transform(train)\n",
    "\n",
    "# SRP\n",
    "srp = SparseRandomProjection(n_components=n_comp, dense_output=True, random_state=420)\n",
    "srp_results_train = srp.fit_transform(train)\n",
    "\n",
    "# FAG\n",
    "fag = FeatureAgglomeration(n_clusters=n_comp, linkage='ward')\n",
    "fag_results_train = fag.fit_transform(train)\n"
   ]
  },
  {
   "cell_type": "code",
   "execution_count": 17,
   "metadata": {},
   "outputs": [],
   "source": [
    "dim_reds = list()\n",
    "train_pca = pd.DataFrame()\n",
    "train_ica = pd.DataFrame()\n",
    "train_tsvd = pd.DataFrame()\n",
    "train_grp = pd.DataFrame()\n",
    "train_srp = pd.DataFrame()\n",
    "train_fag = pd.DataFrame()\n",
    "\n",
    "for i in range(1, n_comp + 1):\n",
    "    train_pca['pca_' + str(i)] = pca2_results_train[:, i - 1]\n",
    "\n",
    "    train_ica['ica_' + str(i)] = ica2_results_train[:, i - 1]\n",
    "\n",
    "    train_tsvd['tsvd_' + str(i)] = tsvd_results_train[:, i - 1]\n",
    "\n",
    "    train_grp['grp_' + str(i)] = grp_results_train[:, i - 1]\n",
    "\n",
    "    train_srp['srp_' + str(i)] = srp_results_train[:, i - 1]\n",
    "\n",
    "    train_fag['fag_' + str(i)] = fag_results_train[:, i - 1]\n",
    "    \n",
    "dim_reds.append(('pca', train_pca))\n",
    "dim_reds.append(('ica', train_ica))\n",
    "dim_reds.append(('tsvd', train_tsvd))\n",
    "dim_reds.append(('grp', train_grp))\n",
    "dim_reds.append(('srp', train_srp))\n",
    "dim_reds.append(('fag', train_fag))"
   ]
  },
  {
   "cell_type": "code",
   "execution_count": 20,
   "metadata": {},
   "outputs": [
    {
     "ename": "NameError",
     "evalue": "name 'y_train' is not defined",
     "output_type": "error",
     "traceback": [
      "\u001b[0;31m---------------------------------------------------------------------------\u001b[0m",
      "\u001b[0;31mNameError\u001b[0m                                 Traceback (most recent call last)",
      "\u001b[0;32m<ipython-input-20-76b86c31dc99>\u001b[0m in \u001b[0;36m<module>\u001b[0;34m\u001b[0m\n\u001b[1;32m     16\u001b[0m         \u001b[0mmodel\u001b[0m \u001b[0;34m=\u001b[0m \u001b[0mRandomForestRegressor\u001b[0m\u001b[0;34m(\u001b[0m\u001b[0;34m)\u001b[0m\u001b[0;34m\u001b[0m\u001b[0;34m\u001b[0m\u001b[0m\n\u001b[1;32m     17\u001b[0m \u001b[0;34m\u001b[0m\u001b[0m\n\u001b[0;32m---> 18\u001b[0;31m         \u001b[0mmodel\u001b[0m\u001b[0;34m.\u001b[0m\u001b[0mfit\u001b[0m\u001b[0;34m(\u001b[0m\u001b[0mtrain_\u001b[0m\u001b[0;34m,\u001b[0m \u001b[0my_train\u001b[0m\u001b[0;34m)\u001b[0m\u001b[0;34m\u001b[0m\u001b[0;34m\u001b[0m\u001b[0m\n\u001b[0m\u001b[1;32m     19\u001b[0m         \u001b[0mc_score\u001b[0m \u001b[0;34m=\u001b[0m \u001b[0mr2_score\u001b[0m\u001b[0;34m(\u001b[0m\u001b[0my_train\u001b[0m\u001b[0;34m,\u001b[0m \u001b[0mmodel\u001b[0m\u001b[0;34m.\u001b[0m\u001b[0mpredict\u001b[0m\u001b[0;34m(\u001b[0m\u001b[0mtrain_\u001b[0m\u001b[0;34m)\u001b[0m\u001b[0;34m)\u001b[0m\u001b[0;34m\u001b[0m\u001b[0;34m\u001b[0m\u001b[0m\n\u001b[1;32m     20\u001b[0m \u001b[0;34m\u001b[0m\u001b[0m\n",
      "\u001b[0;31mNameError\u001b[0m: name 'y_train' is not defined"
     ]
    }
   ],
   "source": [
    "# creating the combination from the '7' sets of reduced components\n",
    "combs = [combinations(dim_reds, i+1) for i in range(0, len(dim_reds))]\n",
    "\n",
    "dr_scores = list()\n",
    "for c1 in combs:\n",
    "    for c2 in c1:   \n",
    "        train_, test_, id_ = list(), list(), list()\n",
    "        for k in c2:\n",
    "            train_.append(k[1])\n",
    "            id_.append(k[0])\n",
    "               \n",
    "        train_x = train.reset_index(drop=True)\n",
    "        train_.append(train_x)\n",
    "            \n",
    "        train_ = pd.concat(train_, axis=1)\n",
    "        model = RandomForestRegressor()\n",
    "\n",
    "        model.fit(train_, y_train)\n",
    "        c_score = r2_score(y_train, model.predict(train_))\n",
    "        \n",
    "        dr_scores.append((','.join(id_), c_score))\n",
    "\n",
    "        "
   ]
  },
  {
   "cell_type": "code",
   "execution_count": 19,
   "metadata": {},
   "outputs": [],
   "source": [
    "rf = RandomForestRegressor()"
   ]
  },
  {
   "cell_type": "code",
   "execution_count": null,
   "metadata": {},
   "outputs": [],
   "source": []
  }
 ],
 "metadata": {
  "kernelspec": {
   "display_name": "Python 3",
   "language": "python",
   "name": "python3"
  },
  "language_info": {
   "codemirror_mode": {
    "name": "ipython",
    "version": 3
   },
   "file_extension": ".py",
   "mimetype": "text/x-python",
   "name": "python",
   "nbconvert_exporter": "python",
   "pygments_lexer": "ipython3",
   "version": "3.7.1"
  }
 },
 "nbformat": 4,
 "nbformat_minor": 2
}
