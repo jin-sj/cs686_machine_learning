{
 "cells": [
  {
   "cell_type": "code",
   "execution_count": 131,
   "metadata": {},
   "outputs": [],
   "source": [
    "import pandas as pd\n",
    "\n",
    "from sklearn.preprocessing import MinMaxScaler\n",
    "from sklearn.ensemble import RandomForestRegressor\n",
    "from sklearn.feature_selection import SelectFromModel\n",
    "from sklearn.model_selection import train_test_split\n",
    "from sklearn.metrics import accuracy_score"
   ]
  },
  {
   "cell_type": "code",
   "execution_count": 62,
   "metadata": {},
   "outputs": [],
   "source": [
    "df = pd.read_csv(\"data/feature_selection.csv\")"
   ]
  },
  {
   "cell_type": "code",
   "execution_count": 63,
   "metadata": {
    "scrolled": true
   },
   "outputs": [
    {
     "data": {
      "text/html": [
       "<div>\n",
       "<style scoped>\n",
       "    .dataframe tbody tr th:only-of-type {\n",
       "        vertical-align: middle;\n",
       "    }\n",
       "\n",
       "    .dataframe tbody tr th {\n",
       "        vertical-align: top;\n",
       "    }\n",
       "\n",
       "    .dataframe thead th {\n",
       "        text-align: right;\n",
       "    }\n",
       "</style>\n",
       "<table border=\"1\" class=\"dataframe\">\n",
       "  <thead>\n",
       "    <tr style=\"text-align: right;\">\n",
       "      <th></th>\n",
       "      <th>ID</th>\n",
       "      <th>age</th>\n",
       "      <th>class</th>\n",
       "      <th>A.c1.1</th>\n",
       "      <th>A.c1.2</th>\n",
       "      <th>A.c1.3</th>\n",
       "      <th>A.c1.4</th>\n",
       "      <th>A.c1.5</th>\n",
       "      <th>A.c2.1</th>\n",
       "      <th>A.c2.2</th>\n",
       "      <th>...</th>\n",
       "      <th>J.c8.1</th>\n",
       "      <th>J.c8.2</th>\n",
       "      <th>J.c8.3</th>\n",
       "      <th>J.c8.4</th>\n",
       "      <th>J.c8.5</th>\n",
       "      <th>J.c9.1</th>\n",
       "      <th>J.c9.2</th>\n",
       "      <th>J.c9.3</th>\n",
       "      <th>J.c9.4</th>\n",
       "      <th>J.c9.5</th>\n",
       "    </tr>\n",
       "  </thead>\n",
       "  <tbody>\n",
       "    <tr>\n",
       "      <th>0</th>\n",
       "      <td>5560</td>\n",
       "      <td>3</td>\n",
       "      <td>typ</td>\n",
       "      <td>2.238984</td>\n",
       "      <td>3.238984</td>\n",
       "      <td>4.238984</td>\n",
       "      <td>5.238984</td>\n",
       "      <td>6.238984</td>\n",
       "      <td>2.539386</td>\n",
       "      <td>3.539386</td>\n",
       "      <td>...</td>\n",
       "      <td>2.330630</td>\n",
       "      <td>3.330630</td>\n",
       "      <td>4.330630</td>\n",
       "      <td>5.330630</td>\n",
       "      <td>6.330630</td>\n",
       "      <td>0.105146</td>\n",
       "      <td>1.105146</td>\n",
       "      <td>2.105146</td>\n",
       "      <td>3.105146</td>\n",
       "      <td>4.105146</td>\n",
       "    </tr>\n",
       "    <tr>\n",
       "      <th>1</th>\n",
       "      <td>4694</td>\n",
       "      <td>3</td>\n",
       "      <td>typ</td>\n",
       "      <td>1.490947</td>\n",
       "      <td>2.490947</td>\n",
       "      <td>3.490947</td>\n",
       "      <td>4.490947</td>\n",
       "      <td>5.490947</td>\n",
       "      <td>0.692924</td>\n",
       "      <td>1.692924</td>\n",
       "      <td>...</td>\n",
       "      <td>0.033946</td>\n",
       "      <td>1.033946</td>\n",
       "      <td>2.033946</td>\n",
       "      <td>3.033946</td>\n",
       "      <td>4.033946</td>\n",
       "      <td>-0.921489</td>\n",
       "      <td>0.078511</td>\n",
       "      <td>1.078511</td>\n",
       "      <td>2.078511</td>\n",
       "      <td>3.078511</td>\n",
       "    </tr>\n",
       "    <tr>\n",
       "      <th>2</th>\n",
       "      <td>6449</td>\n",
       "      <td>3</td>\n",
       "      <td>typ</td>\n",
       "      <td>1.828413</td>\n",
       "      <td>2.828413</td>\n",
       "      <td>3.828413</td>\n",
       "      <td>4.828413</td>\n",
       "      <td>5.828413</td>\n",
       "      <td>2.995978</td>\n",
       "      <td>3.995978</td>\n",
       "      <td>...</td>\n",
       "      <td>-0.309544</td>\n",
       "      <td>0.690456</td>\n",
       "      <td>1.690456</td>\n",
       "      <td>2.690456</td>\n",
       "      <td>3.690456</td>\n",
       "      <td>1.838188</td>\n",
       "      <td>2.838188</td>\n",
       "      <td>3.838188</td>\n",
       "      <td>4.838188</td>\n",
       "      <td>5.838188</td>\n",
       "    </tr>\n",
       "    <tr>\n",
       "      <th>3</th>\n",
       "      <td>3008</td>\n",
       "      <td>3</td>\n",
       "      <td>asd</td>\n",
       "      <td>1.930039</td>\n",
       "      <td>2.930039</td>\n",
       "      <td>3.930039</td>\n",
       "      <td>4.930039</td>\n",
       "      <td>5.930039</td>\n",
       "      <td>2.698195</td>\n",
       "      <td>3.698195</td>\n",
       "      <td>...</td>\n",
       "      <td>0.727438</td>\n",
       "      <td>1.727438</td>\n",
       "      <td>2.727438</td>\n",
       "      <td>3.727438</td>\n",
       "      <td>4.727438</td>\n",
       "      <td>2.793029</td>\n",
       "      <td>5.793029</td>\n",
       "      <td>10.793029</td>\n",
       "      <td>17.793029</td>\n",
       "      <td>26.793029</td>\n",
       "    </tr>\n",
       "    <tr>\n",
       "      <th>4</th>\n",
       "      <td>3863</td>\n",
       "      <td>3</td>\n",
       "      <td>typ</td>\n",
       "      <td>2.272464</td>\n",
       "      <td>3.272464</td>\n",
       "      <td>4.272464</td>\n",
       "      <td>5.272464</td>\n",
       "      <td>6.272464</td>\n",
       "      <td>1.539144</td>\n",
       "      <td>2.539144</td>\n",
       "      <td>...</td>\n",
       "      <td>2.168858</td>\n",
       "      <td>3.168858</td>\n",
       "      <td>4.168858</td>\n",
       "      <td>5.168858</td>\n",
       "      <td>6.168858</td>\n",
       "      <td>-0.938000</td>\n",
       "      <td>0.062000</td>\n",
       "      <td>1.062000</td>\n",
       "      <td>2.062000</td>\n",
       "      <td>3.062000</td>\n",
       "    </tr>\n",
       "  </tbody>\n",
       "</table>\n",
       "<p>5 rows × 453 columns</p>\n",
       "</div>"
      ],
      "text/plain": [
       "     ID  age class    A.c1.1    A.c1.2    A.c1.3    A.c1.4    A.c1.5  \\\n",
       "0  5560    3   typ  2.238984  3.238984  4.238984  5.238984  6.238984   \n",
       "1  4694    3   typ  1.490947  2.490947  3.490947  4.490947  5.490947   \n",
       "2  6449    3   typ  1.828413  2.828413  3.828413  4.828413  5.828413   \n",
       "3  3008    3   asd  1.930039  2.930039  3.930039  4.930039  5.930039   \n",
       "4  3863    3   typ  2.272464  3.272464  4.272464  5.272464  6.272464   \n",
       "\n",
       "     A.c2.1    A.c2.2    ...        J.c8.1    J.c8.2    J.c8.3    J.c8.4  \\\n",
       "0  2.539386  3.539386    ...      2.330630  3.330630  4.330630  5.330630   \n",
       "1  0.692924  1.692924    ...      0.033946  1.033946  2.033946  3.033946   \n",
       "2  2.995978  3.995978    ...     -0.309544  0.690456  1.690456  2.690456   \n",
       "3  2.698195  3.698195    ...      0.727438  1.727438  2.727438  3.727438   \n",
       "4  1.539144  2.539144    ...      2.168858  3.168858  4.168858  5.168858   \n",
       "\n",
       "     J.c8.5    J.c9.1    J.c9.2     J.c9.3     J.c9.4     J.c9.5  \n",
       "0  6.330630  0.105146  1.105146   2.105146   3.105146   4.105146  \n",
       "1  4.033946 -0.921489  0.078511   1.078511   2.078511   3.078511  \n",
       "2  3.690456  1.838188  2.838188   3.838188   4.838188   5.838188  \n",
       "3  4.727438  2.793029  5.793029  10.793029  17.793029  26.793029  \n",
       "4  6.168858 -0.938000  0.062000   1.062000   2.062000   3.062000  \n",
       "\n",
       "[5 rows x 453 columns]"
      ]
     },
     "execution_count": 63,
     "metadata": {},
     "output_type": "execute_result"
    }
   ],
   "source": [
    "df.head()"
   ]
  },
  {
   "cell_type": "markdown",
   "metadata": {},
   "source": [
    "## Initial look\n",
    "There are 453 columns, where 3 are categorical. Since age only has 1 value, this column will be dropped. ID will also be dropped since it is just an identifier of the data. Class will be label encoded, to 0 and 1; one hot encoding is unecessary since it only has 2 values.\n",
    "* Categorical\n",
    "    * ID: 818 unique values\n",
    "    * age: 1 unique\n",
    "    * class: 2 unique values\n",
    "* Continuous\n",
    "    * 450 columns of 10metrics x 9channels x 5 scales\n",
    "Dropping ID and age results in 451 columns"
   ]
  },
  {
   "cell_type": "code",
   "execution_count": 117,
   "metadata": {},
   "outputs": [
    {
     "data": {
      "text/plain": [
       "LabelEncoder()"
      ]
     },
     "execution_count": 117,
     "metadata": {},
     "output_type": "execute_result"
    }
   ],
   "source": [
    "le = preprocessing.LabelEncoder()\n",
    "le.fit(df['class'])\n",
    "target = le.transform(df['class']) "
   ]
  },
  {
   "cell_type": "markdown",
   "metadata": {},
   "source": [
    "To run PCA, the continuous columns need to go through normalization"
   ]
  },
  {
   "cell_type": "code",
   "execution_count": 118,
   "metadata": {},
   "outputs": [],
   "source": [
    "columns = df.drop(columns=[\"ID\", \"age\", \"class\"]).columns\n",
    "x = df[columns].values\n",
    "min_max_scaler = preprocessing.MinMaxScaler()\n",
    "\n",
    "x_scaled = min_max_scaler.fit_transform(x)\n",
    "df_temp = pd.DataFrame(x_scaled, columns=columns, index = df.index)\n",
    "df[columns] = df_temp"
   ]
  },
  {
   "cell_type": "markdown",
   "metadata": {},
   "source": [
    "Before proceeding further, we drop any columns that correlate more than 0.80. This drops 360 columns out of the 450 columns"
   ]
  },
  {
   "cell_type": "code",
   "execution_count": 119,
   "metadata": {},
   "outputs": [
    {
     "name": "stdout",
     "output_type": "stream",
     "text": [
      "360\n"
     ]
    }
   ],
   "source": [
    "# Create correlation matrix\n",
    "df2 = df.drop(columns=[\"ID\", \"age\", \"class\"])\n",
    "corr_matrix = df2.corr().abs()\n",
    "\n",
    "# Select upper triangle of correlation matrix\n",
    "upper = corr_matrix.where(np.triu(np.ones(corr_matrix.shape), k=1).astype(np.bool))\n",
    "\n",
    "# Find index of feature columns with correlation greater than 0.95\n",
    "to_drop = [column for column in upper.columns if any(upper[column] > 0.80)]\n",
    "print(len(to_drop))\n",
    "df3 = df2.drop(columns=to_drop)\n",
    "df3[\"class\"] = df[\"class\"]"
   ]
  },
  {
   "cell_type": "code",
   "execution_count": 120,
   "metadata": {
    "scrolled": true
   },
   "outputs": [
    {
     "data": {
      "text/html": [
       "<div>\n",
       "<style scoped>\n",
       "    .dataframe tbody tr th:only-of-type {\n",
       "        vertical-align: middle;\n",
       "    }\n",
       "\n",
       "    .dataframe tbody tr th {\n",
       "        vertical-align: top;\n",
       "    }\n",
       "\n",
       "    .dataframe thead th {\n",
       "        text-align: right;\n",
       "    }\n",
       "</style>\n",
       "<table border=\"1\" class=\"dataframe\">\n",
       "  <thead>\n",
       "    <tr style=\"text-align: right;\">\n",
       "      <th></th>\n",
       "      <th>A.c1.1</th>\n",
       "      <th>A.c2.1</th>\n",
       "      <th>A.c3.1</th>\n",
       "      <th>A.c4.1</th>\n",
       "      <th>A.c5.1</th>\n",
       "      <th>A.c6.1</th>\n",
       "      <th>A.c7.1</th>\n",
       "      <th>A.c8.1</th>\n",
       "      <th>A.c9.1</th>\n",
       "      <th>B.c1.1</th>\n",
       "      <th>...</th>\n",
       "      <th>J.c1.1</th>\n",
       "      <th>J.c2.1</th>\n",
       "      <th>J.c3.1</th>\n",
       "      <th>J.c4.1</th>\n",
       "      <th>J.c5.1</th>\n",
       "      <th>J.c6.1</th>\n",
       "      <th>J.c7.1</th>\n",
       "      <th>J.c8.1</th>\n",
       "      <th>J.c9.1</th>\n",
       "      <th>class</th>\n",
       "    </tr>\n",
       "  </thead>\n",
       "  <tbody>\n",
       "    <tr>\n",
       "      <th>0</th>\n",
       "      <td>0.811133</td>\n",
       "      <td>0.885440</td>\n",
       "      <td>0.886870</td>\n",
       "      <td>0.265634</td>\n",
       "      <td>0.473976</td>\n",
       "      <td>0.195284</td>\n",
       "      <td>0.838154</td>\n",
       "      <td>0.732288</td>\n",
       "      <td>0.686819</td>\n",
       "      <td>0.961677</td>\n",
       "      <td>...</td>\n",
       "      <td>0.583561</td>\n",
       "      <td>0.728455</td>\n",
       "      <td>0.823503</td>\n",
       "      <td>0.306806</td>\n",
       "      <td>0.661808</td>\n",
       "      <td>0.286801</td>\n",
       "      <td>0.522014</td>\n",
       "      <td>0.832693</td>\n",
       "      <td>0.276217</td>\n",
       "      <td>1</td>\n",
       "    </tr>\n",
       "    <tr>\n",
       "      <th>1</th>\n",
       "      <td>0.623756</td>\n",
       "      <td>0.422160</td>\n",
       "      <td>0.298063</td>\n",
       "      <td>0.107139</td>\n",
       "      <td>0.234970</td>\n",
       "      <td>0.211714</td>\n",
       "      <td>0.825197</td>\n",
       "      <td>0.630345</td>\n",
       "      <td>0.272556</td>\n",
       "      <td>0.611247</td>\n",
       "      <td>...</td>\n",
       "      <td>0.799576</td>\n",
       "      <td>0.077491</td>\n",
       "      <td>0.663626</td>\n",
       "      <td>0.866635</td>\n",
       "      <td>0.563726</td>\n",
       "      <td>0.369473</td>\n",
       "      <td>0.107392</td>\n",
       "      <td>0.257865</td>\n",
       "      <td>0.019267</td>\n",
       "      <td>1</td>\n",
       "    </tr>\n",
       "    <tr>\n",
       "      <th>2</th>\n",
       "      <td>0.708289</td>\n",
       "      <td>1.000000</td>\n",
       "      <td>0.785760</td>\n",
       "      <td>0.171995</td>\n",
       "      <td>0.063152</td>\n",
       "      <td>0.255645</td>\n",
       "      <td>0.978920</td>\n",
       "      <td>0.170900</td>\n",
       "      <td>0.506626</td>\n",
       "      <td>0.297477</td>\n",
       "      <td>...</td>\n",
       "      <td>0.362484</td>\n",
       "      <td>0.189789</td>\n",
       "      <td>0.211993</td>\n",
       "      <td>0.975401</td>\n",
       "      <td>0.311083</td>\n",
       "      <td>0.234945</td>\n",
       "      <td>0.447001</td>\n",
       "      <td>0.171894</td>\n",
       "      <td>0.709969</td>\n",
       "      <td>1</td>\n",
       "    </tr>\n",
       "    <tr>\n",
       "      <th>3</th>\n",
       "      <td>0.733745</td>\n",
       "      <td>0.925286</td>\n",
       "      <td>0.724177</td>\n",
       "      <td>0.438271</td>\n",
       "      <td>0.731878</td>\n",
       "      <td>0.871260</td>\n",
       "      <td>0.747149</td>\n",
       "      <td>0.890450</td>\n",
       "      <td>0.884787</td>\n",
       "      <td>0.179786</td>\n",
       "      <td>...</td>\n",
       "      <td>0.185960</td>\n",
       "      <td>0.741472</td>\n",
       "      <td>0.294284</td>\n",
       "      <td>0.529571</td>\n",
       "      <td>0.176256</td>\n",
       "      <td>0.573982</td>\n",
       "      <td>0.358700</td>\n",
       "      <td>0.431436</td>\n",
       "      <td>0.948950</td>\n",
       "      <td>0</td>\n",
       "    </tr>\n",
       "    <tr>\n",
       "      <th>4</th>\n",
       "      <td>0.819520</td>\n",
       "      <td>0.634478</td>\n",
       "      <td>0.927901</td>\n",
       "      <td>0.656281</td>\n",
       "      <td>0.310154</td>\n",
       "      <td>0.383520</td>\n",
       "      <td>0.579619</td>\n",
       "      <td>0.585991</td>\n",
       "      <td>0.412768</td>\n",
       "      <td>0.352760</td>\n",
       "      <td>...</td>\n",
       "      <td>0.058116</td>\n",
       "      <td>0.640197</td>\n",
       "      <td>0.359781</td>\n",
       "      <td>0.192486</td>\n",
       "      <td>0.105798</td>\n",
       "      <td>0.829789</td>\n",
       "      <td>0.816374</td>\n",
       "      <td>0.792204</td>\n",
       "      <td>0.015135</td>\n",
       "      <td>1</td>\n",
       "    </tr>\n",
       "  </tbody>\n",
       "</table>\n",
       "<p>5 rows × 91 columns</p>\n",
       "</div>"
      ],
      "text/plain": [
       "     A.c1.1    A.c2.1    A.c3.1    A.c4.1    A.c5.1    A.c6.1    A.c7.1  \\\n",
       "0  0.811133  0.885440  0.886870  0.265634  0.473976  0.195284  0.838154   \n",
       "1  0.623756  0.422160  0.298063  0.107139  0.234970  0.211714  0.825197   \n",
       "2  0.708289  1.000000  0.785760  0.171995  0.063152  0.255645  0.978920   \n",
       "3  0.733745  0.925286  0.724177  0.438271  0.731878  0.871260  0.747149   \n",
       "4  0.819520  0.634478  0.927901  0.656281  0.310154  0.383520  0.579619   \n",
       "\n",
       "     A.c8.1    A.c9.1    B.c1.1  ...      J.c1.1    J.c2.1    J.c3.1  \\\n",
       "0  0.732288  0.686819  0.961677  ...    0.583561  0.728455  0.823503   \n",
       "1  0.630345  0.272556  0.611247  ...    0.799576  0.077491  0.663626   \n",
       "2  0.170900  0.506626  0.297477  ...    0.362484  0.189789  0.211993   \n",
       "3  0.890450  0.884787  0.179786  ...    0.185960  0.741472  0.294284   \n",
       "4  0.585991  0.412768  0.352760  ...    0.058116  0.640197  0.359781   \n",
       "\n",
       "     J.c4.1    J.c5.1    J.c6.1    J.c7.1    J.c8.1    J.c9.1  class  \n",
       "0  0.306806  0.661808  0.286801  0.522014  0.832693  0.276217      1  \n",
       "1  0.866635  0.563726  0.369473  0.107392  0.257865  0.019267      1  \n",
       "2  0.975401  0.311083  0.234945  0.447001  0.171894  0.709969      1  \n",
       "3  0.529571  0.176256  0.573982  0.358700  0.431436  0.948950      0  \n",
       "4  0.192486  0.105798  0.829789  0.816374  0.792204  0.015135      1  \n",
       "\n",
       "[5 rows x 91 columns]"
      ]
     },
     "execution_count": 120,
     "metadata": {},
     "output_type": "execute_result"
    }
   ],
   "source": [
    "df3.head()"
   ]
  },
  {
   "cell_type": "code",
   "execution_count": 172,
   "metadata": {},
   "outputs": [
    {
     "data": {
      "text/plain": [
       "Index(['A.c1.1', 'A.c2.1', 'A.c3.1', 'A.c4.1', 'A.c5.1', 'A.c6.1', 'A.c7.1',\n",
       "       'A.c8.1', 'A.c9.1', 'B.c1.1', 'B.c2.1', 'B.c3.1', 'B.c4.1', 'B.c5.1',\n",
       "       'B.c6.1', 'B.c7.1', 'B.c8.1', 'B.c9.1', 'C.c1.1', 'C.c2.1', 'C.c3.1',\n",
       "       'C.c4.1', 'C.c5.1', 'C.c6.1', 'C.c7.1', 'C.c8.1', 'C.c9.1', 'D.c1.1',\n",
       "       'D.c2.1', 'D.c3.1', 'D.c4.1', 'D.c5.1', 'D.c6.1', 'D.c7.1', 'D.c8.1',\n",
       "       'D.c9.1', 'E.c1.1', 'E.c2.1', 'E.c3.1', 'E.c4.1', 'E.c5.1', 'E.c6.1',\n",
       "       'E.c7.1', 'E.c8.1', 'E.c9.1', 'F.c1.1', 'F.c2.1', 'F.c3.1', 'F.c4.1',\n",
       "       'F.c5.1', 'F.c6.1', 'F.c7.1', 'F.c8.1', 'F.c9.1', 'G.c1.1', 'G.c2.1',\n",
       "       'G.c3.1', 'G.c4.1', 'G.c5.1', 'G.c6.1', 'G.c7.1', 'G.c8.1', 'G.c9.1',\n",
       "       'H.c1.1', 'H.c2.1', 'H.c3.1', 'H.c4.1', 'H.c5.1', 'H.c6.1', 'H.c7.1',\n",
       "       'H.c8.1', 'H.c9.1', 'I.c1.1', 'I.c2.1', 'I.c3.1', 'I.c4.1', 'I.c5.1',\n",
       "       'I.c6.1', 'I.c7.1', 'I.c8.1', 'I.c9.1', 'J.c1.1', 'J.c2.1', 'J.c3.1',\n",
       "       'J.c4.1', 'J.c5.1', 'J.c6.1', 'J.c7.1', 'J.c8.1', 'J.c9.1', 'class'],\n",
       "      dtype='object')"
      ]
     },
     "execution_count": 172,
     "metadata": {},
     "output_type": "execute_result"
    }
   ],
   "source": [
    "df3.columns"
   ]
  },
  {
   "cell_type": "markdown",
   "metadata": {},
   "source": [
    "We can see that columns with scale value other than 1 are all dropped."
   ]
  },
  {
   "cell_type": "markdown",
   "metadata": {},
   "source": [
    "## Feature selection through Random Forest and Feature Selection\n",
    "Using the feature importances on a randomforest model, we can further downsize the number of features that are important to make a prediction"
   ]
  },
  {
   "cell_type": "code",
   "execution_count": 126,
   "metadata": {},
   "outputs": [],
   "source": [
    "X = df3.drop(columns=[\"class\"]) \n",
    "y = df3[\"class\"]"
   ]
  },
  {
   "cell_type": "code",
   "execution_count": 138,
   "metadata": {},
   "outputs": [],
   "source": [
    "X_train, X_test, y_train, y_test = train_test_split(X, y, test_size=0.3)"
   ]
  },
  {
   "cell_type": "code",
   "execution_count": 140,
   "metadata": {
    "scrolled": true
   },
   "outputs": [
    {
     "data": {
      "text/plain": [
       "((572, 90), (572,), (246, 90), (246,))"
      ]
     },
     "execution_count": 140,
     "metadata": {},
     "output_type": "execute_result"
    }
   ],
   "source": [
    "X_train.shape, y_train.shape, X_test.shape, y_test.shape"
   ]
  },
  {
   "cell_type": "code",
   "execution_count": 152,
   "metadata": {
    "collapsed": true
   },
   "outputs": [
    {
     "data": {
      "text/plain": [
       "RandomForestRegressor(bootstrap=True, criterion='mse', max_depth=None,\n",
       "           max_features='auto', max_leaf_nodes=None,\n",
       "           min_impurity_decrease=0.0, min_impurity_split=None,\n",
       "           min_samples_leaf=1, min_samples_split=2,\n",
       "           min_weight_fraction_leaf=0.0, n_estimators=1000, n_jobs=None,\n",
       "           oob_score=False, random_state=42, verbose=0, warm_start=False)"
      ]
     },
     "execution_count": 152,
     "metadata": {},
     "output_type": "execute_result"
    },
    {
     "ename": "NameError",
     "evalue": "name 'feat_labels' is not defined",
     "output_type": "error",
     "traceback": [
      "\u001b[0;31m---------------------------------------------------------------------------\u001b[0m",
      "\u001b[0;31mNameError\u001b[0m                                 Traceback (most recent call last)",
      "\u001b[0;32m<ipython-input-152-4128b70a4daf>\u001b[0m in \u001b[0;36m<module>\u001b[0;34m\u001b[0m\n\u001b[1;32m      3\u001b[0m \u001b[0;34m\u001b[0m\u001b[0m\n\u001b[1;32m      4\u001b[0m \u001b[0;31m# Print the name and gini importance of each feature\u001b[0m\u001b[0;34m\u001b[0m\u001b[0;34m\u001b[0m\u001b[0;34m\u001b[0m\u001b[0m\n\u001b[0;32m----> 5\u001b[0;31m \u001b[0;32mfor\u001b[0m \u001b[0mfeature\u001b[0m \u001b[0;32min\u001b[0m \u001b[0mzip\u001b[0m\u001b[0;34m(\u001b[0m\u001b[0mfeat_labels\u001b[0m\u001b[0;34m,\u001b[0m \u001b[0mclf\u001b[0m\u001b[0;34m.\u001b[0m\u001b[0mfeature_importances_\u001b[0m\u001b[0;34m)\u001b[0m\u001b[0;34m:\u001b[0m\u001b[0;34m\u001b[0m\u001b[0;34m\u001b[0m\u001b[0m\n\u001b[0m\u001b[1;32m      6\u001b[0m     \u001b[0mprint\u001b[0m\u001b[0;34m(\u001b[0m\u001b[0mfeature\u001b[0m\u001b[0;34m)\u001b[0m\u001b[0;34m\u001b[0m\u001b[0;34m\u001b[0m\u001b[0m\n",
      "\u001b[0;31mNameError\u001b[0m: name 'feat_labels' is not defined"
     ]
    }
   ],
   "source": [
    "clf = RandomForestRegressor(n_estimators=1000, random_state=42)\n",
    "clf.fit(X_train, y_train)"
   ]
  },
  {
   "cell_type": "code",
   "execution_count": 153,
   "metadata": {},
   "outputs": [
    {
     "name": "stdout",
     "output_type": "stream",
     "text": [
      "('A.c1.1', 0.013229666827143634)\n",
      "('A.c2.1', 0.008117586225198498)\n",
      "('A.c3.1', 0.007332670270880795)\n",
      "('A.c4.1', 0.015099052576595265)\n",
      "('A.c5.1', 0.010746426382779839)\n",
      "('A.c6.1', 0.014386425491933514)\n",
      "('A.c7.1', 0.014830024516218851)\n",
      "('A.c8.1', 0.01122942681813424)\n",
      "('A.c9.1', 0.015865972996893105)\n",
      "('B.c1.1', 0.011684286879637953)\n",
      "('B.c2.1', 0.009433618485980523)\n",
      "('B.c3.1', 0.025069284532330486)\n",
      "('B.c4.1', 0.014536585286922539)\n",
      "('B.c5.1', 0.016197892129008958)\n",
      "('B.c6.1', 0.007881765701559408)\n",
      "('B.c7.1', 0.006909048090532318)\n",
      "('B.c8.1', 0.014382235048276305)\n",
      "('B.c9.1', 0.01732521648869488)\n",
      "('C.c1.1', 0.01450102578805327)\n",
      "('C.c2.1', 0.019313599760212376)\n",
      "('C.c3.1', 0.010162856304565794)\n",
      "('C.c4.1', 0.0069521276558200725)\n",
      "('C.c5.1', 0.006482140231444947)\n",
      "('C.c6.1', 0.012871875234721185)\n",
      "('C.c7.1', 0.005312070087340883)\n",
      "('C.c8.1', 0.006073919719040211)\n",
      "('C.c9.1', 0.010730808995679006)\n",
      "('D.c1.1', 0.007800711801237042)\n",
      "('D.c2.1', 0.008353386097702722)\n",
      "('D.c3.1', 0.012004506197366462)\n",
      "('D.c4.1', 0.014099561502588656)\n",
      "('D.c5.1', 0.014009615669147813)\n",
      "('D.c6.1', 0.007678834820017749)\n",
      "('D.c7.1', 0.005715284821685923)\n",
      "('D.c8.1', 0.011212480756760733)\n",
      "('D.c9.1', 0.007816073132543998)\n",
      "('E.c1.1', 0.010363167755453368)\n",
      "('E.c2.1', 0.01625635349233336)\n",
      "('E.c3.1', 0.010684093828600501)\n",
      "('E.c4.1', 0.014861105971022012)\n",
      "('E.c5.1', 0.012644359157975805)\n",
      "('E.c6.1', 0.007000009417911084)\n",
      "('E.c7.1', 0.007971250117732863)\n",
      "('E.c8.1', 0.007053025929040899)\n",
      "('E.c9.1', 0.006242769889238162)\n",
      "('F.c1.1', 0.007242995760458172)\n",
      "('F.c2.1', 0.01750341597515932)\n",
      "('F.c3.1', 0.005414379564344835)\n",
      "('F.c4.1', 0.010955301607492552)\n",
      "('F.c5.1', 0.007224791936573883)\n",
      "('F.c6.1', 0.014996779721622031)\n",
      "('F.c7.1', 0.015607205192642718)\n",
      "('F.c8.1', 0.007086441363553231)\n",
      "('F.c9.1', 0.006869154110985236)\n",
      "('G.c1.1', 0.007747348614319926)\n",
      "('G.c2.1', 0.01633827852910692)\n",
      "('G.c3.1', 0.008776786721954043)\n",
      "('G.c4.1', 0.008078440028894483)\n",
      "('G.c5.1', 0.006950927107801065)\n",
      "('G.c6.1', 0.008041271307470123)\n",
      "('G.c7.1', 0.012650521096686133)\n",
      "('G.c8.1', 0.01702345364584908)\n",
      "('G.c9.1', 0.013213161317454718)\n",
      "('H.c1.1', 0.0063140777112866645)\n",
      "('H.c2.1', 0.007820285184713791)\n",
      "('H.c3.1', 0.008679381647899168)\n",
      "('H.c4.1', 0.00860565658351762)\n",
      "('H.c5.1', 0.008505096247417951)\n",
      "('H.c6.1', 0.015498938832208518)\n",
      "('H.c7.1', 0.010171802621121823)\n",
      "('H.c8.1', 0.010125559585813803)\n",
      "('H.c9.1', 0.005945013244603734)\n",
      "('I.c1.1', 0.014346108331145588)\n",
      "('I.c2.1', 0.010590952673418832)\n",
      "('I.c3.1', 0.01299558861159689)\n",
      "('I.c4.1', 0.010078708757364779)\n",
      "('I.c5.1', 0.009693216428074835)\n",
      "('I.c6.1', 0.013022082572874372)\n",
      "('I.c7.1', 0.005134808063672183)\n",
      "('I.c8.1', 0.014391815904858574)\n",
      "('I.c9.1', 0.020601809351607346)\n",
      "('J.c1.1', 0.008561237380694874)\n",
      "('J.c2.1', 0.022311112376423504)\n",
      "('J.c3.1', 0.011152131299486216)\n",
      "('J.c4.1', 0.018796121376854776)\n",
      "('J.c5.1', 0.010470117177122094)\n",
      "('J.c6.1', 0.005261674071542091)\n",
      "('J.c7.1', 0.011673126561612705)\n",
      "('J.c8.1', 0.010888648050525506)\n",
      "('J.c9.1', 0.008220076866215308)\n"
     ]
    }
   ],
   "source": [
    "# Print the name and gini importance of each feature\n",
    "for feature in zip(X.columns, clf.feature_importances_):\n",
    "    print(feature)"
   ]
  },
  {
   "cell_type": "markdown",
   "metadata": {},
   "source": [
    "Looking at the feature importance values, most features dont exceed 0.01. We choose this as our threshold to select the features"
   ]
  },
  {
   "cell_type": "code",
   "execution_count": 158,
   "metadata": {},
   "outputs": [
    {
     "data": {
      "text/plain": [
       "SelectFromModel(estimator=RandomForestRegressor(bootstrap=True, criterion='mse', max_depth=None,\n",
       "           max_features='auto', max_leaf_nodes=None,\n",
       "           min_impurity_decrease=0.0, min_impurity_split=None,\n",
       "           min_samples_leaf=1, min_samples_split=2,\n",
       "           min_weight_fraction_leaf=0.0, n_estimators=1000, n_jobs=None,\n",
       "           oob_score=False, random_state=42, verbose=0, warm_start=False),\n",
       "        max_features=None, norm_order=1, prefit=False, threshold=0.01)"
      ]
     },
     "execution_count": 158,
     "metadata": {},
     "output_type": "execute_result"
    }
   ],
   "source": [
    "# Create a selector object that will use the random forest classifier to identify\n",
    "# features that have an importance of more than 0.01\n",
    "sfm = SelectFromModel(clf, threshold=0.01)\n",
    "\n",
    "# Train the selector\n",
    "sfm.fit(X_train, y_train)"
   ]
  },
  {
   "cell_type": "code",
   "execution_count": 161,
   "metadata": {},
   "outputs": [],
   "source": [
    "# Print the names of the most important features\n",
    "features = []\n",
    "for feature_list_index in sfm.get_support(indices=True):\n",
    "    features.append(X.columns[feature_list_index])"
   ]
  },
  {
   "cell_type": "code",
   "execution_count": 170,
   "metadata": {},
   "outputs": [
    {
     "data": {
      "text/plain": [
       "51"
      ]
     },
     "execution_count": 170,
     "metadata": {},
     "output_type": "execute_result"
    }
   ],
   "source": [
    "len(features)"
   ]
  },
  {
   "cell_type": "code",
   "execution_count": 171,
   "metadata": {},
   "outputs": [
    {
     "name": "stdout",
     "output_type": "stream",
     "text": [
      "A.c1.1\n",
      "A.c4.1\n",
      "A.c5.1\n",
      "A.c6.1\n",
      "A.c7.1\n",
      "A.c8.1\n",
      "A.c9.1\n",
      "B.c1.1\n",
      "B.c3.1\n",
      "B.c4.1\n",
      "B.c5.1\n",
      "B.c8.1\n",
      "B.c9.1\n",
      "C.c1.1\n",
      "C.c2.1\n",
      "C.c3.1\n",
      "C.c6.1\n",
      "C.c9.1\n",
      "D.c3.1\n",
      "D.c4.1\n",
      "D.c5.1\n",
      "D.c8.1\n",
      "E.c1.1\n",
      "E.c2.1\n",
      "E.c3.1\n",
      "E.c4.1\n",
      "E.c5.1\n",
      "F.c2.1\n",
      "F.c4.1\n",
      "F.c6.1\n",
      "F.c7.1\n",
      "G.c2.1\n",
      "G.c7.1\n",
      "G.c8.1\n",
      "G.c9.1\n",
      "H.c6.1\n",
      "H.c7.1\n",
      "H.c8.1\n",
      "I.c1.1\n",
      "I.c2.1\n",
      "I.c3.1\n",
      "I.c4.1\n",
      "I.c6.1\n",
      "I.c8.1\n",
      "I.c9.1\n",
      "J.c2.1\n",
      "J.c3.1\n",
      "J.c4.1\n",
      "J.c5.1\n",
      "J.c7.1\n",
      "J.c8.1\n"
     ]
    }
   ],
   "source": [
    "for f in features:\n",
    "    #print(f, end=', ', flush=True)\n",
    "    print(f)"
   ]
  },
  {
   "cell_type": "markdown",
   "metadata": {},
   "source": [
    "After going through feature selection, we get 51 features shown above.\n",
    "In all\n",
    "    * we reduced 452 features to 450 by dropping ID and age\n",
    "    * Reduced from 450 to 90 by removing columns that correlated more than 0.8\n",
    "    * Reduced from 90 to 51 through feature selection"
   ]
  }
 ],
 "metadata": {
  "kernelspec": {
   "display_name": "Python 3",
   "language": "python",
   "name": "python3"
  },
  "language_info": {
   "codemirror_mode": {
    "name": "ipython",
    "version": 3
   },
   "file_extension": ".py",
   "mimetype": "text/x-python",
   "name": "python",
   "nbconvert_exporter": "python",
   "pygments_lexer": "ipython3",
   "version": "3.7.1"
  }
 },
 "nbformat": 4,
 "nbformat_minor": 2
}
