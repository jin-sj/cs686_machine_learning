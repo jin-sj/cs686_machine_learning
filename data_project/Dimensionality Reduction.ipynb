{
 "cells": [
  {
   "cell_type": "code",
   "execution_count": 54,
   "metadata": {},
   "outputs": [],
   "source": [
    "import pandas as pd\n",
    "from sklearn.cluster import KMeans\n",
    "from scipy.spatial.distance import cdist\n"
   ]
  },
  {
   "cell_type": "code",
   "execution_count": 4,
   "metadata": {},
   "outputs": [],
   "source": [
    "pd.options.display.max_rows = 4000"
   ]
  },
  {
   "cell_type": "code",
   "execution_count": 5,
   "metadata": {},
   "outputs": [],
   "source": [
    "from IPython.core.interactiveshell import InteractiveShell\n",
    "InteractiveShell.ast_node_interactivity = \"all\""
   ]
  },
  {
   "cell_type": "code",
   "execution_count": 6,
   "metadata": {},
   "outputs": [],
   "source": [
    "train = pd.read_csv(\"data/feature_selection.csv\")"
   ]
  },
  {
   "cell_type": "code",
   "execution_count": 7,
   "metadata": {
    "scrolled": true
   },
   "outputs": [
    {
     "data": {
      "text/html": [
       "<div>\n",
       "<style scoped>\n",
       "    .dataframe tbody tr th:only-of-type {\n",
       "        vertical-align: middle;\n",
       "    }\n",
       "\n",
       "    .dataframe tbody tr th {\n",
       "        vertical-align: top;\n",
       "    }\n",
       "\n",
       "    .dataframe thead th {\n",
       "        text-align: right;\n",
       "    }\n",
       "</style>\n",
       "<table border=\"1\" class=\"dataframe\">\n",
       "  <thead>\n",
       "    <tr style=\"text-align: right;\">\n",
       "      <th></th>\n",
       "      <th>ID</th>\n",
       "      <th>age</th>\n",
       "      <th>class</th>\n",
       "      <th>A.c1.1</th>\n",
       "      <th>A.c1.2</th>\n",
       "      <th>A.c1.3</th>\n",
       "      <th>A.c1.4</th>\n",
       "      <th>A.c1.5</th>\n",
       "      <th>A.c2.1</th>\n",
       "      <th>A.c2.2</th>\n",
       "      <th>...</th>\n",
       "      <th>J.c8.1</th>\n",
       "      <th>J.c8.2</th>\n",
       "      <th>J.c8.3</th>\n",
       "      <th>J.c8.4</th>\n",
       "      <th>J.c8.5</th>\n",
       "      <th>J.c9.1</th>\n",
       "      <th>J.c9.2</th>\n",
       "      <th>J.c9.3</th>\n",
       "      <th>J.c9.4</th>\n",
       "      <th>J.c9.5</th>\n",
       "    </tr>\n",
       "  </thead>\n",
       "  <tbody>\n",
       "    <tr>\n",
       "      <th>0</th>\n",
       "      <td>5560</td>\n",
       "      <td>3</td>\n",
       "      <td>typ</td>\n",
       "      <td>2.238984</td>\n",
       "      <td>3.238984</td>\n",
       "      <td>4.238984</td>\n",
       "      <td>5.238984</td>\n",
       "      <td>6.238984</td>\n",
       "      <td>2.539386</td>\n",
       "      <td>3.539386</td>\n",
       "      <td>...</td>\n",
       "      <td>2.330630</td>\n",
       "      <td>3.330630</td>\n",
       "      <td>4.330630</td>\n",
       "      <td>5.330630</td>\n",
       "      <td>6.330630</td>\n",
       "      <td>0.105146</td>\n",
       "      <td>1.105146</td>\n",
       "      <td>2.105146</td>\n",
       "      <td>3.105146</td>\n",
       "      <td>4.105146</td>\n",
       "    </tr>\n",
       "    <tr>\n",
       "      <th>1</th>\n",
       "      <td>4694</td>\n",
       "      <td>3</td>\n",
       "      <td>typ</td>\n",
       "      <td>1.490947</td>\n",
       "      <td>2.490947</td>\n",
       "      <td>3.490947</td>\n",
       "      <td>4.490947</td>\n",
       "      <td>5.490947</td>\n",
       "      <td>0.692924</td>\n",
       "      <td>1.692924</td>\n",
       "      <td>...</td>\n",
       "      <td>0.033946</td>\n",
       "      <td>1.033946</td>\n",
       "      <td>2.033946</td>\n",
       "      <td>3.033946</td>\n",
       "      <td>4.033946</td>\n",
       "      <td>-0.921489</td>\n",
       "      <td>0.078511</td>\n",
       "      <td>1.078511</td>\n",
       "      <td>2.078511</td>\n",
       "      <td>3.078511</td>\n",
       "    </tr>\n",
       "    <tr>\n",
       "      <th>2</th>\n",
       "      <td>6449</td>\n",
       "      <td>3</td>\n",
       "      <td>typ</td>\n",
       "      <td>1.828413</td>\n",
       "      <td>2.828413</td>\n",
       "      <td>3.828413</td>\n",
       "      <td>4.828413</td>\n",
       "      <td>5.828413</td>\n",
       "      <td>2.995978</td>\n",
       "      <td>3.995978</td>\n",
       "      <td>...</td>\n",
       "      <td>-0.309544</td>\n",
       "      <td>0.690456</td>\n",
       "      <td>1.690456</td>\n",
       "      <td>2.690456</td>\n",
       "      <td>3.690456</td>\n",
       "      <td>1.838188</td>\n",
       "      <td>2.838188</td>\n",
       "      <td>3.838188</td>\n",
       "      <td>4.838188</td>\n",
       "      <td>5.838188</td>\n",
       "    </tr>\n",
       "    <tr>\n",
       "      <th>3</th>\n",
       "      <td>3008</td>\n",
       "      <td>3</td>\n",
       "      <td>asd</td>\n",
       "      <td>1.930039</td>\n",
       "      <td>2.930039</td>\n",
       "      <td>3.930039</td>\n",
       "      <td>4.930039</td>\n",
       "      <td>5.930039</td>\n",
       "      <td>2.698195</td>\n",
       "      <td>3.698195</td>\n",
       "      <td>...</td>\n",
       "      <td>0.727438</td>\n",
       "      <td>1.727438</td>\n",
       "      <td>2.727438</td>\n",
       "      <td>3.727438</td>\n",
       "      <td>4.727438</td>\n",
       "      <td>2.793029</td>\n",
       "      <td>5.793029</td>\n",
       "      <td>10.793029</td>\n",
       "      <td>17.793029</td>\n",
       "      <td>26.793029</td>\n",
       "    </tr>\n",
       "    <tr>\n",
       "      <th>4</th>\n",
       "      <td>3863</td>\n",
       "      <td>3</td>\n",
       "      <td>typ</td>\n",
       "      <td>2.272464</td>\n",
       "      <td>3.272464</td>\n",
       "      <td>4.272464</td>\n",
       "      <td>5.272464</td>\n",
       "      <td>6.272464</td>\n",
       "      <td>1.539144</td>\n",
       "      <td>2.539144</td>\n",
       "      <td>...</td>\n",
       "      <td>2.168858</td>\n",
       "      <td>3.168858</td>\n",
       "      <td>4.168858</td>\n",
       "      <td>5.168858</td>\n",
       "      <td>6.168858</td>\n",
       "      <td>-0.938000</td>\n",
       "      <td>0.062000</td>\n",
       "      <td>1.062000</td>\n",
       "      <td>2.062000</td>\n",
       "      <td>3.062000</td>\n",
       "    </tr>\n",
       "  </tbody>\n",
       "</table>\n",
       "<p>5 rows × 453 columns</p>\n",
       "</div>"
      ],
      "text/plain": [
       "     ID  age class    A.c1.1    A.c1.2    A.c1.3    A.c1.4    A.c1.5  \\\n",
       "0  5560    3   typ  2.238984  3.238984  4.238984  5.238984  6.238984   \n",
       "1  4694    3   typ  1.490947  2.490947  3.490947  4.490947  5.490947   \n",
       "2  6449    3   typ  1.828413  2.828413  3.828413  4.828413  5.828413   \n",
       "3  3008    3   asd  1.930039  2.930039  3.930039  4.930039  5.930039   \n",
       "4  3863    3   typ  2.272464  3.272464  4.272464  5.272464  6.272464   \n",
       "\n",
       "     A.c2.1    A.c2.2    ...        J.c8.1    J.c8.2    J.c8.3    J.c8.4  \\\n",
       "0  2.539386  3.539386    ...      2.330630  3.330630  4.330630  5.330630   \n",
       "1  0.692924  1.692924    ...      0.033946  1.033946  2.033946  3.033946   \n",
       "2  2.995978  3.995978    ...     -0.309544  0.690456  1.690456  2.690456   \n",
       "3  2.698195  3.698195    ...      0.727438  1.727438  2.727438  3.727438   \n",
       "4  1.539144  2.539144    ...      2.168858  3.168858  4.168858  5.168858   \n",
       "\n",
       "     J.c8.5    J.c9.1    J.c9.2     J.c9.3     J.c9.4     J.c9.5  \n",
       "0  6.330630  0.105146  1.105146   2.105146   3.105146   4.105146  \n",
       "1  4.033946 -0.921489  0.078511   1.078511   2.078511   3.078511  \n",
       "2  3.690456  1.838188  2.838188   3.838188   4.838188   5.838188  \n",
       "3  4.727438  2.793029  5.793029  10.793029  17.793029  26.793029  \n",
       "4  6.168858 -0.938000  0.062000   1.062000   2.062000   3.062000  \n",
       "\n",
       "[5 rows x 453 columns]"
      ]
     },
     "execution_count": 7,
     "metadata": {},
     "output_type": "execute_result"
    }
   ],
   "source": [
    "train.head()"
   ]
  },
  {
   "cell_type": "code",
   "execution_count": 42,
   "metadata": {},
   "outputs": [],
   "source": [
    "train = train.drop(columns=[\"ID\"])"
   ]
  },
  {
   "cell_type": "code",
   "execution_count": 8,
   "metadata": {},
   "outputs": [
    {
     "data": {
      "text/plain": [
       "Index(['ID', 'age', 'class', 'A.c1.1', 'A.c1.2', 'A.c1.3', 'A.c1.4', 'A.c1.5',\n",
       "       'A.c2.1', 'A.c2.2',\n",
       "       ...\n",
       "       'J.c8.1', 'J.c8.2', 'J.c8.3', 'J.c8.4', 'J.c8.5', 'J.c9.1', 'J.c9.2',\n",
       "       'J.c9.3', 'J.c9.4', 'J.c9.5'],\n",
       "      dtype='object', length=453)"
      ]
     },
     "execution_count": 8,
     "metadata": {},
     "output_type": "execute_result"
    }
   ],
   "source": [
    "train.columns"
   ]
  },
  {
   "cell_type": "code",
   "execution_count": 12,
   "metadata": {},
   "outputs": [
    {
     "data": {
      "text/plain": [
       "2"
      ]
     },
     "execution_count": 12,
     "metadata": {},
     "output_type": "execute_result"
    }
   ],
   "source": [
    "train[\"class\"].nunique()"
   ]
  },
  {
   "cell_type": "code",
   "execution_count": 22,
   "metadata": {},
   "outputs": [
    {
     "data": {
      "text/plain": [
       "1"
      ]
     },
     "execution_count": 22,
     "metadata": {},
     "output_type": "execute_result"
    }
   ],
   "source": [
    "train[\"age\"].nunique()"
   ]
  },
  {
   "cell_type": "code",
   "execution_count": 24,
   "metadata": {},
   "outputs": [],
   "source": [
    "c = train.corr().abs()\n"
   ]
  },
  {
   "cell_type": "code",
   "execution_count": 26,
   "metadata": {},
   "outputs": [],
   "source": [
    "s = c.unstack()\n",
    "so = s.sort_values(kind=\"quicksort\")"
   ]
  },
  {
   "cell_type": "code",
   "execution_count": 35,
   "metadata": {},
   "outputs": [],
   "source": [
    "so_r = so.tolist().reverse()"
   ]
  },
  {
   "cell_type": "code",
   "execution_count": 37,
   "metadata": {},
   "outputs": [],
   "source": [
    "so_r"
   ]
  },
  {
   "cell_type": "code",
   "execution_count": 56,
   "metadata": {},
   "outputs": [
    {
     "data": {
      "text/plain": [
       "KMeans(algorithm='auto', copy_x=True, init='k-means++', max_iter=300,\n",
       "    n_clusters=1, n_init=10, n_jobs=None, precompute_distances='auto',\n",
       "    random_state=None, tol=0.0001, verbose=0)"
      ]
     },
     "execution_count": 56,
     "metadata": {},
     "output_type": "execute_result"
    },
    {
     "data": {
      "text/plain": [
       "KMeans(algorithm='auto', copy_x=True, init='k-means++', max_iter=300,\n",
       "    n_clusters=2, n_init=10, n_jobs=None, precompute_distances='auto',\n",
       "    random_state=None, tol=0.0001, verbose=0)"
      ]
     },
     "execution_count": 56,
     "metadata": {},
     "output_type": "execute_result"
    },
    {
     "data": {
      "text/plain": [
       "KMeans(algorithm='auto', copy_x=True, init='k-means++', max_iter=300,\n",
       "    n_clusters=3, n_init=10, n_jobs=None, precompute_distances='auto',\n",
       "    random_state=None, tol=0.0001, verbose=0)"
      ]
     },
     "execution_count": 56,
     "metadata": {},
     "output_type": "execute_result"
    },
    {
     "data": {
      "text/plain": [
       "KMeans(algorithm='auto', copy_x=True, init='k-means++', max_iter=300,\n",
       "    n_clusters=4, n_init=10, n_jobs=None, precompute_distances='auto',\n",
       "    random_state=None, tol=0.0001, verbose=0)"
      ]
     },
     "execution_count": 56,
     "metadata": {},
     "output_type": "execute_result"
    },
    {
     "data": {
      "text/plain": [
       "KMeans(algorithm='auto', copy_x=True, init='k-means++', max_iter=300,\n",
       "    n_clusters=5, n_init=10, n_jobs=None, precompute_distances='auto',\n",
       "    random_state=None, tol=0.0001, verbose=0)"
      ]
     },
     "execution_count": 56,
     "metadata": {},
     "output_type": "execute_result"
    },
    {
     "data": {
      "text/plain": [
       "KMeans(algorithm='auto', copy_x=True, init='k-means++', max_iter=300,\n",
       "    n_clusters=6, n_init=10, n_jobs=None, precompute_distances='auto',\n",
       "    random_state=None, tol=0.0001, verbose=0)"
      ]
     },
     "execution_count": 56,
     "metadata": {},
     "output_type": "execute_result"
    },
    {
     "data": {
      "text/plain": [
       "KMeans(algorithm='auto', copy_x=True, init='k-means++', max_iter=300,\n",
       "    n_clusters=7, n_init=10, n_jobs=None, precompute_distances='auto',\n",
       "    random_state=None, tol=0.0001, verbose=0)"
      ]
     },
     "execution_count": 56,
     "metadata": {},
     "output_type": "execute_result"
    },
    {
     "data": {
      "text/plain": [
       "KMeans(algorithm='auto', copy_x=True, init='k-means++', max_iter=300,\n",
       "    n_clusters=8, n_init=10, n_jobs=None, precompute_distances='auto',\n",
       "    random_state=None, tol=0.0001, verbose=0)"
      ]
     },
     "execution_count": 56,
     "metadata": {},
     "output_type": "execute_result"
    },
    {
     "data": {
      "text/plain": [
       "KMeans(algorithm='auto', copy_x=True, init='k-means++', max_iter=300,\n",
       "    n_clusters=9, n_init=10, n_jobs=None, precompute_distances='auto',\n",
       "    random_state=None, tol=0.0001, verbose=0)"
      ]
     },
     "execution_count": 56,
     "metadata": {},
     "output_type": "execute_result"
    },
    {
     "data": {
      "text/plain": [
       "[<matplotlib.lines.Line2D at 0x7f9528a3d240>]"
      ]
     },
     "execution_count": 56,
     "metadata": {},
     "output_type": "execute_result"
    },
    {
     "data": {
      "text/plain": [
       "Text(0.5, 0, 'k')"
      ]
     },
     "execution_count": 56,
     "metadata": {},
     "output_type": "execute_result"
    },
    {
     "data": {
      "text/plain": [
       "Text(0, 0.5, 'Distortion')"
      ]
     },
     "execution_count": 56,
     "metadata": {},
     "output_type": "execute_result"
    },
    {
     "data": {
      "text/plain": [
       "Text(0.5, 1.0, 'The Elbow Method showing the optimal k')"
      ]
     },
     "execution_count": 56,
     "metadata": {},
     "output_type": "execute_result"
    },
    {
     "data": {
      "image/png": "[encoded data removed]",
      "text/plain": [
       "<Figure size 432x288 with 1 Axes>"
      ]
     },
     "metadata": {
      "needs_background": "light"
     },
     "output_type": "display_data"
    }
   ],
   "source": [
    "# k means determine k\n",
    "distortions = []\n",
    "K = range(1,10)\n",
    "for k in K:\n",
    "    kmeanModel = KMeans(n_clusters=k).fit(train)\n",
    "    kmeanModel.fit(train)\n",
    "    distortions.append(sum(np.min(cdist(train, kmeanModel.cluster_centers_, 'euclidean'), axis=1)) / train.shape[0])\n",
    "\n",
    "# Plot the elbow\n",
    "plt.plot(K, distortions, 'bx-')\n",
    "plt.xlabel('k')\n",
    "plt.ylabel('Distortion')\n",
    "plt.title('The Elbow Method showing the optimal k')\n",
    "plt.show()"
   ]
  },
  {
   "cell_type": "code",
   "execution_count": 50,
   "metadata": {},
   "outputs": [
    {
     "ename": "ValueError",
     "evalue": "Shape of passed values is (452, 818), indices imply (450, 818)",
     "output_type": "error",
     "traceback": [
      "\u001b[0;31m---------------------------------------------------------------------------\u001b[0m",
      "\u001b[0;31mValueError\u001b[0m                                Traceback (most recent call last)",
      "\u001b[0;32m~/anaconda3/lib/python3.7/site-packages/pandas/core/internals.py\u001b[0m in \u001b[0;36mcreate_block_manager_from_blocks\u001b[0;34m(blocks, axes)\u001b[0m\n\u001b[1;32m   4856\u001b[0m                 blocks = [make_block(values=blocks[0],\n\u001b[0;32m-> 4857\u001b[0;31m                                      placement=slice(0, len(axes[0])))]\n\u001b[0m\u001b[1;32m   4858\u001b[0m \u001b[0;34m\u001b[0m\u001b[0m\n",
      "\u001b[0;32m~/anaconda3/lib/python3.7/site-packages/pandas/core/internals.py\u001b[0m in \u001b[0;36mmake_block\u001b[0;34m(values, placement, klass, ndim, dtype, fastpath)\u001b[0m\n\u001b[1;32m   3204\u001b[0m \u001b[0;34m\u001b[0m\u001b[0m\n\u001b[0;32m-> 3205\u001b[0;31m     \u001b[0;32mreturn\u001b[0m \u001b[0mklass\u001b[0m\u001b[0;34m(\u001b[0m\u001b[0mvalues\u001b[0m\u001b[0;34m,\u001b[0m \u001b[0mndim\u001b[0m\u001b[0;34m=\u001b[0m\u001b[0mndim\u001b[0m\u001b[0;34m,\u001b[0m \u001b[0mplacement\u001b[0m\u001b[0;34m=\u001b[0m\u001b[0mplacement\u001b[0m\u001b[0;34m)\u001b[0m\u001b[0;34m\u001b[0m\u001b[0;34m\u001b[0m\u001b[0m\n\u001b[0m\u001b[1;32m   3206\u001b[0m \u001b[0;34m\u001b[0m\u001b[0m\n",
      "\u001b[0;32m~/anaconda3/lib/python3.7/site-packages/pandas/core/internals.py\u001b[0m in \u001b[0;36m__init__\u001b[0;34m(self, values, placement, ndim)\u001b[0m\n\u001b[1;32m    124\u001b[0m                 \u001b[0;34m'Wrong number of items passed {val}, placement implies '\u001b[0m\u001b[0;34m\u001b[0m\u001b[0;34m\u001b[0m\u001b[0m\n\u001b[0;32m--> 125\u001b[0;31m                 '{mgr}'.format(val=len(self.values), mgr=len(self.mgr_locs)))\n\u001b[0m\u001b[1;32m    126\u001b[0m \u001b[0;34m\u001b[0m\u001b[0m\n",
      "\u001b[0;31mValueError\u001b[0m: Wrong number of items passed 452, placement implies 450",
      "\nDuring handling of the above exception, another exception occurred:\n",
      "\u001b[0;31mValueError\u001b[0m                                Traceback (most recent call last)",
      "\u001b[0;32m<ipython-input-50-e68ff6877f02>\u001b[0m in \u001b[0;36m<module>\u001b[0;34m\u001b[0m\n\u001b[1;32m      1\u001b[0m \u001b[0;32mfrom\u001b[0m \u001b[0msklearn\u001b[0m \u001b[0;32mimport\u001b[0m \u001b[0mpreprocessing\u001b[0m\u001b[0;34m\u001b[0m\u001b[0;34m\u001b[0m\u001b[0m\n\u001b[1;32m      2\u001b[0m \u001b[0mcolumns\u001b[0m \u001b[0;34m=\u001b[0m \u001b[0mtrain\u001b[0m\u001b[0;34m.\u001b[0m\u001b[0mdrop\u001b[0m\u001b[0;34m(\u001b[0m\u001b[0mcolumns\u001b[0m\u001b[0;34m=\u001b[0m\u001b[0;34m[\u001b[0m\u001b[0;34m\"age\"\u001b[0m\u001b[0;34m,\u001b[0m \u001b[0;34m\"class\"\u001b[0m\u001b[0;34m]\u001b[0m\u001b[0;34m)\u001b[0m\u001b[0;34m.\u001b[0m\u001b[0mcolumns\u001b[0m\u001b[0;34m\u001b[0m\u001b[0;34m\u001b[0m\u001b[0m\n\u001b[0;32m----> 3\u001b[0;31m \u001b[0mdata_scaled\u001b[0m \u001b[0;34m=\u001b[0m \u001b[0mpd\u001b[0m\u001b[0;34m.\u001b[0m\u001b[0mDataFrame\u001b[0m\u001b[0;34m(\u001b[0m\u001b[0mpreprocessing\u001b[0m\u001b[0;34m.\u001b[0m\u001b[0mscale\u001b[0m\u001b[0;34m(\u001b[0m\u001b[0mtrain\u001b[0m\u001b[0;34m)\u001b[0m\u001b[0;34m,\u001b[0m\u001b[0mcolumns\u001b[0m\u001b[0;34m=\u001b[0m\u001b[0mcolumns\u001b[0m\u001b[0;34m)\u001b[0m\u001b[0;34m\u001b[0m\u001b[0;34m\u001b[0m\u001b[0m\n\u001b[0m",
      "\u001b[0;32m~/anaconda3/lib/python3.7/site-packages/pandas/core/frame.py\u001b[0m in \u001b[0;36m__init__\u001b[0;34m(self, data, index, columns, dtype, copy)\u001b[0m\n\u001b[1;32m    377\u001b[0m             \u001b[0;32melse\u001b[0m\u001b[0;34m:\u001b[0m\u001b[0;34m\u001b[0m\u001b[0;34m\u001b[0m\u001b[0m\n\u001b[1;32m    378\u001b[0m                 mgr = self._init_ndarray(data, index, columns, dtype=dtype,\n\u001b[0;32m--> 379\u001b[0;31m                                          copy=copy)\n\u001b[0m\u001b[1;32m    380\u001b[0m         \u001b[0;32melif\u001b[0m \u001b[0misinstance\u001b[0m\u001b[0;34m(\u001b[0m\u001b[0mdata\u001b[0m\u001b[0;34m,\u001b[0m \u001b[0;34m(\u001b[0m\u001b[0mlist\u001b[0m\u001b[0;34m,\u001b[0m \u001b[0mtypes\u001b[0m\u001b[0;34m.\u001b[0m\u001b[0mGeneratorType\u001b[0m\u001b[0;34m)\u001b[0m\u001b[0;34m)\u001b[0m\u001b[0;34m:\u001b[0m\u001b[0;34m\u001b[0m\u001b[0;34m\u001b[0m\u001b[0m\n\u001b[1;32m    381\u001b[0m             \u001b[0;32mif\u001b[0m \u001b[0misinstance\u001b[0m\u001b[0;34m(\u001b[0m\u001b[0mdata\u001b[0m\u001b[0;34m,\u001b[0m \u001b[0mtypes\u001b[0m\u001b[0;34m.\u001b[0m\u001b[0mGeneratorType\u001b[0m\u001b[0;34m)\u001b[0m\u001b[0;34m:\u001b[0m\u001b[0;34m\u001b[0m\u001b[0;34m\u001b[0m\u001b[0m\n",
      "\u001b[0;32m~/anaconda3/lib/python3.7/site-packages/pandas/core/frame.py\u001b[0m in \u001b[0;36m_init_ndarray\u001b[0;34m(self, values, index, columns, dtype, copy)\u001b[0m\n\u001b[1;32m    534\u001b[0m             \u001b[0mvalues\u001b[0m \u001b[0;34m=\u001b[0m \u001b[0mmaybe_infer_to_datetimelike\u001b[0m\u001b[0;34m(\u001b[0m\u001b[0mvalues\u001b[0m\u001b[0;34m)\u001b[0m\u001b[0;34m\u001b[0m\u001b[0;34m\u001b[0m\u001b[0m\n\u001b[1;32m    535\u001b[0m \u001b[0;34m\u001b[0m\u001b[0m\n\u001b[0;32m--> 536\u001b[0;31m         \u001b[0;32mreturn\u001b[0m \u001b[0mcreate_block_manager_from_blocks\u001b[0m\u001b[0;34m(\u001b[0m\u001b[0;34m[\u001b[0m\u001b[0mvalues\u001b[0m\u001b[0;34m]\u001b[0m\u001b[0;34m,\u001b[0m \u001b[0;34m[\u001b[0m\u001b[0mcolumns\u001b[0m\u001b[0;34m,\u001b[0m \u001b[0mindex\u001b[0m\u001b[0;34m]\u001b[0m\u001b[0;34m)\u001b[0m\u001b[0;34m\u001b[0m\u001b[0;34m\u001b[0m\u001b[0m\n\u001b[0m\u001b[1;32m    537\u001b[0m \u001b[0;34m\u001b[0m\u001b[0m\n\u001b[1;32m    538\u001b[0m     \u001b[0;34m@\u001b[0m\u001b[0mproperty\u001b[0m\u001b[0;34m\u001b[0m\u001b[0;34m\u001b[0m\u001b[0m\n",
      "\u001b[0;32m~/anaconda3/lib/python3.7/site-packages/pandas/core/internals.py\u001b[0m in \u001b[0;36mcreate_block_manager_from_blocks\u001b[0;34m(blocks, axes)\u001b[0m\n\u001b[1;32m   4864\u001b[0m         \u001b[0mblocks\u001b[0m \u001b[0;34m=\u001b[0m \u001b[0;34m[\u001b[0m\u001b[0mgetattr\u001b[0m\u001b[0;34m(\u001b[0m\u001b[0mb\u001b[0m\u001b[0;34m,\u001b[0m \u001b[0;34m'values'\u001b[0m\u001b[0;34m,\u001b[0m \u001b[0mb\u001b[0m\u001b[0;34m)\u001b[0m \u001b[0;32mfor\u001b[0m \u001b[0mb\u001b[0m \u001b[0;32min\u001b[0m \u001b[0mblocks\u001b[0m\u001b[0;34m]\u001b[0m\u001b[0;34m\u001b[0m\u001b[0;34m\u001b[0m\u001b[0m\n\u001b[1;32m   4865\u001b[0m         \u001b[0mtot_items\u001b[0m \u001b[0;34m=\u001b[0m \u001b[0msum\u001b[0m\u001b[0;34m(\u001b[0m\u001b[0mb\u001b[0m\u001b[0;34m.\u001b[0m\u001b[0mshape\u001b[0m\u001b[0;34m[\u001b[0m\u001b[0;36m0\u001b[0m\u001b[0;34m]\u001b[0m \u001b[0;32mfor\u001b[0m \u001b[0mb\u001b[0m \u001b[0;32min\u001b[0m \u001b[0mblocks\u001b[0m\u001b[0;34m)\u001b[0m\u001b[0;34m\u001b[0m\u001b[0;34m\u001b[0m\u001b[0m\n\u001b[0;32m-> 4866\u001b[0;31m         \u001b[0mconstruction_error\u001b[0m\u001b[0;34m(\u001b[0m\u001b[0mtot_items\u001b[0m\u001b[0;34m,\u001b[0m \u001b[0mblocks\u001b[0m\u001b[0;34m[\u001b[0m\u001b[0;36m0\u001b[0m\u001b[0;34m]\u001b[0m\u001b[0;34m.\u001b[0m\u001b[0mshape\u001b[0m\u001b[0;34m[\u001b[0m\u001b[0;36m1\u001b[0m\u001b[0;34m:\u001b[0m\u001b[0;34m]\u001b[0m\u001b[0;34m,\u001b[0m \u001b[0maxes\u001b[0m\u001b[0;34m,\u001b[0m \u001b[0me\u001b[0m\u001b[0;34m)\u001b[0m\u001b[0;34m\u001b[0m\u001b[0;34m\u001b[0m\u001b[0m\n\u001b[0m\u001b[1;32m   4867\u001b[0m \u001b[0;34m\u001b[0m\u001b[0m\n\u001b[1;32m   4868\u001b[0m \u001b[0;34m\u001b[0m\u001b[0m\n",
      "\u001b[0;32m~/anaconda3/lib/python3.7/site-packages/pandas/core/internals.py\u001b[0m in \u001b[0;36mconstruction_error\u001b[0;34m(tot_items, block_shape, axes, e)\u001b[0m\n\u001b[1;32m   4841\u001b[0m         \u001b[0;32mraise\u001b[0m \u001b[0mValueError\u001b[0m\u001b[0;34m(\u001b[0m\u001b[0;34m\"Empty data passed with indices specified.\"\u001b[0m\u001b[0;34m)\u001b[0m\u001b[0;34m\u001b[0m\u001b[0;34m\u001b[0m\u001b[0m\n\u001b[1;32m   4842\u001b[0m     raise ValueError(\"Shape of passed values is {0}, indices imply {1}\".format(\n\u001b[0;32m-> 4843\u001b[0;31m         passed, implied))\n\u001b[0m\u001b[1;32m   4844\u001b[0m \u001b[0;34m\u001b[0m\u001b[0m\n\u001b[1;32m   4845\u001b[0m \u001b[0;34m\u001b[0m\u001b[0m\n",
      "\u001b[0;31mValueError\u001b[0m: Shape of passed values is (452, 818), indices imply (450, 818)"
     ]
    }
   ],
   "source": [
    "from sklearn import preprocessing\n",
    "columns = train.drop(columns=[\"age\", \"class\"]).columns\n",
    "data_scaled = pd.DataFrame(preprocessing.scale(train),columns=columns) \n"
   ]
  },
  {
   "cell_type": "code",
   "execution_count": 43,
   "metadata": {},
   "outputs": [
    {
     "name": "stdout",
     "output_type": "stream",
     "text": [
      "\n",
      "Running PCA ...\n",
      "Explained variance: 0.7607\n",
      "Individual variance contributions:\n",
      "0.6505823239422619\n",
      "0.00679280613473883\n",
      "0.0067188394647161405\n",
      "0.0064238160894044116\n",
      "0.006308947550961055\n",
      "0.006256404445298335\n",
      "0.006131567807483036\n",
      "0.005990237304697479\n",
      "0.005921263074247178\n",
      "0.005811792830596779\n",
      "0.005712732760276005\n",
      "0.0056412721541888415\n",
      "0.005525150788592221\n",
      "0.005420163271576534\n",
      "0.005400917922997806\n",
      "0.005358377830823923\n",
      "0.005292661216405598\n",
      "0.005232381998306785\n",
      "0.005133887074944215\n",
      "0.005045957561481618\n"
     ]
    }
   ],
   "source": [
    "n_comp = 20\n",
    "# PCA\n",
    "print('\\nRunning PCA ...')\n",
    "pca = PCA(n_components=n_comp, svd_solver='full', random_state=1001)\n",
    "X_pca = pca.fit_transform(train)\n",
    "print('Explained variance: %.4f' % pca.explained_variance_ratio_.sum())\n",
    "\n",
    "print('Individual variance contributions:')\n",
    "for j in range(n_comp):\n",
    "    print(pca.explained_variance_ratio_[j])"
   ]
  },
  {
   "cell_type": "code",
   "execution_count": 40,
   "metadata": {},
   "outputs": [
    {
     "data": {
      "text/plain": [
       "array([7.11790349e+06, 1.10952731e+03, 1.15862281e+01, 1.14340030e+01,\n",
       "       1.09466097e+01, 1.07625221e+01, 1.06712741e+01, 1.04475721e+01,\n",
       "       1.02058899e+01, 1.01020446e+01, 9.91106445e+00, 9.72299337e+00,\n",
       "       9.62312328e+00, 9.42623235e+00, 9.24659871e+00, 9.20436647e+00,\n",
       "       9.12993773e+00, 9.02734602e+00, 8.87587732e+00, 8.75756918e+00])"
      ]
     },
     "execution_count": 40,
     "metadata": {},
     "output_type": "execute_result"
    }
   ],
   "source": [
    "pca.explained_variance_"
   ]
  },
  {
   "cell_type": "code",
   "execution_count": 44,
   "metadata": {},
   "outputs": [
    {
     "data": {
      "text/plain": [
       "array([[-15.77588055,  -1.21299585,   4.44597336, ...,  -4.26585721,\n",
       "          0.92038498,  -0.96698049],\n",
       "       [-17.86759181,  -7.41035552,  -1.10186652, ...,  -2.55020905,\n",
       "         -3.87011296,  -1.44902529],\n",
       "       [-17.59692226,  -2.99055931,   2.7868292 , ...,  -0.1708841 ,\n",
       "          0.45694314,   2.11635987],\n",
       "       ...,\n",
       "       [-19.77210209,   3.45945777,  -1.08719082, ...,   2.68376908,\n",
       "         -3.06077349,   0.81157725],\n",
       "       [-16.1994565 ,  -3.98345547,  -3.92122257, ...,  -0.19583062,\n",
       "          2.65052975,   0.43181513],\n",
       "       [-17.87172438,  -1.62450518,  -3.82933543, ...,   1.7414802 ,\n",
       "         -2.7945231 ,   1.24346467]])"
      ]
     },
     "execution_count": 44,
     "metadata": {},
     "output_type": "execute_result"
    }
   ],
   "source": [
    "pca.transform(train)"
   ]
  },
  {
   "cell_type": "code",
   "execution_count": 45,
   "metadata": {},
   "outputs": [
    {
     "data": {
      "text/plain": [
       "array([[-1.37931842e-18, -1.24206431e-02,  1.22548938e-03, ...,\n",
       "         7.58420492e-02,  1.50365908e-01,  2.49731053e-01],\n",
       "       [-1.01572053e-17,  7.14659874e-05, -3.11561999e-02, ...,\n",
       "        -2.25551711e-03, -2.68431304e-03, -3.25604094e-03],\n",
       "       [ 3.76396675e-17,  6.52640902e-04,  2.59850968e-02, ...,\n",
       "         6.17784179e-02,  5.78625725e-02,  5.26414453e-02],\n",
       "       ...,\n",
       "       [ 3.45912833e-17,  1.15818654e-04, -3.32858768e-02, ...,\n",
       "         6.51286381e-02,  6.44337262e-02,  6.35071769e-02],\n",
       "       [-3.31073121e-16, -8.17407510e-04,  3.30423069e-02, ...,\n",
       "        -1.29921431e-02, -8.08769803e-03, -1.54843795e-03],\n",
       "       [-1.00010803e-15,  6.42220382e-04,  5.24362747e-02, ...,\n",
       "         3.80382750e-02,  3.41849527e-02,  2.90471897e-02]])"
      ]
     },
     "execution_count": 45,
     "metadata": {},
     "output_type": "execute_result"
    }
   ],
   "source": [
    "pca.components_"
   ]
  },
  {
   "cell_type": "code",
   "execution_count": 9,
   "metadata": {},
   "outputs": [],
   "source": [
    "import pandas as pd\n",
    "import numpy as np\n",
    "import random\n",
    "from itertools import combinations\n",
    "\n",
    "import matplotlib.pyplot as plt\n",
    "import seaborn as sns\n",
    "\n",
    "from sklearn.random_projection import GaussianRandomProjection\n",
    "from sklearn.random_projection import SparseRandomProjection\n",
    "from sklearn.decomposition import PCA, FastICA\n",
    "from sklearn.decomposition import TruncatedSVD\n",
    "from sklearn.cluster import FeatureAgglomeration\n",
    "\n",
    "from sklearn.ensemble import RandomForestRegressor\n",
    "from sklearn.linear_model import ElasticNet\n",
    "from sklearn.linear_model import Ridge\n",
    "\n",
    "from sklearn.metrics import r2_score\n",
    "from sklearn.preprocessing import LabelEncoder\n",
    "import pickle\n",
    "\n",
    "import warnings\n",
    "warnings.filterwarnings('ignore')\n",
    "\n",
    "random.seed(1729)"
   ]
  },
  {
   "cell_type": "code",
   "execution_count": 14,
   "metadata": {},
   "outputs": [
    {
     "data": {
      "text/plain": [
       "LabelEncoder()"
      ]
     },
     "execution_count": 14,
     "metadata": {},
     "output_type": "execute_result"
    }
   ],
   "source": [
    "y_train = train['y']\n",
    "train = train.drop('y', axis=1)\n",
    "\n",
    "for c in train.columns:\n",
    "    if train[c].dtype == 'object':\n",
    "        lbl = LabelEncoder()\n",
    "        lbl.fit(list(train[c].values))\n",
    "        train[c] = lbl.transform(list(train[c].values))"
   ]
  },
  {
   "cell_type": "code",
   "execution_count": 16,
   "metadata": {},
   "outputs": [],
   "source": [
    "n_comp = 12\n",
    "\n",
    "# tSVD\n",
    "tsvd = TruncatedSVD(n_components=n_comp, random_state=420)\n",
    "tsvd_results_train = tsvd.fit_transform(train)\n",
    "\n",
    "# PCA\n",
    "pca = PCA(n_components=n_comp, random_state=420)\n",
    "pca2_results_train = pca.fit_transform(train)\n",
    "\n",
    "# ICA\n",
    "ica = FastICA(n_components=n_comp, random_state=420)\n",
    "ica2_results_train = ica.fit_transform(train)\n",
    "\n",
    "# GRP\n",
    "grp = GaussianRandomProjection(n_components=n_comp, eps=0.1, random_state=420)\n",
    "grp_results_train = grp.fit_transform(train)\n",
    "\n",
    "# SRP\n",
    "srp = SparseRandomProjection(n_components=n_comp, dense_output=True, random_state=420)\n",
    "srp_results_train = srp.fit_transform(train)\n",
    "\n",
    "# FAG\n",
    "fag = FeatureAgglomeration(n_clusters=n_comp, linkage='ward')\n",
    "fag_results_train = fag.fit_transform(train)\n"
   ]
  },
  {
   "cell_type": "code",
   "execution_count": 17,
   "metadata": {},
   "outputs": [],
   "source": [
    "dim_reds = list()\n",
    "train_pca = pd.DataFrame()\n",
    "train_ica = pd.DataFrame()\n",
    "train_tsvd = pd.DataFrame()\n",
    "train_grp = pd.DataFrame()\n",
    "train_srp = pd.DataFrame()\n",
    "train_fag = pd.DataFrame()\n",
    "\n",
    "for i in range(1, n_comp + 1):\n",
    "    train_pca['pca_' + str(i)] = pca2_results_train[:, i - 1]\n",
    "\n",
    "    train_ica['ica_' + str(i)] = ica2_results_train[:, i - 1]\n",
    "\n",
    "    train_tsvd['tsvd_' + str(i)] = tsvd_results_train[:, i - 1]\n",
    "\n",
    "    train_grp['grp_' + str(i)] = grp_results_train[:, i - 1]\n",
    "\n",
    "    train_srp['srp_' + str(i)] = srp_results_train[:, i - 1]\n",
    "\n",
    "    train_fag['fag_' + str(i)] = fag_results_train[:, i - 1]\n",
    "    \n",
    "dim_reds.append(('pca', train_pca))\n",
    "dim_reds.append(('ica', train_ica))\n",
    "dim_reds.append(('tsvd', train_tsvd))\n",
    "dim_reds.append(('grp', train_grp))\n",
    "dim_reds.append(('srp', train_srp))\n",
    "dim_reds.append(('fag', train_fag))"
   ]
  },
  {
   "cell_type": "code",
   "execution_count": 20,
   "metadata": {},
   "outputs": [
    {
     "ename": "NameError",
     "evalue": "name 'y_train' is not defined",
     "output_type": "error",
     "traceback": [
      "\u001b[0;31m---------------------------------------------------------------------------\u001b[0m",
      "\u001b[0;31mNameError\u001b[0m                                 Traceback (most recent call last)",
      "\u001b[0;32m<ipython-input-20-76b86c31dc99>\u001b[0m in \u001b[0;36m<module>\u001b[0;34m\u001b[0m\n\u001b[1;32m     16\u001b[0m         \u001b[0mmodel\u001b[0m \u001b[0;34m=\u001b[0m \u001b[0mRandomForestRegressor\u001b[0m\u001b[0;34m(\u001b[0m\u001b[0;34m)\u001b[0m\u001b[0;34m\u001b[0m\u001b[0;34m\u001b[0m\u001b[0m\n\u001b[1;32m     17\u001b[0m \u001b[0;34m\u001b[0m\u001b[0m\n\u001b[0;32m---> 18\u001b[0;31m         \u001b[0mmodel\u001b[0m\u001b[0;34m.\u001b[0m\u001b[0mfit\u001b[0m\u001b[0;34m(\u001b[0m\u001b[0mtrain_\u001b[0m\u001b[0;34m,\u001b[0m \u001b[0my_train\u001b[0m\u001b[0;34m)\u001b[0m\u001b[0;34m\u001b[0m\u001b[0;34m\u001b[0m\u001b[0m\n\u001b[0m\u001b[1;32m     19\u001b[0m         \u001b[0mc_score\u001b[0m \u001b[0;34m=\u001b[0m \u001b[0mr2_score\u001b[0m\u001b[0;34m(\u001b[0m\u001b[0my_train\u001b[0m\u001b[0;34m,\u001b[0m \u001b[0mmodel\u001b[0m\u001b[0;34m.\u001b[0m\u001b[0mpredict\u001b[0m\u001b[0;34m(\u001b[0m\u001b[0mtrain_\u001b[0m\u001b[0;34m)\u001b[0m\u001b[0;34m)\u001b[0m\u001b[0;34m\u001b[0m\u001b[0;34m\u001b[0m\u001b[0m\n\u001b[1;32m     20\u001b[0m \u001b[0;34m\u001b[0m\u001b[0m\n",
      "\u001b[0;31mNameError\u001b[0m: name 'y_train' is not defined"
     ]
    }
   ],
   "source": [
    "# creating the combination from the '7' sets of reduced components\n",
    "combs = [combinations(dim_reds, i+1) for i in range(0, len(dim_reds))]\n",
    "\n",
    "dr_scores = list()\n",
    "for c1 in combs:\n",
    "    for c2 in c1:   \n",
    "        train_, test_, id_ = list(), list(), list()\n",
    "        for k in c2:\n",
    "            train_.append(k[1])\n",
    "            id_.append(k[0])\n",
    "               \n",
    "        train_x = train.reset_index(drop=True)\n",
    "        train_.append(train_x)\n",
    "            \n",
    "        train_ = pd.concat(train_, axis=1)\n",
    "        model = RandomForestRegressor()\n",
    "\n",
    "        model.fit(train_, y_train)\n",
    "        c_score = r2_score(y_train, model.predict(train_))\n",
    "        \n",
    "        dr_scores.append((','.join(id_), c_score))\n",
    "\n",
    "        "
   ]
  },
  {
   "cell_type": "code",
   "execution_count": 19,
   "metadata": {},
   "outputs": [],
   "source": [
    "rf = RandomForestRegressor()"
   ]
  },
  {
   "cell_type": "code",
   "execution_count": null,
   "metadata": {},
   "outputs": [],
   "source": []
  }
 ],
 "metadata": {
  "kernelspec": {
   "display_name": "Python 3",
   "language": "python",
   "name": "python3"
  },
  "language_info": {
   "codemirror_mode": {
    "name": "ipython",
    "version": 3
   },
   "file_extension": ".py",
   "mimetype": "text/x-python",
   "name": "python",
   "nbconvert_exporter": "python",
   "pygments_lexer": "ipython3",
   "version": "3.7.1"
  }
 },
 "nbformat": 4,
 "nbformat_minor": 2
}
