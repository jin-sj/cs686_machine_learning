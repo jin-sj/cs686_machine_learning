{
 "cells": [
  {
   "cell_type": "code",
   "execution_count": 1,
   "metadata": {},
   "outputs": [],
   "source": [
    "import pandas as pd\n",
    "from fastai import *\n",
    "from fastai.tabular import *\n",
    "import seaborn as sb\n",
    "from imblearn.over_sampling import RandomOverSampler\n",
    "from collections import Counter\n",
    "import torch\n",
    "import torch.nn as nn\n",
    "from sklearn.model_selection import KFold\n",
    "from sklearn.metrics import roc_curve"
   ]
  },
  {
   "cell_type": "code",
   "execution_count": 2,
   "metadata": {},
   "outputs": [],
   "source": [
    "path = \"data/reduced-aggregated.csv\"\n",
    "model_path = 'model/'\n",
    "dtype = dict(MONTH=np.int32, DAY_OF_WEEK=np.int32, FL_NUM=np.int32)\n",
    "df = pd.read_csv(path, dtype=dtype)"
   ]
  },
  {
   "cell_type": "code",
   "execution_count": 3,
   "metadata": {},
   "outputs": [
    {
     "data": {
      "text/html": [
       "<div>\n",
       "<style scoped>\n",
       "    .dataframe tbody tr th:only-of-type {\n",
       "        vertical-align: middle;\n",
       "    }\n",
       "\n",
       "    .dataframe tbody tr th {\n",
       "        vertical-align: top;\n",
       "    }\n",
       "\n",
       "    .dataframe thead th {\n",
       "        text-align: right;\n",
       "    }\n",
       "</style>\n",
       "<table border=\"1\" class=\"dataframe\">\n",
       "  <thead>\n",
       "    <tr style=\"text-align: right;\">\n",
       "      <th></th>\n",
       "      <th>MONTH</th>\n",
       "      <th>DAY_OF_WEEK</th>\n",
       "      <th>FL_DATE</th>\n",
       "      <th>UNIQUE_CARRIER</th>\n",
       "      <th>FL_NUM</th>\n",
       "      <th>ORIGIN</th>\n",
       "      <th>ORIGIN_CITY_NAME</th>\n",
       "      <th>DEST</th>\n",
       "      <th>DEST_CITY_NAME</th>\n",
       "      <th>CRS_DEP_TIME</th>\n",
       "      <th>ARR_DEL15</th>\n",
       "      <th>CRS_ELAPSED_TIME</th>\n",
       "      <th>DISTANCE</th>\n",
       "      <th>Unnamed: 13</th>\n",
       "    </tr>\n",
       "  </thead>\n",
       "  <tbody>\n",
       "    <tr>\n",
       "      <th>0</th>\n",
       "      <td>2</td>\n",
       "      <td>5</td>\n",
       "      <td>2017-02-03</td>\n",
       "      <td>B6</td>\n",
       "      <td>33</td>\n",
       "      <td>BTV</td>\n",
       "      <td>Burlington, VT</td>\n",
       "      <td>JFK</td>\n",
       "      <td>New York, NY</td>\n",
       "      <td>1907.0</td>\n",
       "      <td>0.0</td>\n",
       "      <td>90.0</td>\n",
       "      <td>266.0</td>\n",
       "      <td>NaN</td>\n",
       "    </tr>\n",
       "    <tr>\n",
       "      <th>1</th>\n",
       "      <td>2</td>\n",
       "      <td>7</td>\n",
       "      <td>2017-02-12</td>\n",
       "      <td>B6</td>\n",
       "      <td>33</td>\n",
       "      <td>BTV</td>\n",
       "      <td>Burlington, VT</td>\n",
       "      <td>JFK</td>\n",
       "      <td>New York, NY</td>\n",
       "      <td>1907.0</td>\n",
       "      <td>1.0</td>\n",
       "      <td>90.0</td>\n",
       "      <td>266.0</td>\n",
       "      <td>NaN</td>\n",
       "    </tr>\n",
       "    <tr>\n",
       "      <th>2</th>\n",
       "      <td>2</td>\n",
       "      <td>1</td>\n",
       "      <td>2017-02-13</td>\n",
       "      <td>B6</td>\n",
       "      <td>33</td>\n",
       "      <td>BTV</td>\n",
       "      <td>Burlington, VT</td>\n",
       "      <td>JFK</td>\n",
       "      <td>New York, NY</td>\n",
       "      <td>1907.0</td>\n",
       "      <td>1.0</td>\n",
       "      <td>90.0</td>\n",
       "      <td>266.0</td>\n",
       "      <td>NaN</td>\n",
       "    </tr>\n",
       "    <tr>\n",
       "      <th>3</th>\n",
       "      <td>2</td>\n",
       "      <td>1</td>\n",
       "      <td>2017-02-27</td>\n",
       "      <td>B6</td>\n",
       "      <td>33</td>\n",
       "      <td>DCA</td>\n",
       "      <td>Washington, DC</td>\n",
       "      <td>PBI</td>\n",
       "      <td>West Palm Beach/Palm Beach, FL</td>\n",
       "      <td>1730.0</td>\n",
       "      <td>0.0</td>\n",
       "      <td>157.0</td>\n",
       "      <td>857.0</td>\n",
       "      <td>NaN</td>\n",
       "    </tr>\n",
       "    <tr>\n",
       "      <th>4</th>\n",
       "      <td>2</td>\n",
       "      <td>2</td>\n",
       "      <td>2017-02-14</td>\n",
       "      <td>B6</td>\n",
       "      <td>34</td>\n",
       "      <td>JFK</td>\n",
       "      <td>New York, NY</td>\n",
       "      <td>BTV</td>\n",
       "      <td>Burlington, VT</td>\n",
       "      <td>1706.0</td>\n",
       "      <td>0.0</td>\n",
       "      <td>81.0</td>\n",
       "      <td>266.0</td>\n",
       "      <td>NaN</td>\n",
       "    </tr>\n",
       "  </tbody>\n",
       "</table>\n",
       "</div>"
      ],
      "text/plain": [
       "   MONTH  DAY_OF_WEEK     FL_DATE UNIQUE_CARRIER  FL_NUM ORIGIN  \\\n",
       "0      2            5  2017-02-03             B6      33    BTV   \n",
       "1      2            7  2017-02-12             B6      33    BTV   \n",
       "2      2            1  2017-02-13             B6      33    BTV   \n",
       "3      2            1  2017-02-27             B6      33    DCA   \n",
       "4      2            2  2017-02-14             B6      34    JFK   \n",
       "\n",
       "  ORIGIN_CITY_NAME DEST                  DEST_CITY_NAME  CRS_DEP_TIME  \\\n",
       "0   Burlington, VT  JFK                    New York, NY        1907.0   \n",
       "1   Burlington, VT  JFK                    New York, NY        1907.0   \n",
       "2   Burlington, VT  JFK                    New York, NY        1907.0   \n",
       "3   Washington, DC  PBI  West Palm Beach/Palm Beach, FL        1730.0   \n",
       "4     New York, NY  BTV                  Burlington, VT        1706.0   \n",
       "\n",
       "   ARR_DEL15  CRS_ELAPSED_TIME  DISTANCE  Unnamed: 13  \n",
       "0        0.0              90.0     266.0          NaN  \n",
       "1        1.0              90.0     266.0          NaN  \n",
       "2        1.0              90.0     266.0          NaN  \n",
       "3        0.0             157.0     857.0          NaN  \n",
       "4        0.0              81.0     266.0          NaN  "
      ]
     },
     "execution_count": 3,
     "metadata": {},
     "output_type": "execute_result"
    }
   ],
   "source": [
    "df.head()"
   ]
  },
  {
   "cell_type": "markdown",
   "metadata": {},
   "source": [
    "# Exploratory Analysis\n",
    "\n",
    "Out of 12 feature columns, 10 are categorical and 2 are continuous\n",
    "Seeing many columns have a large number of unique data, ranging from 7 to 6774 unique values.\n",
    "One-hot encoding all of these columns will result into over 1 thousand columns of sparse information,\n",
    "which is not an ideal situation for training. Instead, we will create embeddings on the categorical data.\n",
    "\n",
    "### Feature extraction\n",
    "Some features can be extracted from the existing columns\n",
    "\n",
    "* FL_DATE\n",
    "    * YEAR: Extract the year\n",
    "    * WEEK: Extract the nth week of the month\n",
    "* CRS_DEP_TIME: Time is in 24hour format, we extract the hour and closest 15th minute\n",
    "    * DEP_HOUR: Get the departure hour\n",
    "    * DEP_MIN15: Get the nearest floor of 15th minute \n",
    "\n",
    "### Embedding: \n",
    "Since date/time, carrier and departure/arrival destination information are categorical data, we would need change so that the values can be used for training. For this purpose, we can change the categorical values into different embeddings.\n",
    "* YEAR\n",
    "* WEEK\n",
    "* MONTH\n",
    "* DAY_OF_WEEK\n",
    "* UNIQUE_CARRIER\n",
    "* ORIGIN\n",
    "* ORIGIN_CITY_NAME\n",
    "* DEST\n",
    "* DEST_CITY_NAME\n",
    "* DEP_HOUR\n",
    "* DEP_MIN15\n",
    "\n",
    "### Dont change: \n",
    "These two colums are continous data that don't have to be altered; except for normalization\n",
    "* DISTANCE\n",
    "* CRS_ELAPSED_TIME\n"
   ]
  },
  {
   "cell_type": "code",
   "execution_count": 4,
   "metadata": {},
   "outputs": [
    {
     "data": {
      "text/plain": [
       "MONTH                 11\n",
       "DAY_OF_WEEK            7\n",
       "FL_DATE              334\n",
       "UNIQUE_CARRIER        12\n",
       "FL_NUM              6774\n",
       "ORIGIN               309\n",
       "ORIGIN_CITY_NAME     305\n",
       "DEST                 310\n",
       "DEST_CITY_NAME       306\n",
       "ARR_DEL15              2\n",
       "CRS_ELAPSED_TIME     546\n",
       "dtype: int64"
      ]
     },
     "execution_count": 4,
     "metadata": {},
     "output_type": "execute_result"
    }
   ],
   "source": [
    "df.drop(columns=[\"CRS_DEP_TIME\", \"DISTANCE\", \"Unnamed: 13\"]).nunique()"
   ]
  },
  {
   "cell_type": "code",
   "execution_count": 5,
   "metadata": {},
   "outputs": [],
   "source": [
    "def clean_data(df): \n",
    "    drop_columns = ['Unnamed: 13', 'CRS_DEP_TIME', 'FL_DATE', 'CRS_DEP_TIME']\n",
    "\n",
    "    df[\"YEAR\"] = df.apply(lambda row: int(row.FL_DATE.split('-')[0]), axis=1)\n",
    "    df[\"WEEK\"] = df.apply(lambda row: int(row.FL_DATE.split('-')[2]) // 6, axis=1)\n",
    "    df[\"DEP_HOUR\"] = df.apply(lambda row: row.CRS_DEP_TIME // 100, axis=1)\n",
    "    df[\"DEP_MIN15\"] = df.apply(lambda row: (row.CRS_DEP_TIME % 100) // 15, axis=1)\n",
    "\n",
    "    df = df.drop(columns=drop_columns)\n",
    "    df = df.fillna(0)\n",
    "    df = df.astype({\"ARR_DEL15\": np.long})\n",
    "\n",
    "    return df"
   ]
  },
  {
   "cell_type": "code",
   "execution_count": 6,
   "metadata": {},
   "outputs": [],
   "source": [
    "df = clean_data(df)"
   ]
  },
  {
   "cell_type": "code",
   "execution_count": 7,
   "metadata": {},
   "outputs": [
    {
     "data": {
      "text/plain": [
       "MONTH               False\n",
       "DAY_OF_WEEK         False\n",
       "UNIQUE_CARRIER      False\n",
       "FL_NUM              False\n",
       "ORIGIN              False\n",
       "ORIGIN_CITY_NAME    False\n",
       "DEST                False\n",
       "DEST_CITY_NAME      False\n",
       "ARR_DEL15           False\n",
       "CRS_ELAPSED_TIME    False\n",
       "DISTANCE            False\n",
       "YEAR                False\n",
       "WEEK                False\n",
       "DEP_HOUR            False\n",
       "DEP_MIN15           False\n",
       "dtype: bool"
      ]
     },
     "execution_count": 7,
     "metadata": {},
     "output_type": "execute_result"
    }
   ],
   "source": [
    "df.isna().any()"
   ]
  },
  {
   "cell_type": "markdown",
   "metadata": {},
   "source": [
    "## Total delays"
   ]
  },
  {
   "cell_type": "code",
   "execution_count": 8,
   "metadata": {},
   "outputs": [
    {
     "name": "stdout",
     "output_type": "stream",
     "text": [
      "101365 of 570274 delayed and it is the 17.77% of data.\n",
      "468909 of 570274 not delayed and it is the 82.23% of the data.\n"
     ]
    },
    {
     "data": {
      "image/png": "[encoded data removed]",
      "text/plain": [
       "<Figure size 720x576 with 1 Axes>"
      ]
     },
     "metadata": {
      "needs_background": "light"
     },
     "output_type": "display_data"
    }
   ],
   "source": [
    "delay = df['ARR_DEL15'].value_counts()[1]\n",
    "no_delay = df['ARR_DEL15'].value_counts()[0]\n",
    "delay_percentage = delay / df.shape[0] * 100\n",
    "no_delay_percentage = no_delay / df.shape[0] * 100\n",
    "\n",
    "print('{} of {} delayed and it is the {:.2f}% of data.'.format(delay, df.shape[0], delay_percentage))\n",
    "print('{} of {} not delayed and it is the {:.2f}% of the data.'.format(no_delay, df.shape[0], no_delay_percentage))\n",
    "\n",
    "plt.figure(figsize=(10, 8))\n",
    "sb.countplot(df['ARR_DEL15'])\n",
    "\n",
    "plt.xlabel('Delay', size=15, labelpad=15)\n",
    "plt.ylabel('Incidents Count', size=15, labelpad=15)\n",
    "plt.xticks((0, 1), ['No Delay ({0:.2f}%)'.format(no_delay_percentage), 'Delay ({0:.2f}%)'.format(delay_percentage)])\n",
    "plt.tick_params(axis='x', labelsize=13)\n",
    "plt.tick_params(axis='y', labelsize=13)\n",
    "\n",
    "plt.title('Delay Distribution', size=15, y=1.05)\n",
    "\n",
    "plt.show()"
   ]
  },
  {
   "cell_type": "markdown",
   "metadata": {},
   "source": [
    "Distribution of delay on distance and elapsed time shows that distributions for delay and no delay on both features are almost the same."
   ]
  },
  {
   "cell_type": "code",
   "execution_count": 9,
   "metadata": {},
   "outputs": [
    {
     "name": "stderr",
     "output_type": "stream",
     "text": [
      "/home/jin/anaconda3/lib/python3.7/site-packages/scipy/stats/stats.py:1713: FutureWarning: Using a non-tuple sequence for multidimensional indexing is deprecated; use `arr[tuple(seq)]` instead of `arr[seq]`. In the future this will be interpreted as an array index, `arr[np.array(seq)]`, which will result either in an error or a different result.\n",
      "  return np.add.reduce(sorted[indexer] * weights, axis=axis) / sumval\n",
      "No handles with labels found to put in legend.\n",
      "No handles with labels found to put in legend.\n"
     ]
    },
    {
     "data": {
      "image/png": "[encoded data removed]",
      "text/plain": [
       "<Figure size 1440x1440 with 2 Axes>"
      ]
     },
     "metadata": {
      "needs_background": "light"
     },
     "output_type": "display_data"
    }
   ],
   "source": [
    "continuous_features = ['DISTANCE', 'CRS_ELAPSED_TIME']\n",
    "delayed = df['ARR_DEL15'] == 1\n",
    "\n",
    "fig, axs = plt.subplots(ncols=2, nrows=2, figsize=(20, 20))\n",
    "plt.subplots_adjust(right=1.5)\n",
    "\n",
    "for i, feature in enumerate(continuous_features):    \n",
    "    # Distribution of fatalities in feature\n",
    "    sb.distplot(df[~delayed][feature], label='No delay', hist=True, color='#e74c3c', ax=axs[0][i])\n",
    "    sb.distplot(df[delayed][feature], label='delayed', hist=True, color='#2ecc71', ax=axs[0][i])\n",
    "    \n",
    "    # Distribution of fatalities in dataset\n",
    "    #sb.distplot(df[feature], label='Training Set', hist=False, color='#e74c3c', ax=axs[1][i])\n",
    "    #sb.distplot(test_df[feature], label='Test Set', hist=False, color='#2ecc71', ax=axs[1][i])\n",
    "    \n",
    "    axs[0][i].set_xlabel('')\n",
    "    axs[1][i].set_xlabel('')\n",
    "    \n",
    "    for j in range(2):        \n",
    "        axs[i][j].tick_params(axis='x', labelsize=20)\n",
    "        axs[i][j].tick_params(axis='y', labelsize=20)\n",
    "    \n",
    "    axs[0][i].legend(loc='upper right', prop={'size': 20})\n",
    "    axs[1][i].legend(loc='upper right', prop={'size': 20})\n",
    "    axs[0][i].set_title('Distribution of Delay in {}'.format(feature), size=20, y=1.05)\n",
    "\n",
    "axs[1][0].set_title('Distribution of {} Feature'.format('Age'), size=20, y=1.05)\n",
    "axs[1][1].set_title('Distribution of {} Feature'.format('BAC'), size=20, y=1.05)\n",
    "axs[1,0].remove()\n",
    "axs[1,1].remove()\n",
    "\n",
    "plt.show()"
   ]
  },
  {
   "cell_type": "markdown",
   "metadata": {},
   "source": [
    "## Handling the data\n",
    "* Continuous variables (CRS_ELEAPSED_TIME and DISTANCE) are normalized\n",
    "* Categorical values are created into embedding matrices, per fastai docs: min(600, round(1.6 * n_cat**0.56)))\n",
    "* Missing values are filled with medians"
   ]
  },
  {
   "cell_type": "code",
   "execution_count": 7,
   "metadata": {},
   "outputs": [],
   "source": [
    "dep_var = \"ARR_DEL15\"\n",
    "cat_names = [\"MONTH\", \"DAY_OF_WEEK\", \"UNIQUE_CARRIER\", \"FL_NUM\", \"ORIGIN\",\n",
    "             \"DEST\", \"DEP_HOUR\", \"DEP_MIN15\", \"YEAR\", \"WEEK\"]\n",
    "cont_names = [\"CRS_ELAPSED_TIME\", \"DISTANCE\"]\n",
    "dep_var = \"ARR_DEL15\"\n",
    "procs = [FillMissing, Categorify, Normalize]"
   ]
  },
  {
   "cell_type": "code",
   "execution_count": 8,
   "metadata": {},
   "outputs": [],
   "source": [
    "cv = KFold(n_splits=10, random_state=42, shuffle=True)\n",
    "train_idx = []\n",
    "test_idx = []\n",
    "for train_index, test_index in cv.split(df):\n",
    "    train_idx.append(train_index)\n",
    "    test_idx.append(test_index)"
   ]
  },
  {
   "cell_type": "code",
   "execution_count": 9,
   "metadata": {},
   "outputs": [],
   "source": [
    "test = TabularList.from_df(df.iloc[test_idx[0]].copy(), path=model_path, cat_names=cat_names, cont_names=cont_names)\n",
    "data = (TabularList.from_df(df, path=model_path, cat_names=cat_names, cont_names=cont_names, procs=procs)\n",
    "                           .split_by_idx(test_idx[0])\n",
    "                           .label_from_df(cols=dep_var)\n",
    "                           .add_test(test, label=0)\n",
    "                           .databunch())"
   ]
  },
  {
   "cell_type": "markdown",
   "metadata": {},
   "source": [
    "## Handling imbalanced Data\n",
    "We can see from the distribution that delayed flights are 17.77% of data, and not-delayed are 82.23%.\n",
    "Testing with smote has greatly decreased the accuracy and precision/recall of the data.\n",
    "Instead, we use class weighting on the CrossEntropyLoss to the inverse of each classess' distribution.\n",
    "Furthermore, since we want to be more accurate in predicting flights that could be delayed,\n",
    "we take a closer look into precision and recall, as opposed to general accuracy.\n",
    "\n",
    "\n",
    "## Training\n",
    "For training, we find the best learning rate using the lr_find() function. This function searches for the best **LR** value by training the model with increasing lr values and getting the loss for each rate.\n",
    "Looking at the lr plot, we can choose 5e-3, which is well below the exponential increase of the loss.\n",
    "Furthermore, the training is done through fit_one_cycle, where the lr changes in a cosine-annealing, with max lr reachin 5e-3. \n",
    "The training is limited to 2 epochs, since starting the 3rd epoch, there is overfitting (lower train_loss but increase in validation_loss)"
   ]
  },
  {
   "cell_type": "code",
   "execution_count": 10,
   "metadata": {},
   "outputs": [
    {
     "data": {
      "text/html": [],
      "text/plain": [
       "<IPython.core.display.HTML object>"
      ]
     },
     "metadata": {},
     "output_type": "display_data"
    },
    {
     "name": "stdout",
     "output_type": "stream",
     "text": [
      "LR Finder is complete, type {learner_name}.recorder.plot() to see the graph.\n"
     ]
    },
    {
     "data": {
      "image/png": "[encoded data removed]",
      "text/plain": [
       "<Figure size 432x288 with 1 Axes>"
      ]
     },
     "metadata": {
      "needs_background": "light"
     },
     "output_type": "display_data"
    }
   ],
   "source": [
    "prec = Precision()\n",
    "recall = Recall()\n",
    "learn = tabular_learner(data, layers=[200,100], metrics=[accuracy, prec, recall], emb_drop=0.2, ps=[0., 0.2])\n",
    "learn.loss_func = torch.nn.CrossEntropyLoss(weight=torch.tensor([0.18, 0.82]))\n",
    "learn.lr_find()\n",
    "learn.recorder.plot()"
   ]
  },
  {
   "cell_type": "code",
   "execution_count": 15,
   "metadata": {},
   "outputs": [
    {
     "data": {
      "text/html": [
       "Total time: 05:57 <p><table border=\"1\" class=\"dataframe\">\n",
       "  <thead>\n",
       "    <tr style=\"text-align: left;\">\n",
       "      <th>epoch</th>\n",
       "      <th>train_loss</th>\n",
       "      <th>valid_loss</th>\n",
       "      <th>accuracy</th>\n",
       "      <th>precision</th>\n",
       "      <th>recall</th>\n",
       "      <th>time</th>\n",
       "    </tr>\n",
       "  </thead>\n",
       "  <tbody>\n",
       "    <tr>\n",
       "      <td>0</td>\n",
       "      <td>0.654893</td>\n",
       "      <td>0.644129</td>\n",
       "      <td>0.651382</td>\n",
       "      <td>0.274075</td>\n",
       "      <td>0.594899</td>\n",
       "      <td>02:53</td>\n",
       "    </tr>\n",
       "    <tr>\n",
       "      <td>1</td>\n",
       "      <td>0.641249</td>\n",
       "      <td>0.637810</td>\n",
       "      <td>0.659658</td>\n",
       "      <td>0.282148</td>\n",
       "      <td>0.604663</td>\n",
       "      <td>03:03</td>\n",
       "    </tr>\n",
       "  </tbody>\n",
       "</table>"
      ],
      "text/plain": [
       "<IPython.core.display.HTML object>"
      ]
     },
     "metadata": {},
     "output_type": "display_data"
    }
   ],
   "source": [
    "learn.fit_one_cycle(2, max_lr=5e-3)"
   ]
  },
  {
   "cell_type": "markdown",
   "metadata": {},
   "source": [
    "## Model Structure\n",
    "learn = tabular_learner(data, layers=[200,100], metrics=[accuracy, prec, recall], emb_drop=0.2, ps=[0., 0.2])\n",
    "The model structure is largely comprised of the embeddings of the categories with 0.2 dropout, 2 linear layers of size (200, 100) with dropout [0, 0.2], respectively."
   ]
  },
  {
   "cell_type": "code",
   "execution_count": 16,
   "metadata": {},
   "outputs": [
    {
     "data": {
      "text/plain": [
       "ModuleList(\n",
       "  (0): Embedding(12, 6)\n",
       "  (1): Embedding(8, 5)\n",
       "  (2): Embedding(13, 7)\n",
       "  (3): Embedding(6748, 223)\n",
       "  (4): Embedding(310, 40)\n",
       "  (5): Embedding(311, 40)\n",
       "  (6): Embedding(25, 10)\n",
       "  (7): Embedding(5, 4)\n",
       "  (8): Embedding(3, 3)\n",
       "  (9): Embedding(7, 5)\n",
       ")"
      ]
     },
     "execution_count": 16,
     "metadata": {},
     "output_type": "execute_result"
    }
   ],
   "source": [
    "learn.model.embeds # example of embedding on one k-fold data"
   ]
  },
  {
   "cell_type": "code",
   "execution_count": 42,
   "metadata": {
    "scrolled": false
   },
   "outputs": [
    {
     "data": {
      "text/plain": [
       "======================================================================\n",
       "Layer (type)         Output Shape         Param #    Trainable \n",
       "======================================================================\n",
       "Embedding            [6]                  72         True      \n",
       "______________________________________________________________________\n",
       "Embedding            [5]                  40         True      \n",
       "______________________________________________________________________\n",
       "Embedding            [7]                  91         True      \n",
       "______________________________________________________________________\n",
       "Embedding            [223]                1,507,034  True      \n",
       "______________________________________________________________________\n",
       "Embedding            [40]                 12,400     True      \n",
       "______________________________________________________________________\n",
       "Embedding            [40]                 12,440     True      \n",
       "______________________________________________________________________\n",
       "Embedding            [10]                 250        True      \n",
       "______________________________________________________________________\n",
       "Embedding            [4]                  20         True      \n",
       "______________________________________________________________________\n",
       "Embedding            [3]                  9          True      \n",
       "______________________________________________________________________\n",
       "Embedding            [5]                  35         True      \n",
       "______________________________________________________________________\n",
       "Dropout              [343]                0          False     \n",
       "______________________________________________________________________\n",
       "BatchNorm1d          [2]                  4          True      \n",
       "______________________________________________________________________\n",
       "Linear               [200]                69,200     True      \n",
       "______________________________________________________________________\n",
       "ReLU                 [100]                0          False     \n",
       "______________________________________________________________________\n",
       "BatchNorm1d          [200]                400        True      \n",
       "______________________________________________________________________\n",
       "Linear               [100]                20,100     True      \n",
       "______________________________________________________________________\n",
       "BatchNorm1d          [100]                200        True      \n",
       "______________________________________________________________________\n",
       "Dropout              [100]                0          False     \n",
       "______________________________________________________________________\n",
       "Linear               [2]                  202        True      \n",
       "______________________________________________________________________\n",
       "\n",
       "Total params: 1,622,497\n",
       "Total trainable params: 1,622,497\n",
       "Total non-trainable params: 0"
      ]
     },
     "execution_count": 42,
     "metadata": {},
     "output_type": "execute_result"
    }
   ],
   "source": [
    "learn.summary()"
   ]
  },
  {
   "cell_type": "markdown",
   "metadata": {},
   "source": [
    "## Result of one 10-fold\n",
    "Although the accuracy is relatively low at 65.9%, precision is 0.282148 and recall is 0.604663;\n",
    "This is higher than when there hasn't been any weighting applied to the loss function:\n",
    "accuracy: 81.8% (Model didn't learn anything), precision 0.53, recall 0.02;\n",
    "we can achieve siginficantly higher recall from weighting the loss"
   ]
  },
  {
   "cell_type": "code",
   "execution_count": 18,
   "metadata": {
    "scrolled": false
   },
   "outputs": [
    {
     "data": {
      "image/png": "[encoded data removed]",
      "text/plain": [
       "<Figure size 432x432 with 1 Axes>"
      ]
     },
     "metadata": {
      "needs_background": "light"
     },
     "output_type": "display_data"
    }
   ],
   "source": [
    "interp = ClassificationInterpretation.from_learner(learn)\n",
    "a=interp.plot_confusion_matrix(figsize=(6,6), return_fig=True)"
   ]
  },
  {
   "cell_type": "code",
   "execution_count": 47,
   "metadata": {},
   "outputs": [
    {
     "data": {
      "text/html": [
       "Total time: 04:31 <p><table border=\"1\" class=\"dataframe\">\n",
       "  <thead>\n",
       "    <tr style=\"text-align: left;\">\n",
       "      <th>epoch</th>\n",
       "      <th>train_loss</th>\n",
       "      <th>valid_loss</th>\n",
       "      <th>accuracy</th>\n",
       "      <th>precision</th>\n",
       "      <th>recall</th>\n",
       "      <th>time</th>\n",
       "    </tr>\n",
       "  </thead>\n",
       "  <tbody>\n",
       "    <tr>\n",
       "      <td>0</td>\n",
       "      <td>0.446711</td>\n",
       "      <td>0.445647</td>\n",
       "      <td>0.818560</td>\n",
       "      <td>0.545994</td>\n",
       "      <td>0.017730</td>\n",
       "      <td>02:13</td>\n",
       "    </tr>\n",
       "    <tr>\n",
       "      <td>1</td>\n",
       "      <td>0.419742</td>\n",
       "      <td>0.443126</td>\n",
       "      <td>0.818525</td>\n",
       "      <td>0.533181</td>\n",
       "      <td>0.022451</td>\n",
       "      <td>02:18</td>\n",
       "    </tr>\n",
       "  </tbody>\n",
       "</table>"
      ],
      "text/plain": [
       "<IPython.core.display.HTML object>"
      ]
     },
     "metadata": {},
     "output_type": "display_data"
    }
   ],
   "source": [
    "# Train without weight change on loss\n",
    "prec = Precision()\n",
    "recall = Recall()\n",
    "learn = tabular_learner(data, layers=[200,100], metrics=[accuracy, prec, recall], emb_drop=0.2, ps=[0., 0.2])\n",
    "#learn.loss_func = torch.nn.CrossEntropyLoss(weight=torch.tensor([0.18, 0.82]))\n",
    "learn.fit_one_cycle(2, max_lr=5e-3) # also trained for 2 epochs as at 3rd, model starts to overfit"
   ]
  },
  {
   "cell_type": "code",
   "execution_count": 46,
   "metadata": {},
   "outputs": [
    {
     "data": {
      "image/png": "[encoded data removed]",
      "text/plain": [
       "<Figure size 432x432 with 1 Axes>"
      ]
     },
     "metadata": {
      "needs_background": "light"
     },
     "output_type": "display_data"
    }
   ],
   "source": [
    "interp = ClassificationInterpretation.from_learner(learn)\n",
    "a=interp.plot_confusion_matrix(figsize=(6,6), return_fig=True)"
   ]
  },
  {
   "cell_type": "code",
   "execution_count": 19,
   "metadata": {
    "scrolled": true
   },
   "outputs": [
    {
     "data": {
      "text/html": [
       "<table border=\"1\" class=\"dataframe\">\n",
       "  <thead>\n",
       "    <tr style=\"text-align: right;\">\n",
       "      <th>MONTH</th>\n",
       "      <th>DAY_OF_WEEK</th>\n",
       "      <th>UNIQUE_CARRIER</th>\n",
       "      <th>FL_NUM</th>\n",
       "      <th>ORIGIN</th>\n",
       "      <th>DEST</th>\n",
       "      <th>DEP_HOUR</th>\n",
       "      <th>DEP_MIN15</th>\n",
       "      <th>YEAR</th>\n",
       "      <th>WEEK</th>\n",
       "      <th>CRS_ELAPSED_TIME</th>\n",
       "      <th>DISTANCE</th>\n",
       "      <th>target</th>\n",
       "    </tr>\n",
       "  </thead>\n",
       "  <tbody>\n",
       "    <tr>\n",
       "      <td>2</td>\n",
       "      <td>4</td>\n",
       "      <td>WN</td>\n",
       "      <td>526</td>\n",
       "      <td>DEN</td>\n",
       "      <td>OKC</td>\n",
       "      <td>19.0</td>\n",
       "      <td>2.0</td>\n",
       "      <td>2017</td>\n",
       "      <td>3</td>\n",
       "      <td>-0.7921</td>\n",
       "      <td>-0.5736</td>\n",
       "      <td>1</td>\n",
       "    </tr>\n",
       "    <tr>\n",
       "      <td>7</td>\n",
       "      <td>5</td>\n",
       "      <td>WN</td>\n",
       "      <td>2518</td>\n",
       "      <td>RDU</td>\n",
       "      <td>MDW</td>\n",
       "      <td>8.0</td>\n",
       "      <td>1.0</td>\n",
       "      <td>2016</td>\n",
       "      <td>4</td>\n",
       "      <td>-0.3999</td>\n",
       "      <td>-0.3532</td>\n",
       "      <td>0</td>\n",
       "    </tr>\n",
       "    <tr>\n",
       "      <td>4</td>\n",
       "      <td>5</td>\n",
       "      <td>OO</td>\n",
       "      <td>4847</td>\n",
       "      <td>SBN</td>\n",
       "      <td>MSP</td>\n",
       "      <td>7.0</td>\n",
       "      <td>1.0</td>\n",
       "      <td>2016</td>\n",
       "      <td>4</td>\n",
       "      <td>-0.3084</td>\n",
       "      <td>-0.7087</td>\n",
       "      <td>0</td>\n",
       "    </tr>\n",
       "    <tr>\n",
       "      <td>10</td>\n",
       "      <td>2</td>\n",
       "      <td>WN</td>\n",
       "      <td>269</td>\n",
       "      <td>CMH</td>\n",
       "      <td>MDW</td>\n",
       "      <td>18.0</td>\n",
       "      <td>2.0</td>\n",
       "      <td>2016</td>\n",
       "      <td>0</td>\n",
       "      <td>-0.9228</td>\n",
       "      <td>-0.9146</td>\n",
       "      <td>0</td>\n",
       "    </tr>\n",
       "    <tr>\n",
       "      <td>6</td>\n",
       "      <td>7</td>\n",
       "      <td>WN</td>\n",
       "      <td>3384</td>\n",
       "      <td>MCO</td>\n",
       "      <td>ROC</td>\n",
       "      <td>10.0</td>\n",
       "      <td>0.0</td>\n",
       "      <td>2016</td>\n",
       "      <td>4</td>\n",
       "      <td>0.1229</td>\n",
       "      <td>0.2920</td>\n",
       "      <td>1</td>\n",
       "    </tr>\n",
       "    <tr>\n",
       "      <td>6</td>\n",
       "      <td>5</td>\n",
       "      <td>DL</td>\n",
       "      <td>1440</td>\n",
       "      <td>SLC</td>\n",
       "      <td>MSP</td>\n",
       "      <td>5.0</td>\n",
       "      <td>3.0</td>\n",
       "      <td>2016</td>\n",
       "      <td>2</td>\n",
       "      <td>-0.0078</td>\n",
       "      <td>0.2244</td>\n",
       "      <td>0</td>\n",
       "    </tr>\n",
       "    <tr>\n",
       "      <td>1</td>\n",
       "      <td>1</td>\n",
       "      <td>WN</td>\n",
       "      <td>4074</td>\n",
       "      <td>SJC</td>\n",
       "      <td>BUR</td>\n",
       "      <td>9.0</td>\n",
       "      <td>0.0</td>\n",
       "      <td>2017</td>\n",
       "      <td>0</td>\n",
       "      <td>-1.1189</td>\n",
       "      <td>-0.8937</td>\n",
       "      <td>0</td>\n",
       "    </tr>\n",
       "    <tr>\n",
       "      <td>11</td>\n",
       "      <td>7</td>\n",
       "      <td>F9</td>\n",
       "      <td>668</td>\n",
       "      <td>SFO</td>\n",
       "      <td>DEN</td>\n",
       "      <td>18.0</td>\n",
       "      <td>3.0</td>\n",
       "      <td>2016</td>\n",
       "      <td>2</td>\n",
       "      <td>0.0706</td>\n",
       "      <td>0.1858</td>\n",
       "      <td>0</td>\n",
       "    </tr>\n",
       "    <tr>\n",
       "      <td>1</td>\n",
       "      <td>5</td>\n",
       "      <td>DL</td>\n",
       "      <td>2068</td>\n",
       "      <td>DCA</td>\n",
       "      <td>MSP</td>\n",
       "      <td>17.0</td>\n",
       "      <td>1.0</td>\n",
       "      <td>2017</td>\n",
       "      <td>3</td>\n",
       "      <td>0.4497</td>\n",
       "      <td>0.1279</td>\n",
       "      <td>0</td>\n",
       "    </tr>\n",
       "    <tr>\n",
       "      <td>7</td>\n",
       "      <td>2</td>\n",
       "      <td>UA</td>\n",
       "      <td>564</td>\n",
       "      <td>LAX</td>\n",
       "      <td>ORD</td>\n",
       "      <td>22.0</td>\n",
       "      <td>3.0</td>\n",
       "      <td>2016</td>\n",
       "      <td>4</td>\n",
       "      <td>1.2340</td>\n",
       "      <td>1.4358</td>\n",
       "      <td>1</td>\n",
       "    </tr>\n",
       "  </tbody>\n",
       "</table>"
      ],
      "text/plain": [
       "<IPython.core.display.HTML object>"
      ]
     },
     "metadata": {},
     "output_type": "display_data"
    }
   ],
   "source": [
    "data.show_batch(rows=10)"
   ]
  },
  {
   "cell_type": "markdown",
   "metadata": {},
   "source": [
    "## Training all 10-folds"
   ]
  },
  {
   "cell_type": "code",
   "execution_count": 14,
   "metadata": {},
   "outputs": [],
   "source": [
    "prec = Precision()\n",
    "recall = Recall()\n",
    "predictions = []\n",
    "saved_model = []\n",
    "for i in range(len(train_idx)):\n",
    "    print(i)\n",
    "    test = TabularList.from_df(df.iloc[test_idx[i]].copy(), path=model_path, cat_names=cat_names, cont_names=cont_names)\n",
    "    data = (TabularList.from_df(df, path=model_path, cat_names=cat_names, cont_names=cont_names, procs=procs)\n",
    "                           .split_by_idx(test_idx[i])\n",
    "                           .label_from_df(cols=dep_var)\n",
    "                           .add_test(test, label=0)\n",
    "                           .databunch())\n",
    "\n",
    "    learn = tabular_learner(data, layers=[200,100], metrics=[accuracy, prec, recall], emb_drop=0.2, ps=[0., 0.2])\n",
    "    learn.loss_func = torch.nn.CrossEntropyLoss(weight=torch.tensor([0.18, 0.82]))\n",
    "    learn.fit_one_cycle(2, max_lr=5e-3)\n",
    "    \n",
    "    saved_model.append(learn.save(\"fold\"+str(i), return_path=True))\n",
    "    \n",
    "    predictions.append(learn.get_preds()[1].tolist())"
   ]
  },
  {
   "cell_type": "code",
   "execution_count": 36,
   "metadata": {},
   "outputs": [],
   "source": [
    "prediction_dict = {}\n",
    "\n",
    "for i in range(len(predictions)):\n",
    "    for j in range(len(predictions[i])):\n",
    "        prediction_dict[test_idx[i][j]] = predictions[i][j]\n",
    "all_predictions = []\n",
    "for i in range(df.shape[0]):\n",
    "    all_predictions.append(prediction_dict[i])"
   ]
  },
  {
   "cell_type": "code",
   "execution_count": 41,
   "metadata": {},
   "outputs": [],
   "source": [
    "with open('flight_delay_predictions.txt', 'w') as f:\n",
    "    for item in all_predictions:\n",
    "        f.write(\"%s\\n\" % item)"
   ]
  },
  {
   "cell_type": "markdown",
   "metadata": {},
   "source": [
    "## Running the models"
   ]
  },
  {
   "cell_type": "code",
   "execution_count": null,
   "metadata": {},
   "outputs": [],
   "source": [
    "predictions = []\n",
    "prediction_dict = {}\n",
    "\n",
    "for i in range(10):\n",
    "    p = \"fold\"+str(i)\n",
    "    print(p)\n",
    "    test = TabularList.from_df(df.iloc[test_idx[i]].copy(), path=model_path, cat_names=cat_names, cont_names=cont_names)\n",
    "    data = (TabularList.from_df(df, path=model_path, cat_names=cat_names, cont_names=cont_names, procs=procs)\n",
    "                           .split_by_idx(test_idx[i])\n",
    "                           .label_from_df(cols=dep_var)\n",
    "                           .add_test(test, label=0)\n",
    "                           .databunch())\n",
    "\n",
    "    #learn = tabular_learner(data, layers=[200,100], metrics=[accuracy, prec, recall], emb_drop=0.2, ps=[0., 0.2])\n",
    "    learn.loss_func = torch.nn.CrossEntropyLoss(weight=torch.tensor([0.18, 0.82]))\n",
    "    learn.load(p)\n",
    "    learn.data = data\n",
    "    learn.get_preds()\n",
    "    # There is a bug in the fastai library that might fail this part\n",
    "    # If it does fail, might need to get predictions through learn.get_preds()\n",
    "    # Which is only available after training at the block above\n",
    "    predictions.append(learn.get_preds()[1].tolist())\n",
    "    \n",
    "for i in range(len(predictions)):\n",
    "    for j in range(len(predictions[i])):\n",
    "        prediction_dict[test_idx[i][j]] = predictions[i][j]\n",
    "        \n",
    "all_predictions = []\n",
    "for i in range(df.shape[0]):\n",
    "    all_predictions.append(prediction_dict[i])"
   ]
  }
 ],
 "metadata": {
  "kernelspec": {
   "display_name": "Python 3",
   "language": "python",
   "name": "python3"
  },
  "language_info": {
   "codemirror_mode": {
    "name": "ipython",
    "version": 3
   },
   "file_extension": ".py",
   "mimetype": "text/x-python",
   "name": "python",
   "nbconvert_exporter": "python",
   "pygments_lexer": "ipython3",
   "version": "3.7.1"
  }
 },
 "nbformat": 4,
 "nbformat_minor": 2
}
