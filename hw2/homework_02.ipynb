{
 "cells": [
  {
   "cell_type": "markdown",
   "metadata": {},
   "source": [
    "# Homework Assignment #2"
   ]
  },
  {
   "cell_type": "markdown",
   "metadata": {},
   "source": [
    "*due Tuesday, February 15, 2019 by 11:59pm*\n",
    "\n",
    "This homework is worth **10 points** [100%], there are no bonus points questions, however, up to 1 bonus point may be given for **clearly written code** (provided that the code is correct)."
   ]
  },
  {
   "cell_type": "markdown",
   "metadata": {},
   "source": [
    "### n.b.\n",
    "All deliverables are required to be typed and all graphs and statistical output generated in Jupyter Notebook using Python and associated packages. Deliverables with *any* handwritten elements will not be accepted and will receive a grade of zero. \n",
    "\n",
    "Similarly to `hw1` copy the whole directory `hw2` to your own private repository (**use the same one as for `hw1`**)."
   ]
  },
  {
   "cell_type": "code",
   "execution_count": 32,
   "metadata": {},
   "outputs": [],
   "source": [
    "import os\n",
    "import numpy as np\n",
    "import pandas as pd\n",
    "import seaborn as sb\n",
    "\n",
    "from scipy.linalg import eigh\n",
    "from scipy.stats import norm\n",
    "from sklearn.metrics import r2_score\n",
    "from sklearn import linear_model\n",
    "\n",
    "import matplotlib.pyplot as plt\n",
    "%matplotlib inline"
   ]
  },
  {
   "cell_type": "markdown",
   "metadata": {},
   "source": [
    "## Part 1: Linear Regression - the closed form solution [total of 15%]"
   ]
  },
  {
   "cell_type": "markdown",
   "metadata": {},
   "source": [
    "***DO NOT USE ANY REGRESSION FUNCTIONS OR REGRESSION PACKAGES FOR THIS PROBLEM***"
   ]
  },
  {
   "cell_type": "markdown",
   "metadata": {},
   "source": [
    "### Data for Part 1:\n",
    "Suggested steps:\n",
    "* Read the [housing data](https://s3-us-west-1.amazonaws.com/usfca-cs686-ml/hw1/housing.csv) used in `hw1`\n",
    "* Use the column \"`GrLivArea`\" as your independent variable and \"`SalePrice`\" as your dependent variable. (You can safely disregard the rest of the dataset)"
   ]
  },
  {
   "cell_type": "code",
   "execution_count": 33,
   "metadata": {},
   "outputs": [],
   "source": [
    "# Read the data here (not graded)\n",
    "data_path = os.path.join(os.path.dirname(os.getcwd()), \"hw1\", \"data\", \"housing.csv\")\n",
    "df = pd.read_csv(data_path)[[\"GrLivArea\", \"SalePrice\"]]"
   ]
  },
  {
   "cell_type": "markdown",
   "metadata": {},
   "source": [
    "#### Find estimates for $\\beta_0$ and $\\beta_1$"
   ]
  },
  {
   "cell_type": "markdown",
   "metadata": {},
   "source": [
    "We know that the formula for $\\beta_0$ and $\\beta_1$ are:\n",
    "$$\\beta_0 = \\bar{Y} - \\beta_1\\bar{X}$$\n",
    "<br>\n",
    "$$\\beta_1 = \\frac{\\sum_{i=1}^{n}(X_i - \\bar{X})(Y_i - \\bar{Y})}{\\sum_{i=1}^{n}(X_i - \\bar{X})^2} = \\frac{s_{xy}}{s_x^2}$$"
   ]
  },
  {
   "cell_type": "code",
   "execution_count": 34,
   "metadata": {},
   "outputs": [
    {
     "data": {
      "text/plain": [
       "(18569.02585648728, 107.13035896582517)"
      ]
     },
     "execution_count": 34,
     "metadata": {},
     "output_type": "execute_result"
    }
   ],
   "source": [
    "X_minus_mean = (df - df.mean())[\"GrLivArea\"]\n",
    "Y_minus_mean = (df - df.mean())[\"SalePrice\"]\n",
    "covariance_xy = np.sum(X_minus_mean * Y_minus_mean)\n",
    "variance_x = np.sum(np.square((df - df.mean())[\"GrLivArea\"]))\n",
    "beta1 = covariance_xy / variance_x\n",
    "beta0 = df.mean()[\"SalePrice\"] - beta1 * df.mean()[\"GrLivArea\"]\n",
    "beta0, beta1"
   ]
  },
  {
   "cell_type": "markdown",
   "metadata": {},
   "source": [
    "#### Find $R^2$"
   ]
  },
  {
   "cell_type": "markdown",
   "metadata": {},
   "source": [
    "$$R^2 = \\frac{SSR}{SSTO} = 1 - \\frac{SSE}{SSTO}$$\n",
    "<br>\n",
    "<center>where </center>\n",
    "$$SSTO \\equiv \\sum_{i=1}^{n}(Y_i - \\bar{Y})^2$$\n",
    "$$SSE \\equiv \\sum_{i=1}^{n}(Y_i - \\hat{Y_i})^2$$\n",
    "$$SSR \\equiv \\sum_{i=1}^{n}(\\hat{Y_i} - \\bar{Y})^2$$"
   ]
  },
  {
   "cell_type": "code",
   "execution_count": 35,
   "metadata": {},
   "outputs": [],
   "source": [
    "df[\"PredictionPrice\"] = beta0 + df[\"GrLivArea\"] * beta1"
   ]
  },
  {
   "cell_type": "code",
   "execution_count": 36,
   "metadata": {},
   "outputs": [],
   "source": [
    "SSTO = np.sum(np.square(df[\"SalePrice\"] - df.mean()[\"SalePrice\"]))\n",
    "SSE = np.sum(np.square(df[\"SalePrice\"] - df[\"PredictionPrice\"]))\n",
    "SSR = np.sum(np.square(df[\"PredictionPrice\"] - df.mean()[\"SalePrice\"]))"
   ]
  },
  {
   "cell_type": "code",
   "execution_count": 37,
   "metadata": {},
   "outputs": [
    {
     "data": {
      "text/plain": [
       "(0.5021486502718039, 0.5021486502718042)"
      ]
     },
     "execution_count": 37,
     "metadata": {},
     "output_type": "execute_result"
    }
   ],
   "source": [
    "(SSR/SSTO, 1 - SSE/SSTO)"
   ]
  },
  {
   "cell_type": "markdown",
   "metadata": {},
   "source": [
    "$$R^2 = 0.5021$$"
   ]
  },
  {
   "cell_type": "markdown",
   "metadata": {},
   "source": [
    "## Part 2: Linear Regression - the iterative solution [total of 35%]"
   ]
  },
  {
   "cell_type": "markdown",
   "metadata": {},
   "source": [
    "***YOU ARE ASKED TO CODE THE FOLLOWING EXERCISE FROM SCRATCH. DO NOT USE ANY PACKAGES FOR AUTOMATIC DIFFERENTIATION FOR THIS PROBLEM.***"
   ]
  },
  {
   "cell_type": "markdown",
   "metadata": {},
   "source": [
    "### <span style=\"color: #DA122C;\">**YOUR SOLUTION MUST WORK FOR ANY GIVEN NUMBER OF INDEPENDENT VARIABLES**</span>"
   ]
  },
  {
   "cell_type": "markdown",
   "metadata": {},
   "source": [
    "HINT: To make your implementation stand out, try implementing this question following a functional programming paradigm (i.e. define functions)"
   ]
  },
  {
   "cell_type": "code",
   "execution_count": 38,
   "metadata": {},
   "outputs": [],
   "source": [
    "## YOU WILL NEED THESE PARAMETERS ##\n",
    "# DO NOT CHANGE ANYTHING IN THIS CELL\n",
    "init_eta = 1e-4 # eta, gamma, learning rate or whatever you want to call it ¯\\_(ツ)_/¯\n",
    "num_iters = 100 # number of iterations\n",
    "n = 1000"
   ]
  },
  {
   "cell_type": "code",
   "execution_count": 39,
   "metadata": {},
   "outputs": [],
   "source": [
    "# DO NOT CHANGE ANYTHING IN THIS CELL\n",
    "np.random.seed(42)\n",
    "r = np.eye(int(np.sqrt(n)/3)-1)\n",
    "r += np.random.normal(0, 0.1, size=(r.shape[0],)*2)\n",
    "lams, A = eigh(r)\n",
    "c = np.dot(A, np.diag(np.sqrt(lams)))\n",
    "X = np.dot(c, norm.rvs(size=(r.shape[0], n))).transpose()\n",
    "Y = np.random.randn(r.shape[0]+1).dot(np.concatenate((X, np.ones((n,1))), axis=1).transpose()) + np.random.normal(0, 0.5, n)\n",
    "del r, lams, A, c\n"
   ]
  },
  {
   "cell_type": "code",
   "execution_count": 40,
   "metadata": {},
   "outputs": [
    {
     "data": {
      "text/plain": [
       "<matplotlib.axes._subplots.AxesSubplot at 0x1c1ad9acc0>"
      ]
     },
     "execution_count": 40,
     "metadata": {},
     "output_type": "execute_result"
    },
    {
     "data": {
      "image/png": "[encoded data removed]",
      "text/plain": [
       "<Figure size 432x288 with 1 Axes>"
      ]
     },
     "metadata": {
      "needs_background": "light"
     },
     "output_type": "display_data"
    }
   ],
   "source": [
    "sb.scatterplot(X[:,0], Y)"
   ]
  },
  {
   "cell_type": "markdown",
   "metadata": {},
   "source": [
    "Using MSE for the loss function, where\n",
    "$$MSE = \\frac{1}{m}\\sum_{i=1}^{m}(\\hat{Y} - Y_i)^2$$\n",
    "#### Gradient Descent for Linear regression\n",
    "$$Cost function = J(\\Theta_0, \\Theta_1) = \\frac{MSE}{2} = \\frac{1}{2m}\\sum_{i=1}^{m}(\\hat{Y} - Y_i)^2$$\n",
    "$$J(\\Theta_0, \\Theta_1) = \\frac{1}{2m}\\sum_{i=1}^{m}(h_{\\Theta}(X_i) - Y_i)^2$$\n",
    "$$h_\\Theta(X_i) = \\Theta_0 + \\Theta_1 X_i$$\n",
    "\n"
   ]
  },
  {
   "cell_type": "markdown",
   "metadata": {},
   "source": [
    "$$\\Theta_j := \\Theta_j - \\eta \\frac{\\partial}{\\partial \\Theta_j} J(\\Theta_0, \\Theta_1)$$\n",
    "$$\\frac{\\partial J_\\Theta}{\\partial \\Theta_j} = \\frac{1}{m} \\sum_{i=1}^{m}(h_\\Theta (X_i) - Y_i) \\frac{\\partial}{\\partial \\Theta_j} ((\\Theta_0 + \\Theta_1 X_i) + Y_i)$$"
   ]
  },
  {
   "cell_type": "markdown",
   "metadata": {},
   "source": [
    "$$\\Theta_0 := \\Theta_0 - \\eta \\frac{1}{m} \\sum_{i=1}^{m}(h_\\Theta (X_i) - Y_i)$$\n",
    "$$\\Theta_1 := \\Theta_1 - \\eta \\frac{1}{m} \\sum_{i=1}^{m}(h_\\Theta (X_i) - Y_i)X_i$$"
   ]
  },
  {
   "cell_type": "code",
   "execution_count": 55,
   "metadata": {},
   "outputs": [
    {
     "name": "stdout",
     "output_type": "stream",
     "text": [
      "0 0\n",
      "0.0006167370630693589 0.0018405670301014556\n",
      "0.0012328540002716686 0.003679162244512889\n",
      "0.0018483514353815117 0.005515787755576983\n",
      "0.002463229991545771 0.00735044567337362\n",
      "0.0030774902912842584 0.0091831381057223\n",
      "0.003691132956490347 0.011013867158184566\n",
      "0.0043041586084316035 0.012842634934066417\n",
      "0.004916567867750416 0.014669443534420736\n",
      "0.005528361354464624 0.016494295058049686\n"
     ]
    },
    {
     "data": {
      "text/plain": [
       "(0.006139539687968149, 0.018317191601507132)"
      ]
     },
     "execution_count": 55,
     "metadata": {},
     "output_type": "execute_result"
    }
   ],
   "source": [
    "# Start your solution here with data X and labels Y\n",
    "def single_linear_regression(X, Y, init_eta, num_iters, n):\n",
    "    theta0 = 0\n",
    "    theta1 = 0\n",
    "    \n",
    "    for i in range(num_iters):\n",
    "        if (i % 10 == 0):\n",
    "            print(theta0, theta1)\n",
    "        predictions = theta0 + theta1 * X\n",
    "        theta0 = theta0 - init_eta / X.shape[0] * np.sum(predictions - Y)\n",
    "        theta1 = theta1 - init_eta / X.shape[0] * np.sum((predictions - Y) * X)\n",
    "        \n",
    "    return theta0, theta1\n",
    "    \n",
    "single_linear_regression(X[:,0], Y, init_eta, num_iters, n)"
   ]
  },
  {
   "cell_type": "code",
   "execution_count": 42,
   "metadata": {},
   "outputs": [],
   "source": [
    "def graph_gradient_descent(X, Y, theta0, theta1, num_iters):\n",
    "    plt.plot(X, Y, '.')\n",
    "    plt.plot(X, theta0 + theta1 * X, '-')\n",
    "    plt.xlabel(\"X\")\n",
    "    plt.ylabel(\"Y\")\n",
    "    plt.text(2.5, 10.5, \"Num iter: %d\" % num_iters)\n",
    "    plt.show()"
   ]
  },
  {
   "cell_type": "code",
   "execution_count": 43,
   "metadata": {},
   "outputs": [
    {
     "name": "stdout",
     "output_type": "stream",
     "text": [
      "0 0\n",
      "0.05898218489973528 0.17551290924343058\n",
      "0.11229275278696234 0.33309571842831526\n",
      "0.16047726697527462 0.47458007180689127\n",
      "0.2040287926256275 0.601610508675522\n",
      "0.24339295047824913 0.7156635758141204\n",
      "0.27897248388746865 0.8180649876798527\n",
      "0.3111313860508434 0.9100050337624737\n",
      "0.3401986298041085 0.9925524121411837\n",
      "0.3664715382694931 1.0666666499957167\n"
     ]
    },
    {
     "data": {
      "image/png": "[encoded data removed]",
      "text/plain": [
       "<Figure size 432x288 with 1 Axes>"
      ]
     },
     "metadata": {
      "needs_background": "light"
     },
     "output_type": "display_data"
    }
   ],
   "source": [
    "regress_values = single_linear_regression(X[:,0], Y, 0.01, num_iters, n)\n",
    "\n",
    "graph_gradient_descent(X[:,0], Y, regress_values[0], regress_values[1], num_iters)"
   ]
  },
  {
   "cell_type": "markdown",
   "metadata": {},
   "source": [
    "Multiple Linear Regression"
   ]
  },
  {
   "cell_type": "markdown",
   "metadata": {},
   "source": [
    "Using MSE for the loss function, where\n",
    "$$MSE = \\frac{1}{m}\\sum_{i=1}^{m}(\\hat{Y} - Y_i)^2$$\n",
    "#### Gradient Descent for Linear regression\n",
    "$$Cost function = J(\\Theta_0, \\Theta_1) = \\frac{MSE}{2} = \\frac{1}{2m}\\sum_{i=1}^{m}(\\hat{Y} - Y_i)^2$$\n",
    "$$J(\\Theta_0, \\Theta_1) = \\frac{1}{2m}\\sum_{i=1}^{m}(h_{\\Theta}(X_i) - Y_i)^2$$\n",
    "$$h_\\Theta(X_i) = \\Theta_0 + \\Theta_1 X_1 + \\Theta_2 X_2 + \\ldots + \\Theta_{n-1} X_{n-1}$$"
   ]
  },
  {
   "cell_type": "code",
   "execution_count": 52,
   "metadata": {},
   "outputs": [],
   "source": [
    "# Start your solution here with data X and labels Y\n",
    "def multiple_linear_regression(X, Y, init_eta, num_iters, n):\n",
    "    thetas = np.zeros(X.shape[1])\n",
    "    \n",
    "    for i in range(num_iters):\n",
    "        if (i % 10 == 0):\n",
    "            print(theta0, theta1)\n",
    "        predictions = theta0 + theta1 * X\n",
    "        theta0 = theta0 - init_eta / X.shape[0] * np.sum(predictions - Y)\n",
    "        theta1 = theta1 - init_eta / X.shape[0] * np.sum((predictions - Y) * X)\n",
    "    return thetas.T\n"
   ]
  },
  {
   "cell_type": "code",
   "execution_count": 56,
   "metadata": {},
   "outputs": [],
   "source": [
    "h = np.ones(X.shape[1] + 1)\n",
    "X = "
   ]
  },
  {
   "cell_type": "code",
   "execution_count": 59,
   "metadata": {},
   "outputs": [
    {
     "data": {
      "text/plain": [
       "(10,)"
      ]
     },
     "execution_count": 59,
     "metadata": {},
     "output_type": "execute_result"
    }
   ],
   "source": [
    "h.shape"
   ]
  },
  {
   "cell_type": "code",
   "execution_count": 54,
   "metadata": {},
   "outputs": [
    {
     "name": "stdout",
     "output_type": "stream",
     "text": [
      "[0. 0. 0. 0. 0. 0. 0. 0. 0.]\n"
     ]
    }
   ],
   "source": [
    "print(multiple_linear_regression(X, Y, init_eta, num_iters, n))"
   ]
  },
  {
   "cell_type": "markdown",
   "metadata": {},
   "source": [
    "## Part 3: Theory [total of 50%]"
   ]
  },
  {
   "cell_type": "markdown",
   "metadata": {},
   "source": [
    "### Question 1"
   ]
  },
  {
   "cell_type": "markdown",
   "metadata": {},
   "source": [
    "In the SLR model, the probability distribution of $Y$ (i.e., $Y_i$) has the same mean and variance for all levels of $X$ (i.e., $X_i$). True or False? Explain."
   ]
  },
  {
   "cell_type": "markdown",
   "metadata": {},
   "source": [
    "We know that the SLR model of the bivariate variables, X, Y is: \n",
    "$$Y_i = \\beta_0 + \\beta_1 X_i + \\epsilon_i$$"
   ]
  },
  {
   "cell_type": "markdown",
   "metadata": {},
   "source": [
    "To examine the mean of on the distribution of Y, we take the expectation of both sides:\n",
    "\\begin{align}\n",
    "E[Y_i] & = E[\\beta_0 + \\beta_1 X_i + \\epsilon_i \\\\\n",
    "E[Y_i] & = E[\\beta_0] + E[\\beta_1 X_i] + E[\\epsilon_i] \\\\\n",
    "E[Y_i] & = \\beta_0 + \\beta_i E[X_i] + E[\\epsilon_i] \\\\\n",
    "E[Y_i] & = \\beta_0 + \\beta_i X_i\n",
    "\\end{align}"
   ]
  },
  {
   "cell_type": "markdown",
   "metadata": {},
   "source": [
    "Since the expected value of Y is a function of X, it is not constant. **Therfore the mean of Y varies for all levels of X.**"
   ]
  },
  {
   "cell_type": "markdown",
   "metadata": {},
   "source": [
    "Similarly, if we take the variance on SLR,"
   ]
  },
  {
   "cell_type": "markdown",
   "metadata": {},
   "source": [
    "\\begin{align}\n",
    "V[Y_i] & = V[\\beta_0 + \\beta_1 X_i + \\epsilon_i] \\\\\n",
    "V[Y_i] & = V[\\beta_0] + V[\\beta_1 X_i] + V[\\epsilon_i] \\\\\n",
    "V[Y_i] & = v[\\epsilon_i] \\\\\n",
    "V[Y_i] & = \\epsilon_i\n",
    "\\end{align}"
   ]
  },
  {
   "cell_type": "markdown",
   "metadata": {},
   "source": [
    "We can see that the variance of Y is a constant value, so variance is **same across all levels of X.**"
   ]
  },
  {
   "cell_type": "markdown",
   "metadata": {},
   "source": [
    "### Question 2"
   ]
  },
  {
   "cell_type": "markdown",
   "metadata": {},
   "source": [
    "The number of points above the fitted regression line is always equal to the number of points below it. True or False? Explain."
   ]
  },
  {
   "cell_type": "markdown",
   "metadata": {},
   "source": [
    "**False** <br>\n",
    "False because the fitted line tries to minimize the Mean Squared Error (MSE) across all points. Say we are fitting for 3 points, if one point is above and **far** from the line, two points below the line will be placed relatively closer to the line."
   ]
  },
  {
   "cell_type": "markdown",
   "metadata": {},
   "source": [
    "False. If there are equal number of points above and below, the line will go through the median of the error. However, SLR tries to find the MSE; the median is not always the same as the mean in a distribution."
   ]
  },
  {
   "cell_type": "markdown",
   "metadata": {},
   "source": [
    "### Question 3"
   ]
  },
  {
   "cell_type": "markdown",
   "metadata": {},
   "source": [
    "In a SLR model, what does $\\beta_1$ measure?  "
   ]
  },
  {
   "cell_type": "markdown",
   "metadata": {},
   "source": [
    "Slope of the regression. In other words, the mean increase in the dependent variable, Y, per unit increase in the independent variable, X."
   ]
  },
  {
   "cell_type": "markdown",
   "metadata": {},
   "source": [
    "### Question 4"
   ]
  },
  {
   "cell_type": "markdown",
   "metadata": {},
   "source": [
    "In the context of an SLR model, prove the following:\n",
    "\n",
    "- $E[Y_i] = \\beta_0 + \\beta_1 X_i$ \n",
    "- $V(Y_i) = \\sigma^2 \\hspace{5pt} \\forall \\hspace{5pt} i$ "
   ]
  },
  {
   "cell_type": "markdown",
   "metadata": {},
   "source": [
    "We know that the SLR model of the bivariate variables, X, Y is: \n",
    "$$Y_i = \\beta_0 + \\beta_1 X_i + \\epsilon_i$$"
   ]
  },
  {
   "cell_type": "markdown",
   "metadata": {},
   "source": [
    "Applying the expectation on both sides:\n",
    "\\begin{align}\n",
    "E[Y_i] & = E[\\beta_0 + \\beta_1 X_i + \\epsilon_i] \\\\\n",
    "E[Y_i] & = E[\\beta_0] + E[\\beta_1 X_i] + E[\\epsilon_i] \\\\\n",
    "E[Y_i] & = \\beta_0 + \\beta_i E[X_i] + E[\\epsilon_i] \\\\\n",
    "E[Y_i] & = \\beta_0 + \\beta_i E[X_i] \\\\\n",
    "E[Y_i] & = \\beta_0 + \\beta_i X_i\n",
    "\\end{align}"
   ]
  },
  {
   "cell_type": "markdown",
   "metadata": {},
   "source": [
    "We apply the variation on both sides of SLR: <br>\n",
    "\\begin{align}\n",
    "V[Y_i] & = V[\\beta_0 + \\beta_1 X_i + \\epsilon_i] \\\\\n",
    "V[Y_i] & = V[\\beta_0] + V[\\beta_1 X_i] + V[\\epsilon_i] \\\\\n",
    "V[Y_i] & = V[\\epsilon_i] \\\\\n",
    "V[Y_i] & = \\epsilon_i\n",
    "\\end{align}"
   ]
  },
  {
   "cell_type": "markdown",
   "metadata": {},
   "source": [
    "### Question 5"
   ]
  },
  {
   "cell_type": "markdown",
   "metadata": {},
   "source": [
    "For the SLR model, $Y_i = \\beta_0 + \\beta_1 X_i + \\epsilon_i$, how many random variables are there. Explain."
   ]
  },
  {
   "cell_type": "markdown",
   "metadata": {
    "collapsed": true
   },
   "source": [
    "In SLR, we assume that values of $X_i$ is fixed and known. We also know that the error term, $\\epsilon_i$ is random by nature. Since $Y_i$ is dependent on the error term, $Y_i$ is also a random variable. Therefore, there are 2 random variables."
   ]
  },
  {
   "cell_type": "markdown",
   "metadata": {},
   "source": [
    "### Question 6"
   ]
  },
  {
   "cell_type": "markdown",
   "metadata": {},
   "source": [
    "Write out the normal error regression model and its assumptions (in English and math)."
   ]
  },
  {
   "cell_type": "markdown",
   "metadata": {
    "collapsed": true
   },
   "source": [
    "$$Y_i = \\beta_0 + \\beta_1 X_i + \\epsilon_i$$\n",
    "The normal error regression model has several assumptions, <br>\n",
    "1. $E[\\epsilon_i|X_i] = 0$\n",
    "2. $V[\\epsilon_i|X_i] = \\sigma^2$, $\\forall$ i\n",
    "3. $\\sigma[\\epsilon_i, \\epsilon_j | X_i] = 0$, $\\forall$ i, j and i $\\neq$ j\n",
    "4. $\\sigma[X_i, \\epsilon_i] = 0$, $\\forall$ i"
   ]
  },
  {
   "cell_type": "markdown",
   "metadata": {},
   "source": [
    "### Question 7"
   ]
  },
  {
   "cell_type": "markdown",
   "metadata": {},
   "source": [
    "What does a negative value of $\\beta_1$ indicate about the relation between $X$ and $Y$?"
   ]
  },
  {
   "cell_type": "markdown",
   "metadata": {},
   "source": [
    "$$ b_1 = \\frac{\\sum (X_i - \\bar{X})(Y_i - \\bar{Y})}{\\sum (X_i - \\bar{X})^2}$$"
   ]
  },
  {
   "cell_type": "markdown",
   "metadata": {
    "collapsed": true
   },
   "source": [
    "The negative value of $\\beta_1$ indicates that there is a negative relation between X and Y; if X increases, Y decreases and vice versa."
   ]
  },
  {
   "cell_type": "markdown",
   "metadata": {},
   "source": [
    "### Question 8"
   ]
  },
  {
   "cell_type": "markdown",
   "metadata": {},
   "source": [
    "Are hypotheses tested concerning the actual values of the coefficients, e.g., $\\beta_1$, or their estimated values, e.g., $b_1$? Why?"
   ]
  },
  {
   "cell_type": "markdown",
   "metadata": {
    "collapsed": true
   },
   "source": [
    "The true values of the coefficients. We want to check if the regressed values $b_0$ and $b_1$ are statistically significantly different from the true values, $\\beta_0$ and $\\beta_1$."
   ]
  },
  {
   "cell_type": "markdown",
   "metadata": {},
   "source": [
    "### Question 9"
   ]
  },
  {
   "cell_type": "markdown",
   "metadata": {},
   "source": [
    "You compute a coefficient of determination for a regression model an obtain an $R^2=0.832$. What does the strength of the coefficient of determination say about the causal relationship between the explanatory and response variables?"
   ]
  },
  {
   "cell_type": "markdown",
   "metadata": {
    "collapsed": true
   },
   "source": [
    "$R^2$ cannot explain the causal relationship between the explanatory and response variables. $R^2$ simply measures the goodness of the fitted line, although in of it itself is insufficient to fully determine how good the fitted line is."
   ]
  },
  {
   "cell_type": "markdown",
   "metadata": {},
   "source": [
    "### Question 10"
   ]
  },
  {
   "cell_type": "markdown",
   "metadata": {},
   "source": [
    "You compute a coefficient of determination for a regression model, regressing crime rate per capita ($Y$) on the size of municipal police force ($X$), obtaining an $R^2 = 0.6533$. What can you say about the relationship between $Y$ and $X$?"
   ]
  },
  {
   "cell_type": "markdown",
   "metadata": {
    "collapsed": true
   },
   "source": [
    "$R^2 = 0.6533$ epxlains that the model explains 65% of the data's variance on the mean"
   ]
  },
  {
   "cell_type": "markdown",
   "metadata": {},
   "source": [
    "### Question 11"
   ]
  },
  {
   "cell_type": "markdown",
   "metadata": {},
   "source": [
    "From the discussion of SLR so far, how do you believe outliers will effect the regression line? "
   ]
  },
  {
   "cell_type": "markdown",
   "metadata": {
    "collapsed": true
   },
   "source": [
    "Outliers will likely greatly affect the slope $b_1$ of the regression line, and also the $b_0$ since $b_1$."
   ]
  },
  {
   "cell_type": "markdown",
   "metadata": {},
   "source": [
    "$$ b_0 = \\frac{1}{n} \\Big( \\sum Y_i - b_1 \\sum X_i \\Big) $$\n",
    "$$ b_1 = \\frac{\\sum (X_i - \\bar{X})(Y_i - \\bar{Y})}{\\sum (X_i - \\bar{X})^2}$$"
   ]
  },
  {
   "cell_type": "markdown",
   "metadata": {},
   "source": [
    "Outliers are by definition, points that are diverging in a big way from the overall pattern, either by extreme X, Y values or simply just distant."
   ]
  },
  {
   "cell_type": "markdown",
   "metadata": {},
   "source": [
    "If the X and/or Y values are extreme/outlying, we can see that the value of $b_1$ may fluctuate a lot; the numerator is the sum of the multiplication of deviation of $X$ from $\\hat{X}$ and deviation of $Y$ from $\\hat{Y}$, so the whole sum may increase/decrease. Similarly, the denominator is the sum of squares of deviation of $Y$ which also fluctuates with extreme/outlying Y.\n",
    "<br>\n",
    "Also by definition, $b_0$ is a function of $b_1$, meaning fluctuations in $b_1$ also affects $b_0$"
   ]
  },
  {
   "cell_type": "markdown",
   "metadata": {},
   "source": [
    "### Question 12"
   ]
  },
  {
   "cell_type": "markdown",
   "metadata": {},
   "source": [
    "Write out the hypothesis test which tests for the statistical significance of $\\beta_1$ for an SLR model. Be sure to include the null an alternate hypothesis, the critical value including degrees of freedom (two-tailed test) for $\\alpha = 0.05$ and an interpretation of both possible results. "
   ]
  },
  {
   "cell_type": "markdown",
   "metadata": {
    "collapsed": true
   },
   "source": [
    "\\begin{align}\n",
    "H_0: \\beta_1 & = 0 \\\\\n",
    "H_1: \\beta_1 & \\neq{} 0 \\\\\n",
    "\\alpha &= 0.05 \\\\\n",
    "\\end{align}"
   ]
  },
  {
   "cell_type": "markdown",
   "metadata": {},
   "source": [
    "Since this is a two-tailed test, we want to find confidnece value for $\\frac{\\alpha}{2} = \\frac{0.05}{2} = 0.025$\n",
    "<br>\n",
    "The degrees of freedom is 2, since there is one independent and one dependent variable."
   ]
  },
  {
   "cell_type": "markdown",
   "metadata": {},
   "source": [
    "If $\\sigma$ is not known, we use the t-static, where the critical value is:\n",
    "$$t_{(n-1, \\frac{n}{2})}$$\n",
    "if $\\sigma$ is known, the critical value is:\n",
    "$$z_{\\frac{\\alpha}{2}}$$\n",
    "If $P(X <= |z|) < = 0.025$, $\\beta_1$ is statistically significantly different and we can reject the null hypothesis.\n"
   ]
  },
  {
   "cell_type": "markdown",
   "metadata": {},
   "source": [
    "### Question 13"
   ]
  },
  {
   "cell_type": "markdown",
   "metadata": {},
   "source": [
    "Using ```modified_SENIC_data_01.csv```\n",
    "1. Regress Infection Risk ($Y$) on Length of Stay ($X$). Report the $R^2$, $b_0$ and $b_1$  values.\n",
    "2. Multiply the observations, both $X$ and $Y$, by 192; we will refer to these as $X_{(2)}$ and $Y_{(2)}$. Regress $Y_{(2)}$ on $X_{(2)}$. Report the $R^2$, $b_0$ and $b_1$  values.\n",
    "3. Multiply only $Y$ by 47; we will refer to this as $Y_{(3)}$. Regress $Y_{(3)}$ on $X$. Report the $R^2$, $b_0$ and $b_1$  values.\n",
    "4. Multiply only $X$ by 12; we will refer to this as $X_{(3)}$. Regress $Y$ on $X_{(3)}$. Report the $R^2$, $b_0$ and $b_1$  values.\n",
    "\n",
    "\n",
    "**Succinctly** explain what you have gleaned from this exercise. Include a summarized tabular representation of the regression output and the associated $R^2$, $b_0$ and $b_1$ values."
   ]
  },
  {
   "cell_type": "code",
   "execution_count": 13,
   "metadata": {},
   "outputs": [],
   "source": [
    "path = os.path.join(os.path.dirname(os.getcwd()), \"hw2\", \"data\", \"modified_SENIC_data_01.csv\")\n",
    "df = pd.read_csv(path)"
   ]
  },
  {
   "cell_type": "code",
   "execution_count": 14,
   "metadata": {},
   "outputs": [
    {
     "data": {
      "text/html": [
       "<div>\n",
       "<style scoped>\n",
       "    .dataframe tbody tr th:only-of-type {\n",
       "        vertical-align: middle;\n",
       "    }\n",
       "\n",
       "    .dataframe tbody tr th {\n",
       "        vertical-align: top;\n",
       "    }\n",
       "\n",
       "    .dataframe thead th {\n",
       "        text-align: right;\n",
       "    }\n",
       "</style>\n",
       "<table border=\"1\" class=\"dataframe\">\n",
       "  <thead>\n",
       "    <tr style=\"text-align: right;\">\n",
       "      <th></th>\n",
       "      <th>lengthOfStay</th>\n",
       "      <th>age</th>\n",
       "      <th>infectionRisk</th>\n",
       "    </tr>\n",
       "  </thead>\n",
       "  <tbody>\n",
       "    <tr>\n",
       "      <th>0</th>\n",
       "      <td>7.13</td>\n",
       "      <td>55.7</td>\n",
       "      <td>4.1</td>\n",
       "    </tr>\n",
       "    <tr>\n",
       "      <th>1</th>\n",
       "      <td>8.82</td>\n",
       "      <td>58.2</td>\n",
       "      <td>1.6</td>\n",
       "    </tr>\n",
       "    <tr>\n",
       "      <th>2</th>\n",
       "      <td>8.34</td>\n",
       "      <td>56.9</td>\n",
       "      <td>2.7</td>\n",
       "    </tr>\n",
       "    <tr>\n",
       "      <th>3</th>\n",
       "      <td>8.95</td>\n",
       "      <td>53.7</td>\n",
       "      <td>5.6</td>\n",
       "    </tr>\n",
       "    <tr>\n",
       "      <th>4</th>\n",
       "      <td>11.20</td>\n",
       "      <td>56.5</td>\n",
       "      <td>5.7</td>\n",
       "    </tr>\n",
       "  </tbody>\n",
       "</table>\n",
       "</div>"
      ],
      "text/plain": [
       "   lengthOfStay   age  infectionRisk\n",
       "0          7.13  55.7            4.1\n",
       "1          8.82  58.2            1.6\n",
       "2          8.34  56.9            2.7\n",
       "3          8.95  53.7            5.6\n",
       "4         11.20  56.5            5.7"
      ]
     },
     "execution_count": 14,
     "metadata": {},
     "output_type": "execute_result"
    }
   ],
   "source": [
    "df.head(5)"
   ]
  },
  {
   "cell_type": "code",
   "execution_count": 15,
   "metadata": {},
   "outputs": [
    {
     "name": "stdout",
     "output_type": "stream",
     "text": [
      "(113, 1) (1000,)\n"
     ]
    }
   ],
   "source": [
    "X = df[[\"lengthOfStay\"]]\n",
    "y = df[[\"infectionRisk\"]]\n",
    "print(X.shape, Y.shape)"
   ]
  },
  {
   "cell_type": "code",
   "execution_count": 16,
   "metadata": {},
   "outputs": [
    {
     "data": {
      "text/plain": [
       "LinearRegression(copy_X=True, fit_intercept=True, n_jobs=None,\n",
       "         normalize=False)"
      ]
     },
     "execution_count": 16,
     "metadata": {},
     "output_type": "execute_result"
    }
   ],
   "source": [
    "regr = linear_model.LinearRegression()\n",
    "regr.fit(X, y)"
   ]
  },
  {
   "cell_type": "code",
   "execution_count": 17,
   "metadata": {},
   "outputs": [],
   "source": [
    "y_pred = regr.predict(X)"
   ]
  },
  {
   "cell_type": "code",
   "execution_count": 18,
   "metadata": {},
   "outputs": [
    {
     "name": "stdout",
     "output_type": "stream",
     "text": [
      "r2 score: 0.285, b0: 0.744, b1: 0.374\n"
     ]
    }
   ],
   "source": [
    "print(\"r2 score: %.3f, b0: %.3f, b1: %.3f\" % (r2_score(y, y_pred), regr.intercept_, regr.coef_))"
   ]
  },
  {
   "cell_type": "code",
   "execution_count": 19,
   "metadata": {
    "scrolled": true
   },
   "outputs": [
    {
     "data": {
      "text/html": [
       "<table class=\"simpletable\">\n",
       "<caption>OLS Regression Results</caption>\n",
       "<tr>\n",
       "  <th>Dep. Variable:</th>      <td>infectionRisk</td>  <th>  R-squared:         </th> <td>   0.285</td>\n",
       "</tr>\n",
       "<tr>\n",
       "  <th>Model:</th>                   <td>OLS</td>       <th>  Adj. R-squared:    </th> <td>   0.278</td>\n",
       "</tr>\n",
       "<tr>\n",
       "  <th>Method:</th>             <td>Least Squares</td>  <th>  F-statistic:       </th> <td>   44.15</td>\n",
       "</tr>\n",
       "<tr>\n",
       "  <th>Date:</th>             <td>Fri, 15 Feb 2019</td> <th>  Prob (F-statistic):</th> <td>1.18e-09</td>\n",
       "</tr>\n",
       "<tr>\n",
       "  <th>Time:</th>                 <td>02:45:06</td>     <th>  Log-Likelihood:    </th> <td> -174.07</td>\n",
       "</tr>\n",
       "<tr>\n",
       "  <th>No. Observations:</th>      <td>   113</td>      <th>  AIC:               </th> <td>   352.1</td>\n",
       "</tr>\n",
       "<tr>\n",
       "  <th>Df Residuals:</th>          <td>   111</td>      <th>  BIC:               </th> <td>   357.6</td>\n",
       "</tr>\n",
       "<tr>\n",
       "  <th>Df Model:</th>              <td>     1</td>      <th>                     </th>     <td> </td>   \n",
       "</tr>\n",
       "<tr>\n",
       "  <th>Covariance Type:</th>      <td>nonrobust</td>    <th>                     </th>     <td> </td>   \n",
       "</tr>\n",
       "</table>\n",
       "<table class=\"simpletable\">\n",
       "<tr>\n",
       "        <td></td>          <th>coef</th>     <th>std err</th>      <th>t</th>      <th>P>|t|</th>  <th>[0.025</th>    <th>0.975]</th>  \n",
       "</tr>\n",
       "<tr>\n",
       "  <th>const</th>        <td>    0.7443</td> <td>    0.554</td> <td>    1.344</td> <td> 0.182</td> <td>   -0.353</td> <td>    1.842</td>\n",
       "</tr>\n",
       "<tr>\n",
       "  <th>lengthOfStay</th> <td>    0.3742</td> <td>    0.056</td> <td>    6.645</td> <td> 0.000</td> <td>    0.263</td> <td>    0.486</td>\n",
       "</tr>\n",
       "</table>\n",
       "<table class=\"simpletable\">\n",
       "<tr>\n",
       "  <th>Omnibus:</th>       <td> 1.189</td> <th>  Durbin-Watson:     </th> <td>   1.821</td>\n",
       "</tr>\n",
       "<tr>\n",
       "  <th>Prob(Omnibus):</th> <td> 0.552</td> <th>  Jarque-Bera (JB):  </th> <td>   1.228</td>\n",
       "</tr>\n",
       "<tr>\n",
       "  <th>Skew:</th>          <td>-0.237</td> <th>  Prob(JB):          </th> <td>   0.541</td>\n",
       "</tr>\n",
       "<tr>\n",
       "  <th>Kurtosis:</th>      <td> 2.811</td> <th>  Cond. No.          </th> <td>    51.3</td>\n",
       "</tr>\n",
       "</table><br/><br/>Warnings:<br/>[1] Standard Errors assume that the covariance matrix of the errors is correctly specified."
      ],
      "text/plain": [
       "<class 'statsmodels.iolib.summary.Summary'>\n",
       "\"\"\"\n",
       "                            OLS Regression Results                            \n",
       "==============================================================================\n",
       "Dep. Variable:          infectionRisk   R-squared:                       0.285\n",
       "Model:                            OLS   Adj. R-squared:                  0.278\n",
       "Method:                 Least Squares   F-statistic:                     44.15\n",
       "Date:                Fri, 15 Feb 2019   Prob (F-statistic):           1.18e-09\n",
       "Time:                        02:45:06   Log-Likelihood:                -174.07\n",
       "No. Observations:                 113   AIC:                             352.1\n",
       "Df Residuals:                     111   BIC:                             357.6\n",
       "Df Model:                           1                                         \n",
       "Covariance Type:            nonrobust                                         \n",
       "================================================================================\n",
       "                   coef    std err          t      P>|t|      [0.025      0.975]\n",
       "--------------------------------------------------------------------------------\n",
       "const            0.7443      0.554      1.344      0.182      -0.353       1.842\n",
       "lengthOfStay     0.3742      0.056      6.645      0.000       0.263       0.486\n",
       "==============================================================================\n",
       "Omnibus:                        1.189   Durbin-Watson:                   1.821\n",
       "Prob(Omnibus):                  0.552   Jarque-Bera (JB):                1.228\n",
       "Skew:                          -0.237   Prob(JB):                        0.541\n",
       "Kurtosis:                       2.811   Cond. No.                         51.3\n",
       "==============================================================================\n",
       "\n",
       "Warnings:\n",
       "[1] Standard Errors assume that the covariance matrix of the errors is correctly specified.\n",
       "\"\"\""
      ]
     },
     "execution_count": 19,
     "metadata": {},
     "output_type": "execute_result"
    }
   ],
   "source": [
    "## stats model implementation\n",
    "import statsmodels.api as sm\n",
    "ols_X = df[\"lengthOfStay\"] \n",
    "ols_y = df[\"infectionRisk\"] \n",
    "ols_X = sm.add_constant(X)\n",
    "\n",
    "model = sm.OLS(ols_y, ols_X).fit()\n",
    "predictions = model.predict(ols_X)\n",
    "\n",
    "model.summary()"
   ]
  },
  {
   "cell_type": "code",
   "execution_count": 20,
   "metadata": {},
   "outputs": [
    {
     "name": "stdout",
     "output_type": "stream",
     "text": [
      "r2 score: -0.023, b0: 142.906, b1: 0.374\n"
     ]
    }
   ],
   "source": [
    "X2 = X * 192\n",
    "y2 = y * 192\n",
    "regr2 = linear_model.LinearRegression()\n",
    "regr2.fit(X2, y2)\n",
    "y_pred2 = regr.predict(X2)\n",
    "print(\"r2 score: %.3f, b0: %.3f, b1: %.3f\" % (r2_score(y2, y_pred2), regr2.intercept_, regr2.coef_))"
   ]
  },
  {
   "cell_type": "code",
   "execution_count": 21,
   "metadata": {},
   "outputs": [
    {
     "name": "stdout",
     "output_type": "stream",
     "text": [
      "r2 score: -10.182, b0: 34.982, b1: 17.588\n"
     ]
    }
   ],
   "source": [
    "y3 = y * 47\n",
    "regr3 = linear_model.LinearRegression()\n",
    "regr3.fit(X, y3)\n",
    "y_pred3 = regr.predict(X)\n",
    "print(\"r2 score: %.3f, b0: %.3f, b1: %.3f\" % (r2_score(y3, y_pred3), regr3.intercept_, regr3.coef_))"
   ]
  },
  {
   "cell_type": "code",
   "execution_count": 22,
   "metadata": {},
   "outputs": [
    {
     "name": "stdout",
     "output_type": "stream",
     "text": [
      "r2 score: -1945.195, b0: 0.744, b1: 0.022\n"
     ]
    }
   ],
   "source": [
    "X3 = X * 17\n",
    "regr4 = linear_model.LinearRegression()\n",
    "regr4.fit(X3, y)\n",
    "y_pred4 = regr.predict(X3)\n",
    "print(\"r2 score: %.3f, b0: %.3f, b1: %.3f\" % (r2_score(y, y_pred4), regr4.intercept_, regr4.coef_))"
   ]
  },
  {
   "cell_type": "markdown",
   "metadata": {},
   "source": [
    "### Question 14"
   ]
  },
  {
   "cell_type": "markdown",
   "metadata": {},
   "source": [
    "Using the ```fourDataSets.csv```, regress $Y$ on $X$ for $i=1,2,3,4$, i.e., generate four separate SLR models. **For each** of the four data sets, run and report summary statistics, generate a scatter plot and run a SLR model, reporting the regression function $R^2$, $R_a^2$, and the significance of $b_1$ ($p$-value). Intelligently discuss what you observe about each data set and the data sets as a whole."
   ]
  },
  {
   "cell_type": "code",
   "execution_count": 23,
   "metadata": {},
   "outputs": [],
   "source": [
    "path = os.path.join(os.path.dirname(os.getcwd()), \"hw2\", \"data\", \"fourDataSets.csv\")\n",
    "df = pd.read_csv(path)"
   ]
  },
  {
   "cell_type": "code",
   "execution_count": 24,
   "metadata": {},
   "outputs": [
    {
     "data": {
      "text/html": [
       "<div>\n",
       "<style scoped>\n",
       "    .dataframe tbody tr th:only-of-type {\n",
       "        vertical-align: middle;\n",
       "    }\n",
       "\n",
       "    .dataframe tbody tr th {\n",
       "        vertical-align: top;\n",
       "    }\n",
       "\n",
       "    .dataframe thead th {\n",
       "        text-align: right;\n",
       "    }\n",
       "</style>\n",
       "<table border=\"1\" class=\"dataframe\">\n",
       "  <thead>\n",
       "    <tr style=\"text-align: right;\">\n",
       "      <th></th>\n",
       "      <th>dataSet</th>\n",
       "      <th>x</th>\n",
       "      <th>y</th>\n",
       "    </tr>\n",
       "  </thead>\n",
       "  <tbody>\n",
       "    <tr>\n",
       "      <th>0</th>\n",
       "      <td>1</td>\n",
       "      <td>10</td>\n",
       "      <td>8.04</td>\n",
       "    </tr>\n",
       "    <tr>\n",
       "      <th>1</th>\n",
       "      <td>1</td>\n",
       "      <td>8</td>\n",
       "      <td>6.95</td>\n",
       "    </tr>\n",
       "    <tr>\n",
       "      <th>2</th>\n",
       "      <td>1</td>\n",
       "      <td>13</td>\n",
       "      <td>7.58</td>\n",
       "    </tr>\n",
       "    <tr>\n",
       "      <th>3</th>\n",
       "      <td>1</td>\n",
       "      <td>9</td>\n",
       "      <td>8.81</td>\n",
       "    </tr>\n",
       "    <tr>\n",
       "      <th>4</th>\n",
       "      <td>1</td>\n",
       "      <td>11</td>\n",
       "      <td>8.33</td>\n",
       "    </tr>\n",
       "  </tbody>\n",
       "</table>\n",
       "</div>"
      ],
      "text/plain": [
       "   dataSet   x     y\n",
       "0        1  10  8.04\n",
       "1        1   8  6.95\n",
       "2        1  13  7.58\n",
       "3        1   9  8.81\n",
       "4        1  11  8.33"
      ]
     },
     "execution_count": 24,
     "metadata": {},
     "output_type": "execute_result"
    }
   ],
   "source": [
    "df.head()"
   ]
  },
  {
   "cell_type": "code",
   "execution_count": 25,
   "metadata": {},
   "outputs": [],
   "source": [
    "df1 = df[df[\"dataSet\"] == 1]\n",
    "df2 = df[df[\"dataSet\"] == 2]\n",
    "df3 = df[df[\"dataSet\"] == 3]\n",
    "df4 = df[df[\"dataSet\"] == 4]"
   ]
  },
  {
   "cell_type": "code",
   "execution_count": 26,
   "metadata": {},
   "outputs": [
    {
     "data": {
      "text/plain": [
       "<matplotlib.axes._subplots.AxesSubplot at 0x1c1a5739e8>"
      ]
     },
     "execution_count": 26,
     "metadata": {},
     "output_type": "execute_result"
    },
    {
     "data": {
      "image/png": "[encoded data removed]",
      "text/plain": [
       "<Figure size 432x288 with 1 Axes>"
      ]
     },
     "metadata": {
      "needs_background": "light"
     },
     "output_type": "display_data"
    }
   ],
   "source": [
    "ols_X1 = df1.x\n",
    "ols_y1 = df1.y \n",
    "ols_X1 = sm.add_constant(ols_X1)\n",
    "\n",
    "model_1 = sm.OLS(ols_y1, ols_X1).fit()\n",
    "predictions = model_1.predict(ols_X1)\n",
    "#print(df1.x.shape, df1.y.shape)\n",
    "sb.scatterplot(df1.x, df1.y)"
   ]
  },
  {
   "cell_type": "code",
   "execution_count": 27,
   "metadata": {},
   "outputs": [
    {
     "name": "stderr",
     "output_type": "stream",
     "text": [
      "/anaconda3/lib/python3.7/site-packages/scipy/stats/stats.py:1394: UserWarning: kurtosistest only valid for n>=20 ... continuing anyway, n=11\n",
      "  \"anyway, n=%i\" % int(n))\n"
     ]
    },
    {
     "data": {
      "text/html": [
       "<table class=\"simpletable\">\n",
       "<caption>OLS Regression Results</caption>\n",
       "<tr>\n",
       "  <th>Dep. Variable:</th>            <td>y</td>        <th>  R-squared:         </th> <td>   0.667</td>\n",
       "</tr>\n",
       "<tr>\n",
       "  <th>Model:</th>                   <td>OLS</td>       <th>  Adj. R-squared:    </th> <td>   0.629</td>\n",
       "</tr>\n",
       "<tr>\n",
       "  <th>Method:</th>             <td>Least Squares</td>  <th>  F-statistic:       </th> <td>   17.99</td>\n",
       "</tr>\n",
       "<tr>\n",
       "  <th>Date:</th>             <td>Fri, 15 Feb 2019</td> <th>  Prob (F-statistic):</th>  <td>0.00217</td>\n",
       "</tr>\n",
       "<tr>\n",
       "  <th>Time:</th>                 <td>02:45:06</td>     <th>  Log-Likelihood:    </th> <td> -16.841</td>\n",
       "</tr>\n",
       "<tr>\n",
       "  <th>No. Observations:</th>      <td>    11</td>      <th>  AIC:               </th> <td>   37.68</td>\n",
       "</tr>\n",
       "<tr>\n",
       "  <th>Df Residuals:</th>          <td>     9</td>      <th>  BIC:               </th> <td>   38.48</td>\n",
       "</tr>\n",
       "<tr>\n",
       "  <th>Df Model:</th>              <td>     1</td>      <th>                     </th>     <td> </td>   \n",
       "</tr>\n",
       "<tr>\n",
       "  <th>Covariance Type:</th>      <td>nonrobust</td>    <th>                     </th>     <td> </td>   \n",
       "</tr>\n",
       "</table>\n",
       "<table class=\"simpletable\">\n",
       "<tr>\n",
       "    <td></td>       <th>coef</th>     <th>std err</th>      <th>t</th>      <th>P>|t|</th>  <th>[0.025</th>    <th>0.975]</th>  \n",
       "</tr>\n",
       "<tr>\n",
       "  <th>const</th> <td>    3.0001</td> <td>    1.125</td> <td>    2.667</td> <td> 0.026</td> <td>    0.456</td> <td>    5.544</td>\n",
       "</tr>\n",
       "<tr>\n",
       "  <th>x</th>     <td>    0.5001</td> <td>    0.118</td> <td>    4.241</td> <td> 0.002</td> <td>    0.233</td> <td>    0.767</td>\n",
       "</tr>\n",
       "</table>\n",
       "<table class=\"simpletable\">\n",
       "<tr>\n",
       "  <th>Omnibus:</th>       <td> 0.082</td> <th>  Durbin-Watson:     </th> <td>   3.212</td>\n",
       "</tr>\n",
       "<tr>\n",
       "  <th>Prob(Omnibus):</th> <td> 0.960</td> <th>  Jarque-Bera (JB):  </th> <td>   0.289</td>\n",
       "</tr>\n",
       "<tr>\n",
       "  <th>Skew:</th>          <td>-0.122</td> <th>  Prob(JB):          </th> <td>   0.865</td>\n",
       "</tr>\n",
       "<tr>\n",
       "  <th>Kurtosis:</th>      <td> 2.244</td> <th>  Cond. No.          </th> <td>    29.1</td>\n",
       "</tr>\n",
       "</table><br/><br/>Warnings:<br/>[1] Standard Errors assume that the covariance matrix of the errors is correctly specified."
      ],
      "text/plain": [
       "<class 'statsmodels.iolib.summary.Summary'>\n",
       "\"\"\"\n",
       "                            OLS Regression Results                            \n",
       "==============================================================================\n",
       "Dep. Variable:                      y   R-squared:                       0.667\n",
       "Model:                            OLS   Adj. R-squared:                  0.629\n",
       "Method:                 Least Squares   F-statistic:                     17.99\n",
       "Date:                Fri, 15 Feb 2019   Prob (F-statistic):            0.00217\n",
       "Time:                        02:45:06   Log-Likelihood:                -16.841\n",
       "No. Observations:                  11   AIC:                             37.68\n",
       "Df Residuals:                       9   BIC:                             38.48\n",
       "Df Model:                           1                                         \n",
       "Covariance Type:            nonrobust                                         \n",
       "==============================================================================\n",
       "                 coef    std err          t      P>|t|      [0.025      0.975]\n",
       "------------------------------------------------------------------------------\n",
       "const          3.0001      1.125      2.667      0.026       0.456       5.544\n",
       "x              0.5001      0.118      4.241      0.002       0.233       0.767\n",
       "==============================================================================\n",
       "Omnibus:                        0.082   Durbin-Watson:                   3.212\n",
       "Prob(Omnibus):                  0.960   Jarque-Bera (JB):                0.289\n",
       "Skew:                          -0.122   Prob(JB):                        0.865\n",
       "Kurtosis:                       2.244   Cond. No.                         29.1\n",
       "==============================================================================\n",
       "\n",
       "Warnings:\n",
       "[1] Standard Errors assume that the covariance matrix of the errors is correctly specified.\n",
       "\"\"\""
      ]
     },
     "execution_count": 27,
     "metadata": {},
     "output_type": "execute_result"
    }
   ],
   "source": [
    "model_1.summary()"
   ]
  },
  {
   "cell_type": "markdown",
   "metadata": {},
   "source": []
  },
  {
   "cell_type": "code",
   "execution_count": 28,
   "metadata": {},
   "outputs": [
    {
     "data": {
      "text/plain": [
       "const    0.025734\n",
       "x        0.002170\n",
       "dtype: float64"
      ]
     },
     "execution_count": 28,
     "metadata": {},
     "output_type": "execute_result"
    }
   ],
   "source": [
    "model_1"
   ]
  },
  {
   "cell_type": "code",
   "execution_count": null,
   "metadata": {},
   "outputs": [],
   "source": []
  }
 ],
 "metadata": {
  "kernelspec": {
   "display_name": "Python 3",
   "language": "python",
   "name": "python3"
  },
  "language_info": {
   "codemirror_mode": {
    "name": "ipython",
    "version": 3
   },
   "file_extension": ".py",
   "mimetype": "text/x-python",
   "name": "python",
   "nbconvert_exporter": "python",
   "pygments_lexer": "ipython3",
   "version": "3.7.1"
  }
 },
 "nbformat": 4,
 "nbformat_minor": 2
}
