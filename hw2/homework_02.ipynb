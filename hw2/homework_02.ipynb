{
 "cells": [
  {
   "cell_type": "markdown",
   "metadata": {},
   "source": [
    "# Homework Assignment #2"
   ]
  },
  {
   "cell_type": "markdown",
   "metadata": {},
   "source": [
    "*due Tuesday, February 15, 2019 by 11:59pm*\n",
    "\n",
    "This homework is worth **10 points** [100%], there are no bonus points questions, however, up to 1 bonus point may be given for **clearly written code** (provided that the code is correct)."
   ]
  },
  {
   "cell_type": "markdown",
   "metadata": {},
   "source": [
    "### n.b.\n",
    "All deliverables are required to be typed and all graphs and statistical output generated in Jupyter Notebook using Python and associated packages. Deliverables with *any* handwritten elements will not be accepted and will receive a grade of zero. \n",
    "\n",
    "Similarly to `hw1` copy the whole directory `hw2` to your own private repository (**use the same one as for `hw1`**)."
   ]
  },
  {
   "cell_type": "code",
   "execution_count": 36,
   "metadata": {},
   "outputs": [],
   "source": [
    "import os\n",
    "import numpy as np\n",
    "import pandas as pd\n",
    "import seaborn as sb\n",
    "from scipy.linalg import eigh\n",
    "from scipy.stats import norm\n",
    "import matplotlib.pyplot as plt\n",
    "%matplotlib inline"
   ]
  },
  {
   "cell_type": "markdown",
   "metadata": {},
   "source": [
    "## Part 1: Linear Regression - the closed form solution [total of 15%]"
   ]
  },
  {
   "cell_type": "markdown",
   "metadata": {},
   "source": [
    "***DO NOT USE ANY REGRESSION FUNCTIONS OR REGRESSION PACKAGES FOR THIS PROBLEM***"
   ]
  },
  {
   "cell_type": "markdown",
   "metadata": {},
   "source": [
    "### Data for Part 1:\n",
    "Suggested steps:\n",
    "* Read the [housing data](https://s3-us-west-1.amazonaws.com/usfca-cs686-ml/hw1/housing.csv) used in `hw1`\n",
    "* Use the column \"`GrLivArea`\" as your independent variable and \"`SalePrice`\" as your dependent variable. (You can safely disregard the rest of the dataset)"
   ]
  },
  {
   "cell_type": "code",
   "execution_count": 3,
   "metadata": {},
   "outputs": [],
   "source": [
    "# Read the data here (not graded)\n",
    "data_path = os.path.join(os.path.dirname(os.getcwd()), \"hw1\", \"data\", \"housing.csv\")\n",
    "df = pd.read_csv(data_path)[[\"GrLivArea\", \"SalePrice\"]]"
   ]
  },
  {
   "cell_type": "markdown",
   "metadata": {},
   "source": [
    "#### Find estimates for $\\beta_0$ and $\\beta_1$"
   ]
  },
  {
   "cell_type": "markdown",
   "metadata": {},
   "source": [
    "We know that the formula for $\\beta_0$ and $\\beta_1$ are:\n",
    "$$\\beta_0 = \\bar{Y} - \\beta_1\\bar{X}$$\n",
    "<br>\n",
    "$$\\beta_1 = \\frac{\\sum_{i=1}^{n}(X_i - \\bar{X})(Y_i - \\bar{Y})}{\\sum_{i=1}^{n}(X_i - \\bar{X})^2} = \\frac{s_{xy}}{s_x^2}$$"
   ]
  },
  {
   "cell_type": "code",
   "execution_count": 4,
   "metadata": {},
   "outputs": [
    {
     "data": {
      "text/plain": [
       "(18569.02585648728, 107.13035896582517)"
      ]
     },
     "execution_count": 4,
     "metadata": {},
     "output_type": "execute_result"
    }
   ],
   "source": [
    "X_minus_mean = (df - df.mean())[\"GrLivArea\"]\n",
    "Y_minus_mean = (df - df.mean())[\"SalePrice\"]\n",
    "covariance_xy = np.sum(X_minus_mean * Y_minus_mean)\n",
    "variance_x = np.sum(np.square((df - df.mean())[\"GrLivArea\"]))\n",
    "beta1 = covariance_xy / variance_x\n",
    "beta0 = df.mean()[\"SalePrice\"] - beta1 * df.mean()[\"GrLivArea\"]\n",
    "beta0, beta1"
   ]
  },
  {
   "cell_type": "markdown",
   "metadata": {},
   "source": [
    "#### Find $R^2$"
   ]
  },
  {
   "cell_type": "markdown",
   "metadata": {},
   "source": [
    "$$R^2 = \\frac{SSR}{SSTO} = 1 - \\frac{SSE}{SSTO}$$\n",
    "<br>\n",
    "<center>where </center>\n",
    "$$SSTO \\equiv \\sum_{i=1}^{n}(Y_i - \\bar{Y})^2$$\n",
    "$$SSE \\equiv \\sum_{i=1}^{n}(Y_i - \\hat{Y_i})^2$$\n",
    "$$SSR \\equiv \\sum_{i=1}^{n}(\\hat{Y_i} - \\bar{Y})^2$$"
   ]
  },
  {
   "cell_type": "code",
   "execution_count": 5,
   "metadata": {},
   "outputs": [],
   "source": [
    "df[\"PredictionPrice\"] = beta0 + df[\"GrLivArea\"] * beta1"
   ]
  },
  {
   "cell_type": "code",
   "execution_count": 6,
   "metadata": {},
   "outputs": [],
   "source": [
    "SSTO = np.sum(np.square(df[\"SalePrice\"] - df.mean()[\"SalePrice\"]))\n",
    "SSE = np.sum(np.square(df[\"SalePrice\"] - df[\"PredictionPrice\"]))\n",
    "SSR = np.sum(np.square(df[\"PredictionPrice\"] - df.mean()[\"SalePrice\"]))"
   ]
  },
  {
   "cell_type": "code",
   "execution_count": 7,
   "metadata": {},
   "outputs": [
    {
     "data": {
      "text/plain": [
       "(0.5021486502718039, 0.5021486502718042)"
      ]
     },
     "execution_count": 7,
     "metadata": {},
     "output_type": "execute_result"
    }
   ],
   "source": [
    "(SSR/SSTO, 1 - SSE/SSTO)"
   ]
  },
  {
   "cell_type": "markdown",
   "metadata": {},
   "source": [
    "$$R^2 = 0.5021$$"
   ]
  },
  {
   "cell_type": "markdown",
   "metadata": {},
   "source": [
    "## Part 2: Linear Regression - the iterative solution [total of 35%]"
   ]
  },
  {
   "cell_type": "markdown",
   "metadata": {},
   "source": [
    "***YOU ARE ASKED TO CODE THE FOLLOWING EXERCISE FROM SCRATCH. DO NOT USE ANY PACKAGES FOR AUTOMATIC DIFFERENTIATION FOR THIS PROBLEM.***"
   ]
  },
  {
   "cell_type": "markdown",
   "metadata": {},
   "source": [
    "### <span style=\"color: #DA122C;\">**YOUR SOLUTION MUST WORK FOR ANY GIVEN NUMBER OF INDEPENDENT VARIABLES**</span>"
   ]
  },
  {
   "cell_type": "markdown",
   "metadata": {},
   "source": [
    "HINT: To make your implementation stand out, try implementing this question following a functional programming paradigm (i.e. define functions)"
   ]
  },
  {
   "cell_type": "code",
   "execution_count": 8,
   "metadata": {},
   "outputs": [],
   "source": [
    "## YOU WILL NEED THESE PARAMETERS ##\n",
    "# DO NOT CHANGE ANYTHING IN THIS CELL\n",
    "init_eta = 1e-4 # eta, gamma, learning rate or whatever you want to call it ¯\\_(ツ)_/¯\n",
    "num_iters = 100 # number of iterations\n",
    "n = 1000"
   ]
  },
  {
   "cell_type": "code",
   "execution_count": 12,
   "metadata": {},
   "outputs": [],
   "source": [
    "# DO NOT CHANGE ANYTHING IN THIS CELL\n",
    "np.random.seed(42)\n",
    "r = np.eye(int(np.sqrt(n)/3)-1)\n",
    "r += np.random.normal(0, 0.1, size=(r.shape[0],)*2)\n",
    "lams, A = eigh(r)\n",
    "c = np.dot(A, np.diag(np.sqrt(lams)))\n",
    "X = np.dot(c, norm.rvs(size=(r.shape[0], n))).transpose()\n",
    "Y = np.random.randn(r.shape[0]+1).dot(np.concatenate((X, np.ones((n,1))), axis=1).transpose()) + np.random.normal(0, 0.5, n)\n",
    "del r, lams, A, c\n"
   ]
  },
  {
   "cell_type": "code",
   "execution_count": 39,
   "metadata": {},
   "outputs": [
    {
     "data": {
      "text/plain": [
       "<matplotlib.axes._subplots.AxesSubplot at 0x1a186fa7f0>"
      ]
     },
     "execution_count": 39,
     "metadata": {},
     "output_type": "execute_result"
    },
    {
     "data": {
      "image/png": "[encoded data removed]",
      "text/plain": [
       "<Figure size 432x288 with 1 Axes>"
      ]
     },
     "metadata": {
      "needs_background": "light"
     },
     "output_type": "display_data"
    }
   ],
   "source": [
    "sb.scatterplot(X[:,0], Y)"
   ]
  },
  {
   "cell_type": "markdown",
   "metadata": {},
   "source": [
    "Using MSE for the loss function, where\n",
    "$$MSE = \\frac{1}{m}\\sum_{i=1}^{m}(\\hat{Y} - Y_i)^2$$\n",
    "#### Gradient Descent for Linear regression\n",
    "$$Cost function = J(\\Theta_0, \\Theta_1) = \\frac{MSE}{2} = \\frac{1}{2m}\\sum_{i=1}^{m}(\\hat{Y} - Y_i)^2$$\n",
    "$$J(\\Theta_0, \\Theta_1) = \\frac{1}{2m}\\sum_{i=1}^{m}(h_{\\Theta}(X_i) - Y_i)^2$$\n",
    "$$h_\\Theta(X_i) = \\Theta_0 + \\Theta_1 X_i$$\n",
    "\n"
   ]
  },
  {
   "cell_type": "markdown",
   "metadata": {},
   "source": [
    "$$\\frac{\\partial J_\\Theta}{\\partial \\Theta_j} = \\frac{1}{m} \\sum_{i=1}^{m}(h_\\Theta (X_i) - Y_i) \\frac{\\partial}{\\partial \\Theta_j} ((\\Theta_0 + \\Theta_1 X_i) + Y_i)$$\n",
    "\n",
    "$$\\Theta_j := \\Theta_j - \\eta \\frac{\\partial}{\\partial \\Theta_j} J(\\Theta_0, \\Theta_1)$$"
   ]
  },
  {
   "cell_type": "markdown",
   "metadata": {},
   "source": [
    "$$\\Theta_0 := \\Theta_0 - \\eta \\frac{1}{m} \\sum_{i=1}^{m}(h_\\Theta (X_i) - Y_i)$$\n",
    "$$\\Theta_1 := \\Theta_1 - \\eta \\frac{1}{m} \\sum_{i=1}^{m}(h_\\Theta (X_i) - Y_i)X_i$$"
   ]
  },
  {
   "cell_type": "code",
   "execution_count": 41,
   "metadata": {},
   "outputs": [
    {
     "name": "stdout",
     "output_type": "stream",
     "text": [
      "0 0\n",
      "0.0006167370630693589 0.0018405670301014556\n",
      "0.0012328540002716686 0.003679162244512889\n",
      "0.0018483514353815117 0.005515787755576983\n",
      "0.002463229991545771 0.00735044567337362\n",
      "0.0030774902912842584 0.0091831381057223\n",
      "0.003691132956490347 0.011013867158184566\n",
      "0.0043041586084316035 0.012842634934066417\n",
      "0.004916567867750416 0.014669443534420736\n",
      "0.005528361354464624 0.016494295058049686\n"
     ]
    },
    {
     "data": {
      "text/plain": [
       "(0.006139539687968149, 0.018317191601507132)"
      ]
     },
     "execution_count": 41,
     "metadata": {},
     "output_type": "execute_result"
    }
   ],
   "source": [
    "# Start your solution here with data X and labels Y\n",
    "def linear_regression(X, Y, init_eta, num_iters, n):\n",
    "    # Choose initial arbitrary values for theta_0 and theta_1\n",
    "    #theta0 = np.mean(Y)\n",
    "    #theta1 = np.random.uniform(np.min(X), np.max(X))\n",
    "    \n",
    "    theta0 = 0\n",
    "    theta1 = 0\n",
    "    \n",
    "    for i in range(num_iters):\n",
    "        if (i % 10 == 0):\n",
    "            print(theta0, theta1)\n",
    "        predictions = theta0 + theta1 * X\n",
    "        theta0 = theta0 - init_eta / X.shape[0] * np.sum(predictions - Y)\n",
    "        theta1 = theta1 - init_eta / X.shape[0] * np.sum((predictions - Y) * X)\n",
    "        \n",
    "    return theta0, theta1\n",
    "    \n",
    "linear_regression(X[:,0], Y, init_eta, num_iters, n)"
   ]
  },
  {
   "cell_type": "code",
   "execution_count": 42,
   "metadata": {},
   "outputs": [],
   "source": [
    "def graph_gradient_descent(X, Y, theta0, theta1):\n",
    "    plt.plot(X, Y, '.')\n",
    "    plt.plot(X, theta0 + theta1 * X, '-')\n",
    "    plt.show()"
   ]
  },
  {
   "cell_type": "code",
   "execution_count": 44,
   "metadata": {},
   "outputs": [
    {
     "name": "stdout",
     "output_type": "stream",
     "text": [
      "0 0\n",
      "0.05898218489973528 0.17551290924343058\n",
      "0.11229275278696234 0.33309571842831526\n",
      "0.16047726697527462 0.47458007180689127\n",
      "0.2040287926256275 0.601610508675522\n",
      "0.24339295047824913 0.7156635758141204\n",
      "0.27897248388746865 0.8180649876798527\n",
      "0.3111313860508434 0.9100050337624737\n",
      "0.3401986298041085 0.9925524121411837\n",
      "0.3664715382694931 1.0666666499957167\n"
     ]
    },
    {
     "data": {
      "image/png": "[encoded data removed]",
      "text/plain": [
       "<Figure size 432x288 with 1 Axes>"
      ]
     },
     "metadata": {
      "needs_background": "light"
     },
     "output_type": "display_data"
    }
   ],
   "source": [
    "regress_values = linear_regression(X[:,0], Y, 0.01, num_iters, n)\n",
    "\n",
    "graph_gradient_descent(X[:,0], Y, regress_values[0], regress_values[1])"
   ]
  },
  {
   "cell_type": "markdown",
   "metadata": {},
   "source": [
    "## Part 3: Theory [total of 50%]"
   ]
  },
  {
   "cell_type": "markdown",
   "metadata": {},
   "source": [
    "### Question 1"
   ]
  },
  {
   "cell_type": "markdown",
   "metadata": {},
   "source": [
    "In the SLR model, the probability distribution of $Y$ (i.e., $Y_i$) has the same mean and variance for all levels of $X$ (i.e., $X_i$). True or False? Explain."
   ]
  },
  {
   "cell_type": "code",
   "execution_count": 27,
   "metadata": {
    "collapsed": true
   },
   "outputs": [
    {
     "data": {
      "text/plain": [
       "([array([  0.,   0.,   0.,   5.,  12.,  24.,  47.,  85., 110., 159., 144.,\n",
       "         138., 115.,  78.,  55.,  16.,   5.,   6.,   1.,   0.]),\n",
       "  array([  0.,   0.,   2.,   6.,   7.,  24.,  55.,  79., 131., 136., 169.,\n",
       "         139., 110.,  76.,  44.,  12.,   7.,   3.,   0.,   0.]),\n",
       "  array([  1.,   0.,   3.,   2.,  15.,  29.,  43.,  92.,  97., 125., 138.,\n",
       "         158., 122.,  94.,  36.,  29.,   9.,   5.,   1.,   1.]),\n",
       "  array([  0.,   1.,   0.,   3.,   9.,  30.,  43.,  78., 115., 151., 171.,\n",
       "         141., 126.,  67.,  41.,  13.,   8.,   3.,   0.,   0.]),\n",
       "  array([  0.,   1.,   0.,   7.,  14.,  28.,  49.,  58., 123., 150., 178.,\n",
       "         132., 114.,  67.,  43.,  24.,   7.,   4.,   0.,   1.]),\n",
       "  array([  1.,   0.,   0.,   7.,   8.,  25.,  45.,  85., 116., 124., 175.,\n",
       "         150.,  96.,  92.,  38.,  24.,   9.,   5.,   0.,   0.]),\n",
       "  array([  0.,   1.,   0.,   6.,  10.,  21.,  41.,  76., 122., 162., 177.,\n",
       "         133., 116.,  74.,  35.,  23.,   1.,   2.,   0.,   0.]),\n",
       "  array([  0.,   2.,   0.,   1.,   9.,  30.,  54.,  69., 131., 154., 134.,\n",
       "         157., 107.,  84.,  32.,  24.,   6.,   5.,   1.,   0.]),\n",
       "  array([  0.,   0.,   0.,   3.,  13.,  20.,  32.,  73., 111., 158., 172.,\n",
       "         152., 118.,  80.,  35.,  22.,   9.,   1.,   0.,   1.])],\n",
       " array([-4.25527628, -3.84717629, -3.4390763 , -3.03097631, -2.62287632,\n",
       "        -2.21477633, -1.80667634, -1.39857635, -0.99047636, -0.58237637,\n",
       "        -0.17427638,  0.23382361,  0.6419236 ,  1.05002359,  1.45812358,\n",
       "         1.86622357,  2.27432356,  2.68242355,  3.09052354,  3.49862353,\n",
       "         3.90672352]),\n",
       " <a list of 9 Lists of Patches objects>)"
      ]
     },
     "execution_count": 27,
     "metadata": {},
     "output_type": "execute_result"
    },
    {
     "data": {
      "image/png": "[encoded data removed]",
      "text/plain": [
       "<Figure size 432x288 with 1 Axes>"
      ]
     },
     "metadata": {
      "needs_background": "light"
     },
     "output_type": "display_data"
    }
   ],
   "source": []
  },
  {
   "cell_type": "markdown",
   "metadata": {
    "collapsed": true
   },
   "source": []
  },
  {
   "cell_type": "markdown",
   "metadata": {},
   "source": [
    "### Question 2"
   ]
  },
  {
   "cell_type": "markdown",
   "metadata": {},
   "source": [
    "The number of points above the fitted regression line is always equal to the number of points below it. True or False? Explain."
   ]
  },
  {
   "cell_type": "markdown",
   "metadata": {
    "collapsed": true
   },
   "source": []
  },
  {
   "cell_type": "markdown",
   "metadata": {},
   "source": [
    "### Question 3"
   ]
  },
  {
   "cell_type": "markdown",
   "metadata": {},
   "source": [
    "In a SLR model, what does $\\beta_1$ measure?  \n",
    "A: <br>\n",
    "Slope of the regression. In other words, the mean increase in the dependent variable, Y, per unit increase in the independent variable, X."
   ]
  },
  {
   "cell_type": "markdown",
   "metadata": {
    "collapsed": true
   },
   "source": []
  },
  {
   "cell_type": "markdown",
   "metadata": {},
   "source": [
    "### Question 4"
   ]
  },
  {
   "cell_type": "markdown",
   "metadata": {},
   "source": [
    "In the context of an SLR model, prove the following:\n",
    "\n",
    "- $E[Y_i] = \\beta_0 + \\beta_1 X_i$ \n",
    "- $V(Y_i) = \\sigma^2 \\hspace{5pt} \\forall \\hspace{5pt} i$ "
   ]
  },
  {
   "cell_type": "markdown",
   "metadata": {},
   "source": [
    "\\begin{align}\n",
    "Var(X) = E[(X - E[X])^2]\n",
    "\n",
    "\\end{align}\n"
   ]
  },
  {
   "cell_type": "markdown",
   "metadata": {
    "collapsed": true
   },
   "source": []
  },
  {
   "cell_type": "markdown",
   "metadata": {},
   "source": [
    "### Question 5"
   ]
  },
  {
   "cell_type": "markdown",
   "metadata": {},
   "source": [
    "For the SLR model, $Y_i = \\beta_0 + \\beta_1 X_i + \\epsilon_i$, how many random variables are there. Explain."
   ]
  },
  {
   "cell_type": "markdown",
   "metadata": {
    "collapsed": true
   },
   "source": []
  },
  {
   "cell_type": "markdown",
   "metadata": {},
   "source": [
    "### Question 6"
   ]
  },
  {
   "cell_type": "markdown",
   "metadata": {},
   "source": [
    "Write out the normal error regression model and its assumptions (in English and math)."
   ]
  },
  {
   "cell_type": "markdown",
   "metadata": {
    "collapsed": true
   },
   "source": []
  },
  {
   "cell_type": "markdown",
   "metadata": {},
   "source": [
    "### Question 7"
   ]
  },
  {
   "cell_type": "markdown",
   "metadata": {},
   "source": [
    "What does a negative value of $\\beta_1$ indicate about the relation between $X$ and $Y$?"
   ]
  },
  {
   "cell_type": "markdown",
   "metadata": {},
   "source": [
    "$$ b_0 = \\frac{1}{n} \\Big( \\sum Y_i - b_1 \\sum X_i \\Big) $$\n",
    "$$ b_1 = \\frac{\\sum (X_i - \\bar{X})(Y_i - \\bar{Y})}{\\sum (X_i - \\bar{X})^2}$$"
   ]
  },
  {
   "cell_type": "markdown",
   "metadata": {
    "collapsed": true
   },
   "source": []
  },
  {
   "cell_type": "markdown",
   "metadata": {},
   "source": [
    "### Question 8"
   ]
  },
  {
   "cell_type": "markdown",
   "metadata": {},
   "source": [
    "Are hypotheses tested concerning the actual values of the coefficients, e.g., $\\beta_1$, or their estimated values, e.g., $b_1$? Why?"
   ]
  },
  {
   "cell_type": "markdown",
   "metadata": {
    "collapsed": true
   },
   "source": []
  },
  {
   "cell_type": "markdown",
   "metadata": {},
   "source": [
    "### Question 9"
   ]
  },
  {
   "cell_type": "markdown",
   "metadata": {},
   "source": [
    "You compute a coefficient of determination for a regression model an obtain an $R^2=0.832$. What does the strength of the coefficient of determination say about the causal relationship between the explanatory and response variables?"
   ]
  },
  {
   "cell_type": "markdown",
   "metadata": {
    "collapsed": true
   },
   "source": []
  },
  {
   "cell_type": "markdown",
   "metadata": {},
   "source": [
    "### Question 10"
   ]
  },
  {
   "cell_type": "markdown",
   "metadata": {},
   "source": [
    "You compute a coefficient of determination for a regression model, regressing crime rate per capita ($Y$) on the size of municipal police force ($X$), obtaining an $R^2 = 0.6533$. What can you say about the relationship between $Y$ and $X$?"
   ]
  },
  {
   "cell_type": "markdown",
   "metadata": {
    "collapsed": true
   },
   "source": []
  },
  {
   "cell_type": "markdown",
   "metadata": {},
   "source": [
    "### Question 11"
   ]
  },
  {
   "cell_type": "markdown",
   "metadata": {},
   "source": [
    "From the discussion of SLR so far, how do you believe outliers will effect the regression line? "
   ]
  },
  {
   "cell_type": "markdown",
   "metadata": {
    "collapsed": true
   },
   "source": []
  },
  {
   "cell_type": "markdown",
   "metadata": {},
   "source": [
    "### Question 12"
   ]
  },
  {
   "cell_type": "markdown",
   "metadata": {},
   "source": [
    "Write out the hypothesis test which tests for the statistical significance of $\\beta_1$ for an SLR model. Be sure to include the null an alternate hypothesis, the critical value including degrees of freedom (two-tailed test) for $\\alpha = 0.05$ and an interpretation of both possible results. "
   ]
  },
  {
   "cell_type": "markdown",
   "metadata": {
    "collapsed": true
   },
   "source": []
  },
  {
   "cell_type": "markdown",
   "metadata": {},
   "source": [
    "### Question 13"
   ]
  },
  {
   "cell_type": "markdown",
   "metadata": {},
   "source": [
    "Using ```modified_SENIC_data_01.csv```\n",
    "1. Regress Infection Risk ($Y$) on Length of Stay ($X$). Report the $R^2$, $b_0$ and $b_1$  values.\n",
    "2. Multiply the observations, both $X$ and $Y$, by 192; we will refer to these as $X_{(2)}$ and $Y_{(2)}$. Regress $Y_{(2)}$ on $X_{(2)}$. Report the $R^2$, $b_0$ and $b_1$  values.\n",
    "3. Multiply only $Y$ by 47; we will refer to this as $Y_{(3)}$. Regress $Y_{(3)}$ on $X$. Report the $R^2$, $b_0$ and $b_1$  values.\n",
    "4. Multiply only $X$ by 12; we will refer to this as $X_{(3)}$. Regress $Y$ on $X_{(3)}$. Report the $R^2$, $b_0$ and $b_1$  values.\n",
    "\n",
    "\n",
    "**Succinctly** explain what you have gleaned from this exercise. Include a summarized tabular representation of the regression output and the associated $R^2$, $b_0$ and $b_1$ values."
   ]
  },
  {
   "cell_type": "markdown",
   "metadata": {
    "collapsed": true
   },
   "source": []
  },
  {
   "cell_type": "markdown",
   "metadata": {},
   "source": [
    "### Question 14"
   ]
  },
  {
   "cell_type": "markdown",
   "metadata": {},
   "source": [
    "Using the ```fourDataSets.csv```, regress $Y$ on $X$ for $i=1,2,3,4$, i.e., generate four separate SLR models. **For each** of the four data sets, run and report summary statistics, generate a scatter plot and run a SLR model, reporting the regression function $R^2$, $R_a^2$, and the significance of $b_1$ ($p$-value). Intelligently discuss what you observe about each data set and the data sets as a whole."
   ]
  },
  {
   "cell_type": "markdown",
   "metadata": {
    "collapsed": true
   },
   "source": []
  }
 ],
 "metadata": {
  "kernelspec": {
   "display_name": "Python 3",
   "language": "python",
   "name": "python3"
  },
  "language_info": {
   "codemirror_mode": {
    "name": "ipython",
    "version": 3
   },
   "file_extension": ".py",
   "mimetype": "text/x-python",
   "name": "python",
   "nbconvert_exporter": "python",
   "pygments_lexer": "ipython3",
   "version": "3.7.1"
  }
 },
 "nbformat": 4,
 "nbformat_minor": 2
}
